{
 "cells": [
  {
   "cell_type": "markdown",
   "id": "80f98c7a-ffae-4974-a557-9a667b8d7adc",
   "metadata": {},
   "source": [
    "# QBio202 - SS 2023 - Exercises 1\n",
    "\n",
    "**Author:** Ingo Giebel, Matr.-Nr.: 3050992"
   ]
  },
  {
   "cell_type": "code",
   "execution_count": 1,
   "id": "b3bdce1c-c4f7-46d7-ad51-3419bd8ce34c",
   "metadata": {
    "tags": []
   },
   "outputs": [],
   "source": [
    "from spb import BB\n",
    "from spb.functions import plot\n",
    "from sympy import exp\n",
    "from sympy import Function\n",
    "from sympy import symbols\n",
    "from sympy.solvers import ode"
   ]
  },
  {
   "cell_type": "code",
   "execution_count": 2,
   "id": "7b29f623-b55f-4ff2-9d46-45d10bbd819a",
   "metadata": {
    "tags": []
   },
   "outputs": [],
   "source": [
    "t = symbols(\"t\")\n",
    "y = Function(\"y\")"
   ]
  },
  {
   "cell_type": "markdown",
   "id": "8ea1994c-ac05-479d-a102-b1d62005aa12",
   "metadata": {},
   "source": [
    "## Task 2: Initial Value Problems $y(0) = 1$ and $y(0) = -1$"
   ]
  },
  {
   "cell_type": "markdown",
   "id": "f54b8be4-3899-49ed-a42c-d9bd3b0a5f7b",
   "metadata": {},
   "source": [
    "### a) $\\frac{\\mathrm{d}y}{\\mathrm{d}t} = -y$"
   ]
  },
  {
   "cell_type": "code",
   "execution_count": 3,
   "id": "38c9964c-743b-4349-b431-2adb21a4f6b5",
   "metadata": {
    "tags": []
   },
   "outputs": [
    {
     "data": {
      "text/latex": [
       "$\\displaystyle y{\\left(t \\right)} + \\frac{d}{d t} y{\\left(t \\right)}$"
      ],
      "text/plain": [
       "y(t) + Derivative(y(t), t)"
      ]
     },
     "execution_count": 3,
     "metadata": {},
     "output_type": "execute_result"
    }
   ],
   "source": [
    "eqn = y(t).diff(t) + y(t)\n",
    "eqn"
   ]
  },
  {
   "cell_type": "code",
   "execution_count": 4,
   "id": "1e0ceda0-136c-48dd-90eb-9fcbccb11e31",
   "metadata": {
    "tags": []
   },
   "outputs": [
    {
     "data": {
      "text/plain": [
       "('separable',\n",
       " '1st_exact',\n",
       " '1st_linear',\n",
       " 'Bernoulli',\n",
       " 'almost_linear',\n",
       " '1st_power_series',\n",
       " 'lie_group',\n",
       " 'nth_linear_constant_coeff_homogeneous',\n",
       " 'separable_Integral',\n",
       " '1st_exact_Integral',\n",
       " '1st_linear_Integral',\n",
       " 'Bernoulli_Integral',\n",
       " 'almost_linear_Integral')"
      ]
     },
     "execution_count": 4,
     "metadata": {},
     "output_type": "execute_result"
    }
   ],
   "source": [
    "ode.classify_ode(eqn)"
   ]
  },
  {
   "cell_type": "markdown",
   "id": "d170d4ad-993c-4f74-bfe0-3b9ade36084e",
   "metadata": {
    "tags": []
   },
   "source": [
    "#### $y(0) = 1$:"
   ]
  },
  {
   "cell_type": "code",
   "execution_count": 5,
   "id": "e07ba069-0382-450a-a2f7-4be682026c85",
   "metadata": {
    "tags": []
   },
   "outputs": [
    {
     "data": {
      "text/latex": [
       "$\\displaystyle y{\\left(t \\right)} = e^{- t}$"
      ],
      "text/plain": [
       "Eq(y(t), exp(-t))"
      ]
     },
     "execution_count": 5,
     "metadata": {},
     "output_type": "execute_result"
    }
   ],
   "source": [
    "sol1 = ode.dsolve(eqn, ics={y(0): 1}, hint=\"separable\")\n",
    "sol1"
   ]
  },
  {
   "cell_type": "markdown",
   "id": "82f4f503-1348-4b02-af3d-5d2c401a8026",
   "metadata": {
    "tags": []
   },
   "source": [
    "#### $y(0) = -1$:"
   ]
  },
  {
   "cell_type": "code",
   "execution_count": 6,
   "id": "434eb711-c993-4161-b5aa-cb2d962f1386",
   "metadata": {
    "tags": []
   },
   "outputs": [
    {
     "data": {
      "text/latex": [
       "$\\displaystyle y{\\left(t \\right)} = - e^{- t}$"
      ],
      "text/plain": [
       "Eq(y(t), -exp(-t))"
      ]
     },
     "execution_count": 6,
     "metadata": {},
     "output_type": "execute_result"
    }
   ],
   "source": [
    "sol2 = ode.dsolve(eqn, ics={y(0): -1}, hint=\"separable\")\n",
    "sol2"
   ]
  },
  {
   "cell_type": "markdown",
   "id": "dd0dfe8e-2eec-4861-9c41-db4423bbaa2f",
   "metadata": {},
   "source": [
    "#### Plotting the two solutions in the same graph"
   ]
  },
  {
   "cell_type": "code",
   "execution_count": 7,
   "id": "9c6df9a5-4cc0-456c-aaa8-f3335041e7e7",
   "metadata": {
    "tags": []
   },
   "outputs": [
    {
     "data": {
      "application/javascript": [
       "(function(root) {\n",
       "  function now() {\n",
       "    return new Date();\n",
       "  }\n",
       "\n",
       "  const force = true;\n",
       "\n",
       "  if (typeof root._bokeh_onload_callbacks === \"undefined\" || force === true) {\n",
       "    root._bokeh_onload_callbacks = [];\n",
       "    root._bokeh_is_loading = undefined;\n",
       "  }\n",
       "\n",
       "const JS_MIME_TYPE = 'application/javascript';\n",
       "  const HTML_MIME_TYPE = 'text/html';\n",
       "  const EXEC_MIME_TYPE = 'application/vnd.bokehjs_exec.v0+json';\n",
       "  const CLASS_NAME = 'output_bokeh rendered_html';\n",
       "\n",
       "  /**\n",
       "   * Render data to the DOM node\n",
       "   */\n",
       "  function render(props, node) {\n",
       "    const script = document.createElement(\"script\");\n",
       "    node.appendChild(script);\n",
       "  }\n",
       "\n",
       "  /**\n",
       "   * Handle when an output is cleared or removed\n",
       "   */\n",
       "  function handleClearOutput(event, handle) {\n",
       "    const cell = handle.cell;\n",
       "\n",
       "    const id = cell.output_area._bokeh_element_id;\n",
       "    const server_id = cell.output_area._bokeh_server_id;\n",
       "    // Clean up Bokeh references\n",
       "    if (id != null && id in Bokeh.index) {\n",
       "      Bokeh.index[id].model.document.clear();\n",
       "      delete Bokeh.index[id];\n",
       "    }\n",
       "\n",
       "    if (server_id !== undefined) {\n",
       "      // Clean up Bokeh references\n",
       "      const cmd_clean = \"from bokeh.io.state import curstate; print(curstate().uuid_to_server['\" + server_id + \"'].get_sessions()[0].document.roots[0]._id)\";\n",
       "      cell.notebook.kernel.execute(cmd_clean, {\n",
       "        iopub: {\n",
       "          output: function(msg) {\n",
       "            const id = msg.content.text.trim();\n",
       "            if (id in Bokeh.index) {\n",
       "              Bokeh.index[id].model.document.clear();\n",
       "              delete Bokeh.index[id];\n",
       "            }\n",
       "          }\n",
       "        }\n",
       "      });\n",
       "      // Destroy server and session\n",
       "      const cmd_destroy = \"import bokeh.io.notebook as ion; ion.destroy_server('\" + server_id + \"')\";\n",
       "      cell.notebook.kernel.execute(cmd_destroy);\n",
       "    }\n",
       "  }\n",
       "\n",
       "  /**\n",
       "   * Handle when a new output is added\n",
       "   */\n",
       "  function handleAddOutput(event, handle) {\n",
       "    const output_area = handle.output_area;\n",
       "    const output = handle.output;\n",
       "\n",
       "    // limit handleAddOutput to display_data with EXEC_MIME_TYPE content only\n",
       "    if ((output.output_type != \"display_data\") || (!Object.prototype.hasOwnProperty.call(output.data, EXEC_MIME_TYPE))) {\n",
       "      return\n",
       "    }\n",
       "\n",
       "    const toinsert = output_area.element.find(\".\" + CLASS_NAME.split(' ')[0]);\n",
       "\n",
       "    if (output.metadata[EXEC_MIME_TYPE][\"id\"] !== undefined) {\n",
       "      toinsert[toinsert.length - 1].firstChild.textContent = output.data[JS_MIME_TYPE];\n",
       "      // store reference to embed id on output_area\n",
       "      output_area._bokeh_element_id = output.metadata[EXEC_MIME_TYPE][\"id\"];\n",
       "    }\n",
       "    if (output.metadata[EXEC_MIME_TYPE][\"server_id\"] !== undefined) {\n",
       "      const bk_div = document.createElement(\"div\");\n",
       "      bk_div.innerHTML = output.data[HTML_MIME_TYPE];\n",
       "      const script_attrs = bk_div.children[0].attributes;\n",
       "      for (let i = 0; i < script_attrs.length; i++) {\n",
       "        toinsert[toinsert.length - 1].firstChild.setAttribute(script_attrs[i].name, script_attrs[i].value);\n",
       "        toinsert[toinsert.length - 1].firstChild.textContent = bk_div.children[0].textContent\n",
       "      }\n",
       "      // store reference to server id on output_area\n",
       "      output_area._bokeh_server_id = output.metadata[EXEC_MIME_TYPE][\"server_id\"];\n",
       "    }\n",
       "  }\n",
       "\n",
       "  function register_renderer(events, OutputArea) {\n",
       "\n",
       "    function append_mime(data, metadata, element) {\n",
       "      // create a DOM node to render to\n",
       "      const toinsert = this.create_output_subarea(\n",
       "        metadata,\n",
       "        CLASS_NAME,\n",
       "        EXEC_MIME_TYPE\n",
       "      );\n",
       "      this.keyboard_manager.register_events(toinsert);\n",
       "      // Render to node\n",
       "      const props = {data: data, metadata: metadata[EXEC_MIME_TYPE]};\n",
       "      render(props, toinsert[toinsert.length - 1]);\n",
       "      element.append(toinsert);\n",
       "      return toinsert\n",
       "    }\n",
       "\n",
       "    /* Handle when an output is cleared or removed */\n",
       "    events.on('clear_output.CodeCell', handleClearOutput);\n",
       "    events.on('delete.Cell', handleClearOutput);\n",
       "\n",
       "    /* Handle when a new output is added */\n",
       "    events.on('output_added.OutputArea', handleAddOutput);\n",
       "\n",
       "    /**\n",
       "     * Register the mime type and append_mime function with output_area\n",
       "     */\n",
       "    OutputArea.prototype.register_mime_type(EXEC_MIME_TYPE, append_mime, {\n",
       "      /* Is output safe? */\n",
       "      safe: true,\n",
       "      /* Index of renderer in `output_area.display_order` */\n",
       "      index: 0\n",
       "    });\n",
       "  }\n",
       "\n",
       "  // register the mime type if in Jupyter Notebook environment and previously unregistered\n",
       "  if (root.Jupyter !== undefined) {\n",
       "    const events = require('base/js/events');\n",
       "    const OutputArea = require('notebook/js/outputarea').OutputArea;\n",
       "\n",
       "    if (OutputArea.prototype.mime_types().indexOf(EXEC_MIME_TYPE) == -1) {\n",
       "      register_renderer(events, OutputArea);\n",
       "    }\n",
       "  }\n",
       "  if (typeof (root._bokeh_timeout) === \"undefined\" || force === true) {\n",
       "    root._bokeh_timeout = Date.now() + 5000;\n",
       "    root._bokeh_failed_load = false;\n",
       "  }\n",
       "\n",
       "  const NB_LOAD_WARNING = {'data': {'text/html':\n",
       "     \"<div style='background-color: #fdd'>\\n\"+\n",
       "     \"<p>\\n\"+\n",
       "     \"BokehJS does not appear to have successfully loaded. If loading BokehJS from CDN, this \\n\"+\n",
       "     \"may be due to a slow or bad network connection. Possible fixes:\\n\"+\n",
       "     \"</p>\\n\"+\n",
       "     \"<ul>\\n\"+\n",
       "     \"<li>re-rerun `output_notebook()` to attempt to load from CDN again, or</li>\\n\"+\n",
       "     \"<li>use INLINE resources instead, as so:</li>\\n\"+\n",
       "     \"</ul>\\n\"+\n",
       "     \"<code>\\n\"+\n",
       "     \"from bokeh.resources import INLINE\\n\"+\n",
       "     \"output_notebook(resources=INLINE)\\n\"+\n",
       "     \"</code>\\n\"+\n",
       "     \"</div>\"}};\n",
       "\n",
       "  function display_loaded() {\n",
       "    const el = document.getElementById(null);\n",
       "    if (el != null) {\n",
       "      el.textContent = \"BokehJS is loading...\";\n",
       "    }\n",
       "    if (root.Bokeh !== undefined) {\n",
       "      if (el != null) {\n",
       "        el.textContent = \"BokehJS \" + root.Bokeh.version + \" successfully loaded.\";\n",
       "      }\n",
       "    } else if (Date.now() < root._bokeh_timeout) {\n",
       "      setTimeout(display_loaded, 100)\n",
       "    }\n",
       "  }\n",
       "\n",
       "  function run_callbacks() {\n",
       "    try {\n",
       "      root._bokeh_onload_callbacks.forEach(function(callback) {\n",
       "        if (callback != null)\n",
       "          callback();\n",
       "      });\n",
       "    } finally {\n",
       "      delete root._bokeh_onload_callbacks\n",
       "    }\n",
       "    console.debug(\"Bokeh: all callbacks have finished\");\n",
       "  }\n",
       "\n",
       "  function load_libs(css_urls, js_urls, callback) {\n",
       "    if (css_urls == null) css_urls = [];\n",
       "    if (js_urls == null) js_urls = [];\n",
       "\n",
       "    root._bokeh_onload_callbacks.push(callback);\n",
       "    if (root._bokeh_is_loading > 0) {\n",
       "      console.debug(\"Bokeh: BokehJS is being loaded, scheduling callback at\", now());\n",
       "      return null;\n",
       "    }\n",
       "    if (js_urls == null || js_urls.length === 0) {\n",
       "      run_callbacks();\n",
       "      return null;\n",
       "    }\n",
       "    console.debug(\"Bokeh: BokehJS not loaded, scheduling load and callback at\", now());\n",
       "    root._bokeh_is_loading = css_urls.length + js_urls.length;\n",
       "\n",
       "    function on_load() {\n",
       "      root._bokeh_is_loading--;\n",
       "      if (root._bokeh_is_loading === 0) {\n",
       "        console.debug(\"Bokeh: all BokehJS libraries/stylesheets loaded\");\n",
       "        run_callbacks()\n",
       "      }\n",
       "    }\n",
       "\n",
       "    function on_error(url) {\n",
       "      console.error(\"failed to load \" + url);\n",
       "    }\n",
       "\n",
       "    for (let i = 0; i < css_urls.length; i++) {\n",
       "      const url = css_urls[i];\n",
       "      const element = document.createElement(\"link\");\n",
       "      element.onload = on_load;\n",
       "      element.onerror = on_error.bind(null, url);\n",
       "      element.rel = \"stylesheet\";\n",
       "      element.type = \"text/css\";\n",
       "      element.href = url;\n",
       "      console.debug(\"Bokeh: injecting link tag for BokehJS stylesheet: \", url);\n",
       "      document.body.appendChild(element);\n",
       "    }\n",
       "\n",
       "    for (let i = 0; i < js_urls.length; i++) {\n",
       "      const url = js_urls[i];\n",
       "      const element = document.createElement('script');\n",
       "      element.onload = on_load;\n",
       "      element.onerror = on_error.bind(null, url);\n",
       "      element.async = false;\n",
       "      element.src = url;\n",
       "      console.debug(\"Bokeh: injecting script tag for BokehJS library: \", url);\n",
       "      document.head.appendChild(element);\n",
       "    }\n",
       "  };\n",
       "\n",
       "  function inject_raw_css(css) {\n",
       "    const element = document.createElement(\"style\");\n",
       "    element.appendChild(document.createTextNode(css));\n",
       "    document.body.appendChild(element);\n",
       "  }\n",
       "\n",
       "  const js_urls = [\"https://cdn.bokeh.org/bokeh/release/bokeh-2.4.3.min.js\", \"https://cdn.bokeh.org/bokeh/release/bokeh-gl-2.4.3.min.js\", \"https://cdn.bokeh.org/bokeh/release/bokeh-widgets-2.4.3.min.js\", \"https://cdn.bokeh.org/bokeh/release/bokeh-tables-2.4.3.min.js\", \"https://cdn.bokeh.org/bokeh/release/bokeh-mathjax-2.4.3.min.js\"];\n",
       "  const css_urls = [];\n",
       "\n",
       "  const inline_js = [    function(Bokeh) {\n",
       "      Bokeh.set_log_level(\"info\");\n",
       "    },\n",
       "function(Bokeh) {\n",
       "    }\n",
       "  ];\n",
       "\n",
       "  function run_inline_js() {\n",
       "    if (root.Bokeh !== undefined || force === true) {\n",
       "          for (let i = 0; i < inline_js.length; i++) {\n",
       "      inline_js[i].call(root, root.Bokeh);\n",
       "    }\n",
       "} else if (Date.now() < root._bokeh_timeout) {\n",
       "      setTimeout(run_inline_js, 100);\n",
       "    } else if (!root._bokeh_failed_load) {\n",
       "      console.log(\"Bokeh: BokehJS failed to load within specified timeout.\");\n",
       "      root._bokeh_failed_load = true;\n",
       "    } else if (force !== true) {\n",
       "      const cell = $(document.getElementById(null)).parents('.cell').data().cell;\n",
       "      cell.output_area.append_execute_result(NB_LOAD_WARNING)\n",
       "    }\n",
       "  }\n",
       "\n",
       "  if (root._bokeh_is_loading === 0) {\n",
       "    console.debug(\"Bokeh: BokehJS loaded, going straight to plotting\");\n",
       "    run_inline_js();\n",
       "  } else {\n",
       "    load_libs(css_urls, js_urls, function() {\n",
       "      console.debug(\"Bokeh: BokehJS plotting callback run at\", now());\n",
       "      run_inline_js();\n",
       "    });\n",
       "  }\n",
       "}(window));"
      ],
      "application/vnd.bokehjs_load.v0+json": "(function(root) {\n  function now() {\n    return new Date();\n  }\n\n  const force = true;\n\n  if (typeof root._bokeh_onload_callbacks === \"undefined\" || force === true) {\n    root._bokeh_onload_callbacks = [];\n    root._bokeh_is_loading = undefined;\n  }\n\n\n  if (typeof (root._bokeh_timeout) === \"undefined\" || force === true) {\n    root._bokeh_timeout = Date.now() + 5000;\n    root._bokeh_failed_load = false;\n  }\n\n  const NB_LOAD_WARNING = {'data': {'text/html':\n     \"<div style='background-color: #fdd'>\\n\"+\n     \"<p>\\n\"+\n     \"BokehJS does not appear to have successfully loaded. If loading BokehJS from CDN, this \\n\"+\n     \"may be due to a slow or bad network connection. Possible fixes:\\n\"+\n     \"</p>\\n\"+\n     \"<ul>\\n\"+\n     \"<li>re-rerun `output_notebook()` to attempt to load from CDN again, or</li>\\n\"+\n     \"<li>use INLINE resources instead, as so:</li>\\n\"+\n     \"</ul>\\n\"+\n     \"<code>\\n\"+\n     \"from bokeh.resources import INLINE\\n\"+\n     \"output_notebook(resources=INLINE)\\n\"+\n     \"</code>\\n\"+\n     \"</div>\"}};\n\n  function display_loaded() {\n    const el = document.getElementById(null);\n    if (el != null) {\n      el.textContent = \"BokehJS is loading...\";\n    }\n    if (root.Bokeh !== undefined) {\n      if (el != null) {\n        el.textContent = \"BokehJS \" + root.Bokeh.version + \" successfully loaded.\";\n      }\n    } else if (Date.now() < root._bokeh_timeout) {\n      setTimeout(display_loaded, 100)\n    }\n  }\n\n  function run_callbacks() {\n    try {\n      root._bokeh_onload_callbacks.forEach(function(callback) {\n        if (callback != null)\n          callback();\n      });\n    } finally {\n      delete root._bokeh_onload_callbacks\n    }\n    console.debug(\"Bokeh: all callbacks have finished\");\n  }\n\n  function load_libs(css_urls, js_urls, callback) {\n    if (css_urls == null) css_urls = [];\n    if (js_urls == null) js_urls = [];\n\n    root._bokeh_onload_callbacks.push(callback);\n    if (root._bokeh_is_loading > 0) {\n      console.debug(\"Bokeh: BokehJS is being loaded, scheduling callback at\", now());\n      return null;\n    }\n    if (js_urls == null || js_urls.length === 0) {\n      run_callbacks();\n      return null;\n    }\n    console.debug(\"Bokeh: BokehJS not loaded, scheduling load and callback at\", now());\n    root._bokeh_is_loading = css_urls.length + js_urls.length;\n\n    function on_load() {\n      root._bokeh_is_loading--;\n      if (root._bokeh_is_loading === 0) {\n        console.debug(\"Bokeh: all BokehJS libraries/stylesheets loaded\");\n        run_callbacks()\n      }\n    }\n\n    function on_error(url) {\n      console.error(\"failed to load \" + url);\n    }\n\n    for (let i = 0; i < css_urls.length; i++) {\n      const url = css_urls[i];\n      const element = document.createElement(\"link\");\n      element.onload = on_load;\n      element.onerror = on_error.bind(null, url);\n      element.rel = \"stylesheet\";\n      element.type = \"text/css\";\n      element.href = url;\n      console.debug(\"Bokeh: injecting link tag for BokehJS stylesheet: \", url);\n      document.body.appendChild(element);\n    }\n\n    for (let i = 0; i < js_urls.length; i++) {\n      const url = js_urls[i];\n      const element = document.createElement('script');\n      element.onload = on_load;\n      element.onerror = on_error.bind(null, url);\n      element.async = false;\n      element.src = url;\n      console.debug(\"Bokeh: injecting script tag for BokehJS library: \", url);\n      document.head.appendChild(element);\n    }\n  };\n\n  function inject_raw_css(css) {\n    const element = document.createElement(\"style\");\n    element.appendChild(document.createTextNode(css));\n    document.body.appendChild(element);\n  }\n\n  const js_urls = [\"https://cdn.bokeh.org/bokeh/release/bokeh-2.4.3.min.js\", \"https://cdn.bokeh.org/bokeh/release/bokeh-gl-2.4.3.min.js\", \"https://cdn.bokeh.org/bokeh/release/bokeh-widgets-2.4.3.min.js\", \"https://cdn.bokeh.org/bokeh/release/bokeh-tables-2.4.3.min.js\", \"https://cdn.bokeh.org/bokeh/release/bokeh-mathjax-2.4.3.min.js\"];\n  const css_urls = [];\n\n  const inline_js = [    function(Bokeh) {\n      Bokeh.set_log_level(\"info\");\n    },\nfunction(Bokeh) {\n    }\n  ];\n\n  function run_inline_js() {\n    if (root.Bokeh !== undefined || force === true) {\n          for (let i = 0; i < inline_js.length; i++) {\n      inline_js[i].call(root, root.Bokeh);\n    }\n} else if (Date.now() < root._bokeh_timeout) {\n      setTimeout(run_inline_js, 100);\n    } else if (!root._bokeh_failed_load) {\n      console.log(\"Bokeh: BokehJS failed to load within specified timeout.\");\n      root._bokeh_failed_load = true;\n    } else if (force !== true) {\n      const cell = $(document.getElementById(null)).parents('.cell').data().cell;\n      cell.output_area.append_execute_result(NB_LOAD_WARNING)\n    }\n  }\n\n  if (root._bokeh_is_loading === 0) {\n    console.debug(\"Bokeh: BokehJS loaded, going straight to plotting\");\n    run_inline_js();\n  } else {\n    load_libs(css_urls, js_urls, function() {\n      console.debug(\"Bokeh: BokehJS plotting callback run at\", now());\n      run_inline_js();\n    });\n  }\n}(window));"
     },
     "metadata": {},
     "output_type": "display_data"
    },
    {
     "data": {
      "text/html": [
       "\n",
       "  <div class=\"bk-root\" id=\"74871ff1-81eb-4e45-bf42-c7563a51f5d2\" data-root-id=\"1002\"></div>\n"
      ]
     },
     "metadata": {},
     "output_type": "display_data"
    },
    {
     "data": {
      "application/javascript": [
       "(function(root) {\n",
       "  function embed_document(root) {\n",
       "  const docs_json = {\"ae3ab128-f278-4279-b518-02d20a9e6c58\":{\"defs\":[],\"roots\":{\"references\":[{\"attributes\":{\"below\":[{\"id\":\"1013\"}],\"center\":[{\"id\":\"1016\"},{\"id\":\"1020\"},{\"id\":\"1052\"}],\"height\":400,\"left\":[{\"id\":\"1017\"}],\"renderers\":[{\"id\":\"1040\"},{\"id\":\"1059\"}],\"right\":[{\"id\":\"1052\"}],\"sizing_mode\":\"stretch_width\",\"title\":{\"id\":\"1003\"},\"toolbar\":{\"id\":\"1028\"},\"x_range\":{\"id\":\"1005\"},\"x_scale\":{\"id\":\"1009\"},\"y_range\":{\"id\":\"1007\"},\"y_scale\":{\"id\":\"1011\"}},\"id\":\"1002\",\"subtype\":\"Figure\",\"type\":\"Plot\"},{\"attributes\":{\"source\":{\"id\":\"1035\"}},\"id\":\"1041\",\"type\":\"CDSView\"},{\"attributes\":{},\"id\":\"1014\",\"type\":\"BasicTicker\"},{\"attributes\":{},\"id\":\"1007\",\"type\":\"DataRange1d\"},{\"attributes\":{\"axis_label\":\"t\",\"axis_label_standoff\":10,\"axis_label_text_color\":\"#5B5B5B\",\"axis_label_text_font\":\"Calibri Light\",\"axis_label_text_font_size\":\"1.15em\",\"axis_label_text_font_style\":\"bold\",\"axis_line_alpha\":1,\"axis_line_color\":\"#5B5B5B\",\"coordinates\":null,\"formatter\":{\"id\":\"1047\"},\"group\":null,\"major_label_policy\":{\"id\":\"1048\"},\"major_label_text_color\":\"#5B5B5B\",\"major_label_text_font\":\"Calibri Light\",\"major_label_text_font_size\":\"0.95em\",\"major_label_text_font_style\":\"bold\",\"major_tick_in\":0,\"major_tick_line_alpha\":0.25,\"major_tick_line_color\":\"#5B5B5B\",\"major_tick_out\":3,\"minor_tick_line_alpha\":0.25,\"minor_tick_line_color\":\"#5B5B5B\",\"ticker\":{\"id\":\"1014\"}},\"id\":\"1013\",\"type\":\"LinearAxis\"},{\"attributes\":{},\"id\":\"1011\",\"type\":\"LinearScale\"},{\"attributes\":{\"callback\":null,\"tooltips\":[[\"x\",\"$x\"],[\"y\",\"$y\"]]},\"id\":\"1025\",\"type\":\"HoverTool\"},{\"attributes\":{\"axis\":{\"id\":\"1013\"},\"coordinates\":null,\"group\":null,\"minor_grid_line_alpha\":0.6,\"minor_grid_line_color\":\"#e5e5e5\",\"minor_grid_line_dash\":[2,2],\"ticker\":null},\"id\":\"1016\",\"type\":\"Grid\"},{\"attributes\":{\"line_color\":\"#1f77b4\",\"line_width\":2,\"x\":{\"field\":\"xs\"},\"y\":{\"field\":\"ys\"}},\"id\":\"1037\",\"type\":\"Line\"},{\"attributes\":{\"coordinates\":null,\"group\":null,\"text\":\"Initial value problems y' = -y\",\"text_color\":\"#5B5B5B\",\"text_font\":\"Calibri Light\",\"text_font_size\":\"1.25em\",\"text_font_style\":\"bold\"},\"id\":\"1003\",\"type\":\"Title\"},{\"attributes\":{},\"id\":\"1044\",\"type\":\"BasicTickFormatter\"},{\"attributes\":{\"label\":{\"value\":\"y =  exp(-t)\"},\"renderers\":[{\"id\":\"1040\"}]},\"id\":\"1053\",\"type\":\"LegendItem\"},{\"attributes\":{\"label\":{\"value\":\"y = -exp(-t)\"},\"renderers\":[{\"id\":\"1059\"}]},\"id\":\"1073\",\"type\":\"LegendItem\"},{\"attributes\":{\"line_alpha\":0.2,\"line_color\":\"#1f77b4\",\"line_width\":2,\"x\":{\"field\":\"xs\"},\"y\":{\"field\":\"ys\"}},\"id\":\"1039\",\"type\":\"Line\"},{\"attributes\":{},\"id\":\"1018\",\"type\":\"BasicTicker\"},{\"attributes\":{},\"id\":\"1026\",\"type\":\"SaveTool\"},{\"attributes\":{},\"id\":\"1009\",\"type\":\"LinearScale\"},{\"attributes\":{},\"id\":\"1005\",\"type\":\"DataRange1d\"},{\"attributes\":{},\"id\":\"1071\",\"type\":\"Selection\"},{\"attributes\":{},\"id\":\"1022\",\"type\":\"WheelZoomTool\"},{\"attributes\":{},\"id\":\"1047\",\"type\":\"BasicTickFormatter\"},{\"attributes\":{},\"id\":\"1070\",\"type\":\"UnionRenderers\"},{\"attributes\":{\"coordinates\":null,\"data_source\":{\"id\":\"1054\"},\"glyph\":{\"id\":\"1056\"},\"group\":null,\"hover_glyph\":null,\"muted_glyph\":{\"id\":\"1058\"},\"nonselection_glyph\":{\"id\":\"1057\"},\"view\":{\"id\":\"1060\"}},\"id\":\"1059\",\"type\":\"GlyphRenderer\"},{\"attributes\":{\"axis_label\":\"y\",\"axis_label_standoff\":10,\"axis_label_text_color\":\"#5B5B5B\",\"axis_label_text_font\":\"Calibri Light\",\"axis_label_text_font_size\":\"1.15em\",\"axis_label_text_font_style\":\"bold\",\"axis_line_alpha\":1,\"axis_line_color\":\"#5B5B5B\",\"coordinates\":null,\"formatter\":{\"id\":\"1044\"},\"group\":null,\"major_label_policy\":{\"id\":\"1045\"},\"major_label_text_color\":\"#5B5B5B\",\"major_label_text_font\":\"Calibri Light\",\"major_label_text_font_size\":\"0.95em\",\"major_label_text_font_style\":\"bold\",\"major_tick_in\":0,\"major_tick_line_alpha\":0.25,\"major_tick_line_color\":\"#5B5B5B\",\"major_tick_out\":3,\"minor_tick_line_alpha\":0.25,\"minor_tick_line_color\":\"#5B5B5B\",\"ticker\":{\"id\":\"1018\"}},\"id\":\"1017\",\"type\":\"LinearAxis\"},{\"attributes\":{\"line_alpha\":0.1,\"line_color\":\"#ff7f0e\",\"line_width\":2,\"x\":{\"field\":\"xs\"},\"y\":{\"field\":\"ys\"}},\"id\":\"1057\",\"type\":\"Line\"},{\"attributes\":{\"tools\":[{\"id\":\"1021\"},{\"id\":\"1022\"},{\"id\":\"1023\"},{\"id\":\"1024\"},{\"id\":\"1025\"},{\"id\":\"1026\"}]},\"id\":\"1028\",\"type\":\"Toolbar\"},{\"attributes\":{\"axis\":{\"id\":\"1017\"},\"coordinates\":null,\"dimension\":1,\"group\":null,\"minor_grid_line_alpha\":0.6,\"minor_grid_line_color\":\"#e5e5e5\",\"minor_grid_line_dash\":[2,2],\"ticker\":null},\"id\":\"1020\",\"type\":\"Grid\"},{\"attributes\":{\"data\":{\"xs\":{\"__ndarray__\":\"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\",\"dtype\":\"float64\",\"order\":\"little\",\"shape\":[233]},\"ys\":{\"__ndarray__\":\"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\",\"dtype\":\"float64\",\"order\":\"little\",\"shape\":[233]}},\"selected\":{\"id\":\"1071\"},\"selection_policy\":{\"id\":\"1070\"}},\"id\":\"1054\",\"type\":\"ColumnDataSource\"},{\"attributes\":{},\"id\":\"1045\",\"type\":\"AllLabels\"},{\"attributes\":{},\"id\":\"1049\",\"type\":\"UnionRenderers\"},{\"attributes\":{\"data\":{\"xs\":{\"__ndarray__\":\"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\",\"dtype\":\"float64\",\"order\":\"little\",\"shape\":[233]},\"ys\":{\"__ndarray__\":\"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\",\"dtype\":\"float64\",\"order\":\"little\",\"shape\":[233]}},\"selected\":{\"id\":\"1050\"},\"selection_policy\":{\"id\":\"1049\"}},\"id\":\"1035\",\"type\":\"ColumnDataSource\"},{\"attributes\":{\"line_alpha\":0.2,\"line_color\":\"#ff7f0e\",\"line_width\":2,\"x\":{\"field\":\"xs\"},\"y\":{\"field\":\"ys\"}},\"id\":\"1058\",\"type\":\"Line\"},{\"attributes\":{},\"id\":\"1021\",\"type\":\"PanTool\"},{\"attributes\":{},\"id\":\"1024\",\"type\":\"ResetTool\"},{\"attributes\":{},\"id\":\"1050\",\"type\":\"Selection\"},{\"attributes\":{\"line_alpha\":0.1,\"line_color\":\"#1f77b4\",\"line_width\":2,\"x\":{\"field\":\"xs\"},\"y\":{\"field\":\"ys\"}},\"id\":\"1038\",\"type\":\"Line\"},{\"attributes\":{},\"id\":\"1048\",\"type\":\"AllLabels\"},{\"attributes\":{\"coordinates\":null,\"data_source\":{\"id\":\"1035\"},\"glyph\":{\"id\":\"1037\"},\"group\":null,\"hover_glyph\":null,\"muted_glyph\":{\"id\":\"1039\"},\"nonselection_glyph\":{\"id\":\"1038\"},\"view\":{\"id\":\"1041\"}},\"id\":\"1040\",\"type\":\"GlyphRenderer\"},{\"attributes\":{\"source\":{\"id\":\"1054\"}},\"id\":\"1060\",\"type\":\"CDSView\"},{\"attributes\":{\"background_fill_alpha\":0.25,\"border_line_alpha\":0,\"click_policy\":\"hide\",\"coordinates\":null,\"glyph_width\":15,\"group\":null,\"items\":[{\"id\":\"1053\"},{\"id\":\"1073\"}],\"label_standoff\":8,\"label_text_color\":\"#5B5B5B\",\"label_text_font\":\"Calibri Light\",\"label_text_font_size\":\"0.95em\",\"label_text_font_style\":\"bold\",\"spacing\":8},\"id\":\"1052\",\"type\":\"Legend\"},{\"attributes\":{\"bottom_units\":\"screen\",\"coordinates\":null,\"fill_alpha\":0.5,\"fill_color\":\"lightgrey\",\"group\":null,\"left_units\":\"screen\",\"level\":\"overlay\",\"line_alpha\":1.0,\"line_color\":\"black\",\"line_dash\":[4,4],\"line_width\":2,\"right_units\":\"screen\",\"syncable\":false,\"top_units\":\"screen\"},\"id\":\"1027\",\"type\":\"BoxAnnotation\"},{\"attributes\":{\"line_color\":\"#ff7f0e\",\"line_width\":2,\"x\":{\"field\":\"xs\"},\"y\":{\"field\":\"ys\"}},\"id\":\"1056\",\"type\":\"Line\"},{\"attributes\":{\"overlay\":{\"id\":\"1027\"}},\"id\":\"1023\",\"type\":\"BoxZoomTool\"}],\"root_ids\":[\"1002\"]},\"title\":\"Bokeh Application\",\"version\":\"2.4.3\"}};\n",
       "  const render_items = [{\"docid\":\"ae3ab128-f278-4279-b518-02d20a9e6c58\",\"root_ids\":[\"1002\"],\"roots\":{\"1002\":\"74871ff1-81eb-4e45-bf42-c7563a51f5d2\"}}];\n",
       "  root.Bokeh.embed.embed_items_notebook(docs_json, render_items);\n",
       "  }\n",
       "  if (root.Bokeh !== undefined) {\n",
       "    embed_document(root);\n",
       "  } else {\n",
       "    let attempts = 0;\n",
       "    const timer = setInterval(function(root) {\n",
       "      if (root.Bokeh !== undefined) {\n",
       "        clearInterval(timer);\n",
       "        embed_document(root);\n",
       "      } else {\n",
       "        attempts++;\n",
       "        if (attempts > 100) {\n",
       "          clearInterval(timer);\n",
       "          console.log(\"Bokeh: ERROR: Unable to run BokehJS code because BokehJS library is missing\");\n",
       "        }\n",
       "      }\n",
       "    }, 10, root)\n",
       "  }\n",
       "})(window);"
      ],
      "application/vnd.bokehjs_exec.v0+json": ""
     },
     "metadata": {
      "application/vnd.bokehjs_exec.v0+json": {
       "id": "1002"
      }
     },
     "output_type": "display_data"
    },
    {
     "data": {
      "text/plain": [
       "<spb.backends.bokeh.BokehBackend at 0x18da827ae50>"
      ]
     },
     "execution_count": 7,
     "metadata": {},
     "output_type": "execute_result"
    }
   ],
   "source": [
    "plot(\n",
    "    (sol1.rhs, \"y =  exp(-t)\"),\n",
    "    (sol2.rhs, \"y = -exp(-t)\"),\n",
    "    (t, -2, 5),\n",
    "    title=\"Initial value problems y' = -y\",\n",
    "    ylabel=\"y\",\n",
    "    adaptive=True,\n",
    "    detect_poles=True,\n",
    "    modules=\"mpmath\",\n",
    "    backend=BB)"
   ]
  },
  {
   "cell_type": "markdown",
   "id": "30e0ae8c-ff0f-4283-80b4-0398783fe0c1",
   "metadata": {
    "tags": []
   },
   "source": [
    "### b) $\\frac{\\mathrm{d}y}{\\mathrm{d}t} = -t$"
   ]
  },
  {
   "cell_type": "code",
   "execution_count": 8,
   "id": "6d1e6dc3-7c78-4b48-af32-511971eeacd0",
   "metadata": {
    "tags": []
   },
   "outputs": [
    {
     "data": {
      "text/latex": [
       "$\\displaystyle t + \\frac{d}{d t} y{\\left(t \\right)}$"
      ],
      "text/plain": [
       "t + Derivative(y(t), t)"
      ]
     },
     "execution_count": 8,
     "metadata": {},
     "output_type": "execute_result"
    }
   ],
   "source": [
    "eqn = y(t).diff(t) + t\n",
    "eqn"
   ]
  },
  {
   "cell_type": "code",
   "execution_count": 9,
   "id": "adbe71fa-b56d-4f83-82a3-1e01d2e3d4a7",
   "metadata": {
    "tags": []
   },
   "outputs": [
    {
     "data": {
      "text/plain": [
       "('nth_algebraic',\n",
       " 'separable',\n",
       " '1st_exact',\n",
       " '1st_linear',\n",
       " 'Bernoulli',\n",
       " '1st_power_series',\n",
       " 'lie_group',\n",
       " 'nth_linear_constant_coeff_undetermined_coefficients',\n",
       " 'nth_linear_euler_eq_nonhomogeneous_undetermined_coefficients',\n",
       " 'nth_linear_constant_coeff_variation_of_parameters',\n",
       " 'nth_linear_euler_eq_nonhomogeneous_variation_of_parameters',\n",
       " 'nth_algebraic_Integral',\n",
       " 'separable_Integral',\n",
       " '1st_exact_Integral',\n",
       " '1st_linear_Integral',\n",
       " 'Bernoulli_Integral',\n",
       " 'nth_linear_constant_coeff_variation_of_parameters_Integral',\n",
       " 'nth_linear_euler_eq_nonhomogeneous_variation_of_parameters_Integral')"
      ]
     },
     "execution_count": 9,
     "metadata": {},
     "output_type": "execute_result"
    }
   ],
   "source": [
    "ode.classify_ode(eqn)"
   ]
  },
  {
   "cell_type": "markdown",
   "id": "a6c04a24-0bf8-46dd-9cd9-880de56569bf",
   "metadata": {},
   "source": [
    "#### $y(0) = 1$:"
   ]
  },
  {
   "cell_type": "code",
   "execution_count": 10,
   "id": "2031589f-b264-4408-a086-adab10b0dbcc",
   "metadata": {
    "tags": []
   },
   "outputs": [
    {
     "data": {
      "text/latex": [
       "$\\displaystyle y{\\left(t \\right)} = 1 - \\frac{t^{2}}{2}$"
      ],
      "text/plain": [
       "Eq(y(t), 1 - t**2/2)"
      ]
     },
     "execution_count": 10,
     "metadata": {},
     "output_type": "execute_result"
    }
   ],
   "source": [
    "sol1 = ode.dsolve(eqn, ics={y(0): 1}, hint=\"separable\")\n",
    "sol1"
   ]
  },
  {
   "cell_type": "markdown",
   "id": "27311aae-748a-4042-81c1-32db1dabfc4e",
   "metadata": {},
   "source": [
    "#### $y(0) = -1$:"
   ]
  },
  {
   "cell_type": "code",
   "execution_count": 11,
   "id": "f25e3ea1-3768-4361-bb1b-822d2d7e14d2",
   "metadata": {
    "tags": []
   },
   "outputs": [
    {
     "data": {
      "text/latex": [
       "$\\displaystyle y{\\left(t \\right)} = - \\frac{t^{2}}{2} - 1$"
      ],
      "text/plain": [
       "Eq(y(t), -t**2/2 - 1)"
      ]
     },
     "execution_count": 11,
     "metadata": {},
     "output_type": "execute_result"
    }
   ],
   "source": [
    "sol2 = ode.dsolve(eqn, ics={y(0): -1}, hint=\"separable\")\n",
    "sol2"
   ]
  },
  {
   "cell_type": "markdown",
   "id": "da7c001b-d240-49a1-b48e-7ef2db6835ed",
   "metadata": {
    "tags": []
   },
   "source": [
    "#### Plotting the two solutions in the same graph"
   ]
  },
  {
   "cell_type": "code",
   "execution_count": 12,
   "id": "902d06f3-e16b-464c-995a-2a703d7d2232",
   "metadata": {
    "tags": []
   },
   "outputs": [
    {
     "data": {
      "application/javascript": [
       "(function(root) {\n",
       "  function now() {\n",
       "    return new Date();\n",
       "  }\n",
       "\n",
       "  const force = true;\n",
       "\n",
       "  if (typeof root._bokeh_onload_callbacks === \"undefined\" || force === true) {\n",
       "    root._bokeh_onload_callbacks = [];\n",
       "    root._bokeh_is_loading = undefined;\n",
       "  }\n",
       "\n",
       "const JS_MIME_TYPE = 'application/javascript';\n",
       "  const HTML_MIME_TYPE = 'text/html';\n",
       "  const EXEC_MIME_TYPE = 'application/vnd.bokehjs_exec.v0+json';\n",
       "  const CLASS_NAME = 'output_bokeh rendered_html';\n",
       "\n",
       "  /**\n",
       "   * Render data to the DOM node\n",
       "   */\n",
       "  function render(props, node) {\n",
       "    const script = document.createElement(\"script\");\n",
       "    node.appendChild(script);\n",
       "  }\n",
       "\n",
       "  /**\n",
       "   * Handle when an output is cleared or removed\n",
       "   */\n",
       "  function handleClearOutput(event, handle) {\n",
       "    const cell = handle.cell;\n",
       "\n",
       "    const id = cell.output_area._bokeh_element_id;\n",
       "    const server_id = cell.output_area._bokeh_server_id;\n",
       "    // Clean up Bokeh references\n",
       "    if (id != null && id in Bokeh.index) {\n",
       "      Bokeh.index[id].model.document.clear();\n",
       "      delete Bokeh.index[id];\n",
       "    }\n",
       "\n",
       "    if (server_id !== undefined) {\n",
       "      // Clean up Bokeh references\n",
       "      const cmd_clean = \"from bokeh.io.state import curstate; print(curstate().uuid_to_server['\" + server_id + \"'].get_sessions()[0].document.roots[0]._id)\";\n",
       "      cell.notebook.kernel.execute(cmd_clean, {\n",
       "        iopub: {\n",
       "          output: function(msg) {\n",
       "            const id = msg.content.text.trim();\n",
       "            if (id in Bokeh.index) {\n",
       "              Bokeh.index[id].model.document.clear();\n",
       "              delete Bokeh.index[id];\n",
       "            }\n",
       "          }\n",
       "        }\n",
       "      });\n",
       "      // Destroy server and session\n",
       "      const cmd_destroy = \"import bokeh.io.notebook as ion; ion.destroy_server('\" + server_id + \"')\";\n",
       "      cell.notebook.kernel.execute(cmd_destroy);\n",
       "    }\n",
       "  }\n",
       "\n",
       "  /**\n",
       "   * Handle when a new output is added\n",
       "   */\n",
       "  function handleAddOutput(event, handle) {\n",
       "    const output_area = handle.output_area;\n",
       "    const output = handle.output;\n",
       "\n",
       "    // limit handleAddOutput to display_data with EXEC_MIME_TYPE content only\n",
       "    if ((output.output_type != \"display_data\") || (!Object.prototype.hasOwnProperty.call(output.data, EXEC_MIME_TYPE))) {\n",
       "      return\n",
       "    }\n",
       "\n",
       "    const toinsert = output_area.element.find(\".\" + CLASS_NAME.split(' ')[0]);\n",
       "\n",
       "    if (output.metadata[EXEC_MIME_TYPE][\"id\"] !== undefined) {\n",
       "      toinsert[toinsert.length - 1].firstChild.textContent = output.data[JS_MIME_TYPE];\n",
       "      // store reference to embed id on output_area\n",
       "      output_area._bokeh_element_id = output.metadata[EXEC_MIME_TYPE][\"id\"];\n",
       "    }\n",
       "    if (output.metadata[EXEC_MIME_TYPE][\"server_id\"] !== undefined) {\n",
       "      const bk_div = document.createElement(\"div\");\n",
       "      bk_div.innerHTML = output.data[HTML_MIME_TYPE];\n",
       "      const script_attrs = bk_div.children[0].attributes;\n",
       "      for (let i = 0; i < script_attrs.length; i++) {\n",
       "        toinsert[toinsert.length - 1].firstChild.setAttribute(script_attrs[i].name, script_attrs[i].value);\n",
       "        toinsert[toinsert.length - 1].firstChild.textContent = bk_div.children[0].textContent\n",
       "      }\n",
       "      // store reference to server id on output_area\n",
       "      output_area._bokeh_server_id = output.metadata[EXEC_MIME_TYPE][\"server_id\"];\n",
       "    }\n",
       "  }\n",
       "\n",
       "  function register_renderer(events, OutputArea) {\n",
       "\n",
       "    function append_mime(data, metadata, element) {\n",
       "      // create a DOM node to render to\n",
       "      const toinsert = this.create_output_subarea(\n",
       "        metadata,\n",
       "        CLASS_NAME,\n",
       "        EXEC_MIME_TYPE\n",
       "      );\n",
       "      this.keyboard_manager.register_events(toinsert);\n",
       "      // Render to node\n",
       "      const props = {data: data, metadata: metadata[EXEC_MIME_TYPE]};\n",
       "      render(props, toinsert[toinsert.length - 1]);\n",
       "      element.append(toinsert);\n",
       "      return toinsert\n",
       "    }\n",
       "\n",
       "    /* Handle when an output is cleared or removed */\n",
       "    events.on('clear_output.CodeCell', handleClearOutput);\n",
       "    events.on('delete.Cell', handleClearOutput);\n",
       "\n",
       "    /* Handle when a new output is added */\n",
       "    events.on('output_added.OutputArea', handleAddOutput);\n",
       "\n",
       "    /**\n",
       "     * Register the mime type and append_mime function with output_area\n",
       "     */\n",
       "    OutputArea.prototype.register_mime_type(EXEC_MIME_TYPE, append_mime, {\n",
       "      /* Is output safe? */\n",
       "      safe: true,\n",
       "      /* Index of renderer in `output_area.display_order` */\n",
       "      index: 0\n",
       "    });\n",
       "  }\n",
       "\n",
       "  // register the mime type if in Jupyter Notebook environment and previously unregistered\n",
       "  if (root.Jupyter !== undefined) {\n",
       "    const events = require('base/js/events');\n",
       "    const OutputArea = require('notebook/js/outputarea').OutputArea;\n",
       "\n",
       "    if (OutputArea.prototype.mime_types().indexOf(EXEC_MIME_TYPE) == -1) {\n",
       "      register_renderer(events, OutputArea);\n",
       "    }\n",
       "  }\n",
       "  if (typeof (root._bokeh_timeout) === \"undefined\" || force === true) {\n",
       "    root._bokeh_timeout = Date.now() + 5000;\n",
       "    root._bokeh_failed_load = false;\n",
       "  }\n",
       "\n",
       "  const NB_LOAD_WARNING = {'data': {'text/html':\n",
       "     \"<div style='background-color: #fdd'>\\n\"+\n",
       "     \"<p>\\n\"+\n",
       "     \"BokehJS does not appear to have successfully loaded. If loading BokehJS from CDN, this \\n\"+\n",
       "     \"may be due to a slow or bad network connection. Possible fixes:\\n\"+\n",
       "     \"</p>\\n\"+\n",
       "     \"<ul>\\n\"+\n",
       "     \"<li>re-rerun `output_notebook()` to attempt to load from CDN again, or</li>\\n\"+\n",
       "     \"<li>use INLINE resources instead, as so:</li>\\n\"+\n",
       "     \"</ul>\\n\"+\n",
       "     \"<code>\\n\"+\n",
       "     \"from bokeh.resources import INLINE\\n\"+\n",
       "     \"output_notebook(resources=INLINE)\\n\"+\n",
       "     \"</code>\\n\"+\n",
       "     \"</div>\"}};\n",
       "\n",
       "  function display_loaded() {\n",
       "    const el = document.getElementById(null);\n",
       "    if (el != null) {\n",
       "      el.textContent = \"BokehJS is loading...\";\n",
       "    }\n",
       "    if (root.Bokeh !== undefined) {\n",
       "      if (el != null) {\n",
       "        el.textContent = \"BokehJS \" + root.Bokeh.version + \" successfully loaded.\";\n",
       "      }\n",
       "    } else if (Date.now() < root._bokeh_timeout) {\n",
       "      setTimeout(display_loaded, 100)\n",
       "    }\n",
       "  }\n",
       "\n",
       "  function run_callbacks() {\n",
       "    try {\n",
       "      root._bokeh_onload_callbacks.forEach(function(callback) {\n",
       "        if (callback != null)\n",
       "          callback();\n",
       "      });\n",
       "    } finally {\n",
       "      delete root._bokeh_onload_callbacks\n",
       "    }\n",
       "    console.debug(\"Bokeh: all callbacks have finished\");\n",
       "  }\n",
       "\n",
       "  function load_libs(css_urls, js_urls, callback) {\n",
       "    if (css_urls == null) css_urls = [];\n",
       "    if (js_urls == null) js_urls = [];\n",
       "\n",
       "    root._bokeh_onload_callbacks.push(callback);\n",
       "    if (root._bokeh_is_loading > 0) {\n",
       "      console.debug(\"Bokeh: BokehJS is being loaded, scheduling callback at\", now());\n",
       "      return null;\n",
       "    }\n",
       "    if (js_urls == null || js_urls.length === 0) {\n",
       "      run_callbacks();\n",
       "      return null;\n",
       "    }\n",
       "    console.debug(\"Bokeh: BokehJS not loaded, scheduling load and callback at\", now());\n",
       "    root._bokeh_is_loading = css_urls.length + js_urls.length;\n",
       "\n",
       "    function on_load() {\n",
       "      root._bokeh_is_loading--;\n",
       "      if (root._bokeh_is_loading === 0) {\n",
       "        console.debug(\"Bokeh: all BokehJS libraries/stylesheets loaded\");\n",
       "        run_callbacks()\n",
       "      }\n",
       "    }\n",
       "\n",
       "    function on_error(url) {\n",
       "      console.error(\"failed to load \" + url);\n",
       "    }\n",
       "\n",
       "    for (let i = 0; i < css_urls.length; i++) {\n",
       "      const url = css_urls[i];\n",
       "      const element = document.createElement(\"link\");\n",
       "      element.onload = on_load;\n",
       "      element.onerror = on_error.bind(null, url);\n",
       "      element.rel = \"stylesheet\";\n",
       "      element.type = \"text/css\";\n",
       "      element.href = url;\n",
       "      console.debug(\"Bokeh: injecting link tag for BokehJS stylesheet: \", url);\n",
       "      document.body.appendChild(element);\n",
       "    }\n",
       "\n",
       "    for (let i = 0; i < js_urls.length; i++) {\n",
       "      const url = js_urls[i];\n",
       "      const element = document.createElement('script');\n",
       "      element.onload = on_load;\n",
       "      element.onerror = on_error.bind(null, url);\n",
       "      element.async = false;\n",
       "      element.src = url;\n",
       "      console.debug(\"Bokeh: injecting script tag for BokehJS library: \", url);\n",
       "      document.head.appendChild(element);\n",
       "    }\n",
       "  };\n",
       "\n",
       "  function inject_raw_css(css) {\n",
       "    const element = document.createElement(\"style\");\n",
       "    element.appendChild(document.createTextNode(css));\n",
       "    document.body.appendChild(element);\n",
       "  }\n",
       "\n",
       "  const js_urls = [\"https://cdn.bokeh.org/bokeh/release/bokeh-2.4.3.min.js\", \"https://cdn.bokeh.org/bokeh/release/bokeh-gl-2.4.3.min.js\", \"https://cdn.bokeh.org/bokeh/release/bokeh-widgets-2.4.3.min.js\", \"https://cdn.bokeh.org/bokeh/release/bokeh-tables-2.4.3.min.js\", \"https://cdn.bokeh.org/bokeh/release/bokeh-mathjax-2.4.3.min.js\"];\n",
       "  const css_urls = [];\n",
       "\n",
       "  const inline_js = [    function(Bokeh) {\n",
       "      Bokeh.set_log_level(\"info\");\n",
       "    },\n",
       "function(Bokeh) {\n",
       "    }\n",
       "  ];\n",
       "\n",
       "  function run_inline_js() {\n",
       "    if (root.Bokeh !== undefined || force === true) {\n",
       "          for (let i = 0; i < inline_js.length; i++) {\n",
       "      inline_js[i].call(root, root.Bokeh);\n",
       "    }\n",
       "} else if (Date.now() < root._bokeh_timeout) {\n",
       "      setTimeout(run_inline_js, 100);\n",
       "    } else if (!root._bokeh_failed_load) {\n",
       "      console.log(\"Bokeh: BokehJS failed to load within specified timeout.\");\n",
       "      root._bokeh_failed_load = true;\n",
       "    } else if (force !== true) {\n",
       "      const cell = $(document.getElementById(null)).parents('.cell').data().cell;\n",
       "      cell.output_area.append_execute_result(NB_LOAD_WARNING)\n",
       "    }\n",
       "  }\n",
       "\n",
       "  if (root._bokeh_is_loading === 0) {\n",
       "    console.debug(\"Bokeh: BokehJS loaded, going straight to plotting\");\n",
       "    run_inline_js();\n",
       "  } else {\n",
       "    load_libs(css_urls, js_urls, function() {\n",
       "      console.debug(\"Bokeh: BokehJS plotting callback run at\", now());\n",
       "      run_inline_js();\n",
       "    });\n",
       "  }\n",
       "}(window));"
      ],
      "application/vnd.bokehjs_load.v0+json": "(function(root) {\n  function now() {\n    return new Date();\n  }\n\n  const force = true;\n\n  if (typeof root._bokeh_onload_callbacks === \"undefined\" || force === true) {\n    root._bokeh_onload_callbacks = [];\n    root._bokeh_is_loading = undefined;\n  }\n\n\n  if (typeof (root._bokeh_timeout) === \"undefined\" || force === true) {\n    root._bokeh_timeout = Date.now() + 5000;\n    root._bokeh_failed_load = false;\n  }\n\n  const NB_LOAD_WARNING = {'data': {'text/html':\n     \"<div style='background-color: #fdd'>\\n\"+\n     \"<p>\\n\"+\n     \"BokehJS does not appear to have successfully loaded. If loading BokehJS from CDN, this \\n\"+\n     \"may be due to a slow or bad network connection. Possible fixes:\\n\"+\n     \"</p>\\n\"+\n     \"<ul>\\n\"+\n     \"<li>re-rerun `output_notebook()` to attempt to load from CDN again, or</li>\\n\"+\n     \"<li>use INLINE resources instead, as so:</li>\\n\"+\n     \"</ul>\\n\"+\n     \"<code>\\n\"+\n     \"from bokeh.resources import INLINE\\n\"+\n     \"output_notebook(resources=INLINE)\\n\"+\n     \"</code>\\n\"+\n     \"</div>\"}};\n\n  function display_loaded() {\n    const el = document.getElementById(null);\n    if (el != null) {\n      el.textContent = \"BokehJS is loading...\";\n    }\n    if (root.Bokeh !== undefined) {\n      if (el != null) {\n        el.textContent = \"BokehJS \" + root.Bokeh.version + \" successfully loaded.\";\n      }\n    } else if (Date.now() < root._bokeh_timeout) {\n      setTimeout(display_loaded, 100)\n    }\n  }\n\n  function run_callbacks() {\n    try {\n      root._bokeh_onload_callbacks.forEach(function(callback) {\n        if (callback != null)\n          callback();\n      });\n    } finally {\n      delete root._bokeh_onload_callbacks\n    }\n    console.debug(\"Bokeh: all callbacks have finished\");\n  }\n\n  function load_libs(css_urls, js_urls, callback) {\n    if (css_urls == null) css_urls = [];\n    if (js_urls == null) js_urls = [];\n\n    root._bokeh_onload_callbacks.push(callback);\n    if (root._bokeh_is_loading > 0) {\n      console.debug(\"Bokeh: BokehJS is being loaded, scheduling callback at\", now());\n      return null;\n    }\n    if (js_urls == null || js_urls.length === 0) {\n      run_callbacks();\n      return null;\n    }\n    console.debug(\"Bokeh: BokehJS not loaded, scheduling load and callback at\", now());\n    root._bokeh_is_loading = css_urls.length + js_urls.length;\n\n    function on_load() {\n      root._bokeh_is_loading--;\n      if (root._bokeh_is_loading === 0) {\n        console.debug(\"Bokeh: all BokehJS libraries/stylesheets loaded\");\n        run_callbacks()\n      }\n    }\n\n    function on_error(url) {\n      console.error(\"failed to load \" + url);\n    }\n\n    for (let i = 0; i < css_urls.length; i++) {\n      const url = css_urls[i];\n      const element = document.createElement(\"link\");\n      element.onload = on_load;\n      element.onerror = on_error.bind(null, url);\n      element.rel = \"stylesheet\";\n      element.type = \"text/css\";\n      element.href = url;\n      console.debug(\"Bokeh: injecting link tag for BokehJS stylesheet: \", url);\n      document.body.appendChild(element);\n    }\n\n    for (let i = 0; i < js_urls.length; i++) {\n      const url = js_urls[i];\n      const element = document.createElement('script');\n      element.onload = on_load;\n      element.onerror = on_error.bind(null, url);\n      element.async = false;\n      element.src = url;\n      console.debug(\"Bokeh: injecting script tag for BokehJS library: \", url);\n      document.head.appendChild(element);\n    }\n  };\n\n  function inject_raw_css(css) {\n    const element = document.createElement(\"style\");\n    element.appendChild(document.createTextNode(css));\n    document.body.appendChild(element);\n  }\n\n  const js_urls = [\"https://cdn.bokeh.org/bokeh/release/bokeh-2.4.3.min.js\", \"https://cdn.bokeh.org/bokeh/release/bokeh-gl-2.4.3.min.js\", \"https://cdn.bokeh.org/bokeh/release/bokeh-widgets-2.4.3.min.js\", \"https://cdn.bokeh.org/bokeh/release/bokeh-tables-2.4.3.min.js\", \"https://cdn.bokeh.org/bokeh/release/bokeh-mathjax-2.4.3.min.js\"];\n  const css_urls = [];\n\n  const inline_js = [    function(Bokeh) {\n      Bokeh.set_log_level(\"info\");\n    },\nfunction(Bokeh) {\n    }\n  ];\n\n  function run_inline_js() {\n    if (root.Bokeh !== undefined || force === true) {\n          for (let i = 0; i < inline_js.length; i++) {\n      inline_js[i].call(root, root.Bokeh);\n    }\n} else if (Date.now() < root._bokeh_timeout) {\n      setTimeout(run_inline_js, 100);\n    } else if (!root._bokeh_failed_load) {\n      console.log(\"Bokeh: BokehJS failed to load within specified timeout.\");\n      root._bokeh_failed_load = true;\n    } else if (force !== true) {\n      const cell = $(document.getElementById(null)).parents('.cell').data().cell;\n      cell.output_area.append_execute_result(NB_LOAD_WARNING)\n    }\n  }\n\n  if (root._bokeh_is_loading === 0) {\n    console.debug(\"Bokeh: BokehJS loaded, going straight to plotting\");\n    run_inline_js();\n  } else {\n    load_libs(css_urls, js_urls, function() {\n      console.debug(\"Bokeh: BokehJS plotting callback run at\", now());\n      run_inline_js();\n    });\n  }\n}(window));"
     },
     "metadata": {},
     "output_type": "display_data"
    },
    {
     "data": {
      "text/html": [
       "\n",
       "  <div class=\"bk-root\" id=\"7b349c69-7716-40f3-82d4-f733bff9a221\" data-root-id=\"1146\"></div>\n"
      ]
     },
     "metadata": {},
     "output_type": "display_data"
    },
    {
     "data": {
      "application/javascript": [
       "(function(root) {\n",
       "  function embed_document(root) {\n",
       "  const docs_json = {\"b645ff05-84a0-4980-a9c9-3f35b0c2dbc2\":{\"defs\":[],\"roots\":{\"references\":[{\"attributes\":{\"below\":[{\"id\":\"1157\"}],\"center\":[{\"id\":\"1160\"},{\"id\":\"1164\"},{\"id\":\"1196\"}],\"height\":400,\"left\":[{\"id\":\"1161\"}],\"renderers\":[{\"id\":\"1184\"},{\"id\":\"1203\"}],\"right\":[{\"id\":\"1196\"}],\"sizing_mode\":\"stretch_width\",\"title\":{\"id\":\"1147\"},\"toolbar\":{\"id\":\"1172\"},\"x_range\":{\"id\":\"1149\"},\"x_scale\":{\"id\":\"1153\"},\"y_range\":{\"id\":\"1151\"},\"y_scale\":{\"id\":\"1155\"}},\"id\":\"1146\",\"subtype\":\"Figure\",\"type\":\"Plot\"},{\"attributes\":{\"overlay\":{\"id\":\"1171\"}},\"id\":\"1167\",\"type\":\"BoxZoomTool\"},{\"attributes\":{\"data\":{\"xs\":{\"__ndarray__\":\"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\",\"dtype\":\"float64\",\"order\":\"little\",\"shape\":[337]},\"ys\":{\"__ndarray__\":\"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\",\"dtype\":\"float64\",\"order\":\"little\",\"shape\":[337]}},\"selected\":{\"id\":\"1215\"},\"selection_policy\":{\"id\":\"1214\"}},\"id\":\"1198\",\"type\":\"ColumnDataSource\"},{\"attributes\":{},\"id\":\"1192\",\"type\":\"AllLabels\"},{\"attributes\":{\"axis\":{\"id\":\"1161\"},\"coordinates\":null,\"dimension\":1,\"group\":null,\"minor_grid_line_alpha\":0.6,\"minor_grid_line_color\":\"#e5e5e5\",\"minor_grid_line_dash\":[2,2],\"ticker\":null},\"id\":\"1164\",\"type\":\"Grid\"},{\"attributes\":{\"callback\":null,\"tooltips\":[[\"x\",\"$x\"],[\"y\",\"$y\"]]},\"id\":\"1169\",\"type\":\"HoverTool\"},{\"attributes\":{\"source\":{\"id\":\"1179\"}},\"id\":\"1185\",\"type\":\"CDSView\"},{\"attributes\":{\"line_alpha\":0.1,\"line_color\":\"#1f77b4\",\"line_width\":2,\"x\":{\"field\":\"xs\"},\"y\":{\"field\":\"ys\"}},\"id\":\"1182\",\"type\":\"Line\"},{\"attributes\":{\"line_alpha\":0.2,\"line_color\":\"#ff7f0e\",\"line_width\":2,\"x\":{\"field\":\"xs\"},\"y\":{\"field\":\"ys\"}},\"id\":\"1202\",\"type\":\"Line\"},{\"attributes\":{\"coordinates\":null,\"group\":null,\"text\":\"Initial value problems y' = -t\",\"text_color\":\"#5B5B5B\",\"text_font\":\"Calibri Light\",\"text_font_size\":\"1.25em\",\"text_font_style\":\"bold\"},\"id\":\"1147\",\"type\":\"Title\"},{\"attributes\":{},\"id\":\"1191\",\"type\":\"BasicTickFormatter\"},{\"attributes\":{},\"id\":\"1165\",\"type\":\"PanTool\"},{\"attributes\":{},\"id\":\"1168\",\"type\":\"ResetTool\"},{\"attributes\":{},\"id\":\"1188\",\"type\":\"BasicTickFormatter\"},{\"attributes\":{},\"id\":\"1215\",\"type\":\"Selection\"},{\"attributes\":{\"line_alpha\":0.2,\"line_color\":\"#1f77b4\",\"line_width\":2,\"x\":{\"field\":\"xs\"},\"y\":{\"field\":\"ys\"}},\"id\":\"1183\",\"type\":\"Line\"},{\"attributes\":{},\"id\":\"1155\",\"type\":\"LinearScale\"},{\"attributes\":{},\"id\":\"1193\",\"type\":\"UnionRenderers\"},{\"attributes\":{},\"id\":\"1166\",\"type\":\"WheelZoomTool\"},{\"attributes\":{},\"id\":\"1162\",\"type\":\"BasicTicker\"},{\"attributes\":{},\"id\":\"1214\",\"type\":\"UnionRenderers\"},{\"attributes\":{\"background_fill_alpha\":0.25,\"border_line_alpha\":0,\"click_policy\":\"hide\",\"coordinates\":null,\"glyph_width\":15,\"group\":null,\"items\":[{\"id\":\"1197\"},{\"id\":\"1217\"}],\"label_standoff\":8,\"label_text_color\":\"#5B5B5B\",\"label_text_font\":\"Calibri Light\",\"label_text_font_size\":\"0.95em\",\"label_text_font_style\":\"bold\",\"spacing\":8},\"id\":\"1196\",\"type\":\"Legend\"},{\"attributes\":{\"axis\":{\"id\":\"1157\"},\"coordinates\":null,\"group\":null,\"minor_grid_line_alpha\":0.6,\"minor_grid_line_color\":\"#e5e5e5\",\"minor_grid_line_dash\":[2,2],\"ticker\":null},\"id\":\"1160\",\"type\":\"Grid\"},{\"attributes\":{},\"id\":\"1194\",\"type\":\"Selection\"},{\"attributes\":{},\"id\":\"1149\",\"type\":\"DataRange1d\"},{\"attributes\":{\"line_color\":\"#ff7f0e\",\"line_width\":2,\"x\":{\"field\":\"xs\"},\"y\":{\"field\":\"ys\"}},\"id\":\"1200\",\"type\":\"Line\"},{\"attributes\":{\"tools\":[{\"id\":\"1165\"},{\"id\":\"1166\"},{\"id\":\"1167\"},{\"id\":\"1168\"},{\"id\":\"1169\"},{\"id\":\"1170\"}]},\"id\":\"1172\",\"type\":\"Toolbar\"},{\"attributes\":{\"line_color\":\"#1f77b4\",\"line_width\":2,\"x\":{\"field\":\"xs\"},\"y\":{\"field\":\"ys\"}},\"id\":\"1181\",\"type\":\"Line\"},{\"attributes\":{\"line_alpha\":0.1,\"line_color\":\"#ff7f0e\",\"line_width\":2,\"x\":{\"field\":\"xs\"},\"y\":{\"field\":\"ys\"}},\"id\":\"1201\",\"type\":\"Line\"},{\"attributes\":{},\"id\":\"1170\",\"type\":\"SaveTool\"},{\"attributes\":{},\"id\":\"1151\",\"type\":\"DataRange1d\"},{\"attributes\":{\"source\":{\"id\":\"1198\"}},\"id\":\"1204\",\"type\":\"CDSView\"},{\"attributes\":{},\"id\":\"1153\",\"type\":\"LinearScale\"},{\"attributes\":{\"coordinates\":null,\"data_source\":{\"id\":\"1179\"},\"glyph\":{\"id\":\"1181\"},\"group\":null,\"hover_glyph\":null,\"muted_glyph\":{\"id\":\"1183\"},\"nonselection_glyph\":{\"id\":\"1182\"},\"view\":{\"id\":\"1185\"}},\"id\":\"1184\",\"type\":\"GlyphRenderer\"},{\"attributes\":{\"coordinates\":null,\"data_source\":{\"id\":\"1198\"},\"glyph\":{\"id\":\"1200\"},\"group\":null,\"hover_glyph\":null,\"muted_glyph\":{\"id\":\"1202\"},\"nonselection_glyph\":{\"id\":\"1201\"},\"view\":{\"id\":\"1204\"}},\"id\":\"1203\",\"type\":\"GlyphRenderer\"},{\"attributes\":{\"label\":{\"value\":\"y = -t^2/2 - 1\"},\"renderers\":[{\"id\":\"1203\"}]},\"id\":\"1217\",\"type\":\"LegendItem\"},{\"attributes\":{\"label\":{\"value\":\"y = -t^2/2 + 1\"},\"renderers\":[{\"id\":\"1184\"}]},\"id\":\"1197\",\"type\":\"LegendItem\"},{\"attributes\":{\"axis_label\":\"y\",\"axis_label_standoff\":10,\"axis_label_text_color\":\"#5B5B5B\",\"axis_label_text_font\":\"Calibri Light\",\"axis_label_text_font_size\":\"1.15em\",\"axis_label_text_font_style\":\"bold\",\"axis_line_alpha\":1,\"axis_line_color\":\"#5B5B5B\",\"coordinates\":null,\"formatter\":{\"id\":\"1188\"},\"group\":null,\"major_label_policy\":{\"id\":\"1189\"},\"major_label_text_color\":\"#5B5B5B\",\"major_label_text_font\":\"Calibri Light\",\"major_label_text_font_size\":\"0.95em\",\"major_label_text_font_style\":\"bold\",\"major_tick_in\":0,\"major_tick_line_alpha\":0.25,\"major_tick_line_color\":\"#5B5B5B\",\"major_tick_out\":3,\"minor_tick_line_alpha\":0.25,\"minor_tick_line_color\":\"#5B5B5B\",\"ticker\":{\"id\":\"1162\"}},\"id\":\"1161\",\"type\":\"LinearAxis\"},{\"attributes\":{\"axis_label\":\"t\",\"axis_label_standoff\":10,\"axis_label_text_color\":\"#5B5B5B\",\"axis_label_text_font\":\"Calibri Light\",\"axis_label_text_font_size\":\"1.15em\",\"axis_label_text_font_style\":\"bold\",\"axis_line_alpha\":1,\"axis_line_color\":\"#5B5B5B\",\"coordinates\":null,\"formatter\":{\"id\":\"1191\"},\"group\":null,\"major_label_policy\":{\"id\":\"1192\"},\"major_label_text_color\":\"#5B5B5B\",\"major_label_text_font\":\"Calibri Light\",\"major_label_text_font_size\":\"0.95em\",\"major_label_text_font_style\":\"bold\",\"major_tick_in\":0,\"major_tick_line_alpha\":0.25,\"major_tick_line_color\":\"#5B5B5B\",\"major_tick_out\":3,\"minor_tick_line_alpha\":0.25,\"minor_tick_line_color\":\"#5B5B5B\",\"ticker\":{\"id\":\"1158\"}},\"id\":\"1157\",\"type\":\"LinearAxis\"},{\"attributes\":{},\"id\":\"1189\",\"type\":\"AllLabels\"},{\"attributes\":{},\"id\":\"1158\",\"type\":\"BasicTicker\"},{\"attributes\":{\"bottom_units\":\"screen\",\"coordinates\":null,\"fill_alpha\":0.5,\"fill_color\":\"lightgrey\",\"group\":null,\"left_units\":\"screen\",\"level\":\"overlay\",\"line_alpha\":1.0,\"line_color\":\"black\",\"line_dash\":[4,4],\"line_width\":2,\"right_units\":\"screen\",\"syncable\":false,\"top_units\":\"screen\"},\"id\":\"1171\",\"type\":\"BoxAnnotation\"},{\"attributes\":{\"data\":{\"xs\":{\"__ndarray__\":\"AAAAAAAAFMAAAAAAAOwTwAAAAAAA2BPAAAAAAADEE8AAAAAAALATwAAAAAAAnBPAAAAAAACIE8AAAAAAAHQTwAAAAAAAYBPAAAAAAABME8AAAAAAADgTwAAAAAAAJBPAAAAAAAAQE8AAAAAAAPwSwAAAAAAA6BLAAAAAAADUEsAAAAAAAMASwAAAAAAArBLAAAAAAACYEsAAAAAAAIQSwAAAAAAAcBLAAAAAAABcEsAAAAAAAEgSwAAAAAAANBLAAAAAAAAgEsAAAAAAAAwSwAAAAAAA+BHAAAAAAADkEcAAAAAAANARwAAAAAAAvBHAAAAAAACoEcAAAAAAAJQRwAAAAAAAgBHAAAAAAABsEcAAAAAAAFgRwAAAAAAARBHAAAAAAAAwEcAAAAAAABwRwAAAAAAACBHAAAAAAAD0EMAAAAAAAOAQwAAAAAAAzBDAAAAAAAC4EMAAAAAAAKQQwAAAAAAAkBDAAAAAAAB8EMAAAAAAAGgQwAAAAAAAVBDAAAAAAABAEMAAAAAAACwQwAAAAAAAGBDAAAAAAAAEEMAAAAAAAOAPwAAAAAAAuA/AAAAAAACQD8AAAAAAAGgPwAAAAAAAQA/AAAAAAAAYD8AAAAAAAPAOwAAAAAAAyA7AAAAAAACgDsAAAAAAAHgOwAAAAAAAUA7AAAAAAAAoDsAAAAAAAAAOwAAAAAAA2A3AAAAAAACwDcAAAAAAAIgNwAAAAAAAYA3AAAAAAAA4DcAAAAAAABANwAAAAAAA6AzAAAAAAADADMAAAAAAAJgMwAAAAAAAcAzAAAAAAABIDMAAAAAAACAMwAAAAAAA+AvAAAAAAADQC8AAAAAAAKgLwAAAAAAAgAvAAAAAAABYC8AAAAAAADALwAAAAAAACAvAAAAAAADgCsAAAAAAALgKwAAAAAAAkArAAAAAAABoCsAAAAAAAEAKwAAAAAAAGArAAAAAAADwCcAAAAAAAMgJwAAAAAAAoAnAAAAAAAB4CcAAAAAAAFAJwAAAAAAAKAnAAAAAAAAACcAAAAAAANgIwAAAAAAAsAjAAAAAAACICMAAAAAAAGAIwAAAAAAAOAjAAAAAAAAQCMAAAAAAAOgHwAAAAAAAwAfAAAAAAACYB8AAAAAAAHAHwAAAAAAAIAfAAAAAAADQBsAAAAAAAIAGwAAAAAAAMAbAAAAAAADgBcAAAAAAAJAFwAAAAAAAQAXAAAAAAADwBMAAAAAAAKAEwAAAAAAAUATAAAAAAAAABMAAAAAAALADwAAAAAAAYAPAAAAAAAAQA8AAAAAAAMACwAAAAAAAcALAAAAAAAAgAsAAAAAAANABwAAAAAAAgAHAAAAAAAAwAcAAAAAAAOAAwAAAAAAAkADAAAAAAABAAMAAAAAAAOD/vwAAAAAAQP+/AAAAAACg/r8AAAAAAAD+vwAAAAAAYP2/AAAAAADA/L8AAAAAACD8vwAAAAAAgPu/AAAAAADg+r8AAAAAAED6vwAAAAAAoPm/AAAAAAAA+b8AAAAAAGD4vwAAAAAAwPe/AAAAAAAg978AAAAAAID2vwAAAAAA4PW/AAAAAABA9b8AAAAAAKD0vwAAAAAAAPS/AAAAAABg878AAAAAAMDyvwAAAAAAIPK/AAAAAACA8b8AAAAAAODwvwAAAAAAQPC/AAAAAAAA7r8AAAAAAIDrvwAAAAAAAOm/AAAAAACA5r8AAAAAAADkvwAAAAAAgOG/AAAAAAAA3r8AAAAAAADZvwAAAAAAANS/AAAAAAAAzr8AAAAAAADEvwAAAAAAALS/AAAAAAAAAAAAAAAAAAC0PwAAAAAAAMQ/AAAAAAAAzj8AAAAAAADUPwAAAAAAANk/AAAAAAAA3j8AAAAAAIDhPwAAAAAAAOQ/AAAAAACA5j8AAAAAAADpPwAAAAAAgOs/AAAAAAAA7j8AAAAAAEDwPwAAAAAA4PA/AAAAAACA8T8AAAAAACDyPwAAAAAAwPI/AAAAAABg8z8AAAAAAAD0PwAAAAAAoPQ/AAAAAABA9T8AAAAAAOD1PwAAAAAAgPY/AAAAAAAg9z8AAAAAAMD3PwAAAAAAYPg/AAAAAAAA+T8AAAAAAKD5PwAAAAAAQPo/AAAAAADg+j8AAAAAAID7PwAAAAAAIPw/AAAAAADA/D8AAAAAAGD9PwAAAAAAAP4/AAAAAACg/j8AAAAAAED/PwAAAAAA4P8/AAAAAABAAEAAAAAAAJAAQAAAAAAA4ABAAAAAAAAwAUAAAAAAAIABQAAAAAAA0AFAAAAAAAAgAkAAAAAAAHACQAAAAAAAwAJAAAAAAAAQA0AAAAAAAGADQAAAAAAAsANAAAAAAAAABEAAAAAAAFAEQAAAAAAAoARAAAAAAADwBEAAAAAAAEAFQAAAAAAAkAVAAAAAAADgBUAAAAAAADAGQAAAAAAAgAZAAAAAAADQBkAAAAAAACAHQAAAAAAAcAdAAAAAAACYB0AAAAAAAMAHQAAAAAAA6AdAAAAAAAAQCEAAAAAAADgIQAAAAAAAYAhAAAAAAACICEAAAAAAALAIQAAAAAAA2AhAAAAAAAAACUAAAAAAACgJQAAAAAAAUAlAAAAAAAB4CUAAAAAAAKAJQAAAAAAAyAlAAAAAAADwCUAAAAAAABgKQAAAAAAAQApAAAAAAABoCkAAAAAAAJAKQAAAAAAAuApAAAAAAADgCkAAAAAAAAgLQAAAAAAAMAtAAAAAAABYC0AAAAAAAIALQAAAAAAAqAtAAAAAAADQC0AAAAAAAPgLQAAAAAAAIAxAAAAAAABIDEAAAAAAAHAMQAAAAAAAmAxAAAAAAADADEAAAAAAAOgMQAAAAAAAEA1AAAAAAAA4DUAAAAAAAGANQAAAAAAAiA1AAAAAAACwDUAAAAAAANgNQAAAAAAAAA5AAAAAAAAoDkAAAAAAAFAOQAAAAAAAeA5AAAAAAACgDkAAAAAAAMgOQAAAAAAA8A5AAAAAAAAYD0AAAAAAAEAPQAAAAAAAaA9AAAAAAACQD0AAAAAAALgPQAAAAAAA4A9AAAAAAAAEEEAAAAAAABgQQAAAAAAALBBAAAAAAABAEEAAAAAAAFQQQAAAAAAAaBBAAAAAAAB8EEAAAAAAAJAQQAAAAAAApBBAAAAAAAC4EEAAAAAAAMwQQAAAAAAA4BBAAAAAAAD0EEAAAAAAAAgRQAAAAAAAHBFAAAAAAAAwEUAAAAAAAEQRQAAAAAAAWBFAAAAAAABsEUAAAAAAAIARQAAAAAAAlBFAAAAAAACoEUAAAAAAALwRQAAAAAAA0BFAAAAAAADkEUAAAAAAAPgRQAAAAAAADBJAAAAAAAAgEkAAAAAAADQSQAAAAAAASBJAAAAAAABcEkAAAAAAAHASQAAAAAAAhBJAAAAAAACYEkAAAAAAAKwSQAAAAAAAwBJAAAAAAADUEkAAAAAAAOgSQAAAAAAA/BJAAAAAAAAQE0AAAAAAACQTQAAAAAAAOBNAAAAAAABME0AAAAAAAGATQAAAAAAAdBNAAAAAAACIE0AAAAAAAJwTQAAAAAAAsBNAAAAAAADEE0AAAAAAANgTQAAAAAAA7BNAAAAAAAAAFEA=\",\"dtype\":\"float64\",\"order\":\"little\",\"shape\":[337]},\"ys\":{\"__ndarray__\":\"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\",\"dtype\":\"float64\",\"order\":\"little\",\"shape\":[337]}},\"selected\":{\"id\":\"1194\"},\"selection_policy\":{\"id\":\"1193\"}},\"id\":\"1179\",\"type\":\"ColumnDataSource\"}],\"root_ids\":[\"1146\"]},\"title\":\"Bokeh Application\",\"version\":\"2.4.3\"}};\n",
       "  const render_items = [{\"docid\":\"b645ff05-84a0-4980-a9c9-3f35b0c2dbc2\",\"root_ids\":[\"1146\"],\"roots\":{\"1146\":\"7b349c69-7716-40f3-82d4-f733bff9a221\"}}];\n",
       "  root.Bokeh.embed.embed_items_notebook(docs_json, render_items);\n",
       "  }\n",
       "  if (root.Bokeh !== undefined) {\n",
       "    embed_document(root);\n",
       "  } else {\n",
       "    let attempts = 0;\n",
       "    const timer = setInterval(function(root) {\n",
       "      if (root.Bokeh !== undefined) {\n",
       "        clearInterval(timer);\n",
       "        embed_document(root);\n",
       "      } else {\n",
       "        attempts++;\n",
       "        if (attempts > 100) {\n",
       "          clearInterval(timer);\n",
       "          console.log(\"Bokeh: ERROR: Unable to run BokehJS code because BokehJS library is missing\");\n",
       "        }\n",
       "      }\n",
       "    }, 10, root)\n",
       "  }\n",
       "})(window);"
      ],
      "application/vnd.bokehjs_exec.v0+json": ""
     },
     "metadata": {
      "application/vnd.bokehjs_exec.v0+json": {
       "id": "1146"
      }
     },
     "output_type": "display_data"
    },
    {
     "data": {
      "text/plain": [
       "<spb.backends.bokeh.BokehBackend at 0x18dca1ce950>"
      ]
     },
     "execution_count": 12,
     "metadata": {},
     "output_type": "execute_result"
    }
   ],
   "source": [
    "plot(\n",
    "    (sol1.rhs, \"y = -t^2/2 + 1\"),\n",
    "    (sol2.rhs, \"y = -t^2/2 - 1\"),\n",
    "    (t, -5, 5),\n",
    "    title=\"Initial value problems y' = -t\",\n",
    "    ylabel=\"y\",\n",
    "    adaptive=True,\n",
    "    detect_poles=True,\n",
    "    modules=\"mpmath\",\n",
    "    backend=BB)"
   ]
  },
  {
   "cell_type": "markdown",
   "id": "8da493db-1364-42d7-949b-df9217eb58e8",
   "metadata": {
    "tags": []
   },
   "source": [
    "### c) $\\frac{\\mathrm{d}y}{\\mathrm{d}t} = \\mathrm{e}^{-t}$"
   ]
  },
  {
   "cell_type": "code",
   "execution_count": 13,
   "id": "b4179048-b947-4957-90ba-a7be47ff7c30",
   "metadata": {
    "tags": []
   },
   "outputs": [
    {
     "data": {
      "text/latex": [
       "$\\displaystyle \\frac{d}{d t} y{\\left(t \\right)} - e^{- t}$"
      ],
      "text/plain": [
       "Derivative(y(t), t) - exp(-t)"
      ]
     },
     "execution_count": 13,
     "metadata": {},
     "output_type": "execute_result"
    }
   ],
   "source": [
    "eqn = y(t).diff(t) - exp(-t)\n",
    "eqn"
   ]
  },
  {
   "cell_type": "code",
   "execution_count": 14,
   "id": "0a77df45-158a-47c1-9237-cd42c7537174",
   "metadata": {
    "tags": []
   },
   "outputs": [
    {
     "data": {
      "text/plain": [
       "('nth_algebraic',\n",
       " 'separable',\n",
       " '1st_exact',\n",
       " '1st_linear',\n",
       " 'Bernoulli',\n",
       " '1st_power_series',\n",
       " 'lie_group',\n",
       " 'nth_linear_constant_coeff_undetermined_coefficients',\n",
       " 'nth_linear_constant_coeff_variation_of_parameters',\n",
       " 'nth_linear_euler_eq_nonhomogeneous_variation_of_parameters',\n",
       " 'nth_algebraic_Integral',\n",
       " 'separable_Integral',\n",
       " '1st_exact_Integral',\n",
       " '1st_linear_Integral',\n",
       " 'Bernoulli_Integral',\n",
       " 'nth_linear_constant_coeff_variation_of_parameters_Integral',\n",
       " 'nth_linear_euler_eq_nonhomogeneous_variation_of_parameters_Integral')"
      ]
     },
     "execution_count": 14,
     "metadata": {},
     "output_type": "execute_result"
    }
   ],
   "source": [
    "ode.classify_ode(eqn)"
   ]
  },
  {
   "cell_type": "markdown",
   "id": "4610659e-1c07-4d8c-be8f-22b9db87b6f7",
   "metadata": {},
   "source": [
    "#### $y(0) = 1$:"
   ]
  },
  {
   "cell_type": "code",
   "execution_count": 15,
   "id": "40655b60-123a-433b-be77-e9f456377227",
   "metadata": {
    "tags": []
   },
   "outputs": [
    {
     "data": {
      "text/latex": [
       "$\\displaystyle y{\\left(t \\right)} = 2 - e^{- t}$"
      ],
      "text/plain": [
       "Eq(y(t), 2 - exp(-t))"
      ]
     },
     "execution_count": 15,
     "metadata": {},
     "output_type": "execute_result"
    }
   ],
   "source": [
    "sol1 = ode.dsolve(eqn, ics={y(0): 1}, hint=\"separable\")\n",
    "sol1"
   ]
  },
  {
   "cell_type": "markdown",
   "id": "beb34946-a214-4557-8e2a-85b47d8b147c",
   "metadata": {},
   "source": [
    "#### $y(0) = -1$:"
   ]
  },
  {
   "cell_type": "code",
   "execution_count": 16,
   "id": "ecdea5a7-babb-4f84-a44a-df0eefc68eb7",
   "metadata": {
    "tags": []
   },
   "outputs": [
    {
     "data": {
      "text/latex": [
       "$\\displaystyle y{\\left(t \\right)} = - e^{- t}$"
      ],
      "text/plain": [
       "Eq(y(t), -exp(-t))"
      ]
     },
     "execution_count": 16,
     "metadata": {},
     "output_type": "execute_result"
    }
   ],
   "source": [
    "sol2 = ode.dsolve(eqn, ics={y(0): -1}, hint=\"separable\")\n",
    "sol2"
   ]
  },
  {
   "cell_type": "markdown",
   "id": "e079e8d8-fd71-426b-8972-8a1ce54e9e5d",
   "metadata": {},
   "source": [
    "#### Plotting the two solutions in the same graph"
   ]
  },
  {
   "cell_type": "code",
   "execution_count": 17,
   "id": "e9c635e2-b4d8-4eab-8ed4-3067b29d9ba2",
   "metadata": {
    "tags": []
   },
   "outputs": [
    {
     "data": {
      "application/javascript": [
       "(function(root) {\n",
       "  function now() {\n",
       "    return new Date();\n",
       "  }\n",
       "\n",
       "  const force = true;\n",
       "\n",
       "  if (typeof root._bokeh_onload_callbacks === \"undefined\" || force === true) {\n",
       "    root._bokeh_onload_callbacks = [];\n",
       "    root._bokeh_is_loading = undefined;\n",
       "  }\n",
       "\n",
       "const JS_MIME_TYPE = 'application/javascript';\n",
       "  const HTML_MIME_TYPE = 'text/html';\n",
       "  const EXEC_MIME_TYPE = 'application/vnd.bokehjs_exec.v0+json';\n",
       "  const CLASS_NAME = 'output_bokeh rendered_html';\n",
       "\n",
       "  /**\n",
       "   * Render data to the DOM node\n",
       "   */\n",
       "  function render(props, node) {\n",
       "    const script = document.createElement(\"script\");\n",
       "    node.appendChild(script);\n",
       "  }\n",
       "\n",
       "  /**\n",
       "   * Handle when an output is cleared or removed\n",
       "   */\n",
       "  function handleClearOutput(event, handle) {\n",
       "    const cell = handle.cell;\n",
       "\n",
       "    const id = cell.output_area._bokeh_element_id;\n",
       "    const server_id = cell.output_area._bokeh_server_id;\n",
       "    // Clean up Bokeh references\n",
       "    if (id != null && id in Bokeh.index) {\n",
       "      Bokeh.index[id].model.document.clear();\n",
       "      delete Bokeh.index[id];\n",
       "    }\n",
       "\n",
       "    if (server_id !== undefined) {\n",
       "      // Clean up Bokeh references\n",
       "      const cmd_clean = \"from bokeh.io.state import curstate; print(curstate().uuid_to_server['\" + server_id + \"'].get_sessions()[0].document.roots[0]._id)\";\n",
       "      cell.notebook.kernel.execute(cmd_clean, {\n",
       "        iopub: {\n",
       "          output: function(msg) {\n",
       "            const id = msg.content.text.trim();\n",
       "            if (id in Bokeh.index) {\n",
       "              Bokeh.index[id].model.document.clear();\n",
       "              delete Bokeh.index[id];\n",
       "            }\n",
       "          }\n",
       "        }\n",
       "      });\n",
       "      // Destroy server and session\n",
       "      const cmd_destroy = \"import bokeh.io.notebook as ion; ion.destroy_server('\" + server_id + \"')\";\n",
       "      cell.notebook.kernel.execute(cmd_destroy);\n",
       "    }\n",
       "  }\n",
       "\n",
       "  /**\n",
       "   * Handle when a new output is added\n",
       "   */\n",
       "  function handleAddOutput(event, handle) {\n",
       "    const output_area = handle.output_area;\n",
       "    const output = handle.output;\n",
       "\n",
       "    // limit handleAddOutput to display_data with EXEC_MIME_TYPE content only\n",
       "    if ((output.output_type != \"display_data\") || (!Object.prototype.hasOwnProperty.call(output.data, EXEC_MIME_TYPE))) {\n",
       "      return\n",
       "    }\n",
       "\n",
       "    const toinsert = output_area.element.find(\".\" + CLASS_NAME.split(' ')[0]);\n",
       "\n",
       "    if (output.metadata[EXEC_MIME_TYPE][\"id\"] !== undefined) {\n",
       "      toinsert[toinsert.length - 1].firstChild.textContent = output.data[JS_MIME_TYPE];\n",
       "      // store reference to embed id on output_area\n",
       "      output_area._bokeh_element_id = output.metadata[EXEC_MIME_TYPE][\"id\"];\n",
       "    }\n",
       "    if (output.metadata[EXEC_MIME_TYPE][\"server_id\"] !== undefined) {\n",
       "      const bk_div = document.createElement(\"div\");\n",
       "      bk_div.innerHTML = output.data[HTML_MIME_TYPE];\n",
       "      const script_attrs = bk_div.children[0].attributes;\n",
       "      for (let i = 0; i < script_attrs.length; i++) {\n",
       "        toinsert[toinsert.length - 1].firstChild.setAttribute(script_attrs[i].name, script_attrs[i].value);\n",
       "        toinsert[toinsert.length - 1].firstChild.textContent = bk_div.children[0].textContent\n",
       "      }\n",
       "      // store reference to server id on output_area\n",
       "      output_area._bokeh_server_id = output.metadata[EXEC_MIME_TYPE][\"server_id\"];\n",
       "    }\n",
       "  }\n",
       "\n",
       "  function register_renderer(events, OutputArea) {\n",
       "\n",
       "    function append_mime(data, metadata, element) {\n",
       "      // create a DOM node to render to\n",
       "      const toinsert = this.create_output_subarea(\n",
       "        metadata,\n",
       "        CLASS_NAME,\n",
       "        EXEC_MIME_TYPE\n",
       "      );\n",
       "      this.keyboard_manager.register_events(toinsert);\n",
       "      // Render to node\n",
       "      const props = {data: data, metadata: metadata[EXEC_MIME_TYPE]};\n",
       "      render(props, toinsert[toinsert.length - 1]);\n",
       "      element.append(toinsert);\n",
       "      return toinsert\n",
       "    }\n",
       "\n",
       "    /* Handle when an output is cleared or removed */\n",
       "    events.on('clear_output.CodeCell', handleClearOutput);\n",
       "    events.on('delete.Cell', handleClearOutput);\n",
       "\n",
       "    /* Handle when a new output is added */\n",
       "    events.on('output_added.OutputArea', handleAddOutput);\n",
       "\n",
       "    /**\n",
       "     * Register the mime type and append_mime function with output_area\n",
       "     */\n",
       "    OutputArea.prototype.register_mime_type(EXEC_MIME_TYPE, append_mime, {\n",
       "      /* Is output safe? */\n",
       "      safe: true,\n",
       "      /* Index of renderer in `output_area.display_order` */\n",
       "      index: 0\n",
       "    });\n",
       "  }\n",
       "\n",
       "  // register the mime type if in Jupyter Notebook environment and previously unregistered\n",
       "  if (root.Jupyter !== undefined) {\n",
       "    const events = require('base/js/events');\n",
       "    const OutputArea = require('notebook/js/outputarea').OutputArea;\n",
       "\n",
       "    if (OutputArea.prototype.mime_types().indexOf(EXEC_MIME_TYPE) == -1) {\n",
       "      register_renderer(events, OutputArea);\n",
       "    }\n",
       "  }\n",
       "  if (typeof (root._bokeh_timeout) === \"undefined\" || force === true) {\n",
       "    root._bokeh_timeout = Date.now() + 5000;\n",
       "    root._bokeh_failed_load = false;\n",
       "  }\n",
       "\n",
       "  const NB_LOAD_WARNING = {'data': {'text/html':\n",
       "     \"<div style='background-color: #fdd'>\\n\"+\n",
       "     \"<p>\\n\"+\n",
       "     \"BokehJS does not appear to have successfully loaded. If loading BokehJS from CDN, this \\n\"+\n",
       "     \"may be due to a slow or bad network connection. Possible fixes:\\n\"+\n",
       "     \"</p>\\n\"+\n",
       "     \"<ul>\\n\"+\n",
       "     \"<li>re-rerun `output_notebook()` to attempt to load from CDN again, or</li>\\n\"+\n",
       "     \"<li>use INLINE resources instead, as so:</li>\\n\"+\n",
       "     \"</ul>\\n\"+\n",
       "     \"<code>\\n\"+\n",
       "     \"from bokeh.resources import INLINE\\n\"+\n",
       "     \"output_notebook(resources=INLINE)\\n\"+\n",
       "     \"</code>\\n\"+\n",
       "     \"</div>\"}};\n",
       "\n",
       "  function display_loaded() {\n",
       "    const el = document.getElementById(null);\n",
       "    if (el != null) {\n",
       "      el.textContent = \"BokehJS is loading...\";\n",
       "    }\n",
       "    if (root.Bokeh !== undefined) {\n",
       "      if (el != null) {\n",
       "        el.textContent = \"BokehJS \" + root.Bokeh.version + \" successfully loaded.\";\n",
       "      }\n",
       "    } else if (Date.now() < root._bokeh_timeout) {\n",
       "      setTimeout(display_loaded, 100)\n",
       "    }\n",
       "  }\n",
       "\n",
       "  function run_callbacks() {\n",
       "    try {\n",
       "      root._bokeh_onload_callbacks.forEach(function(callback) {\n",
       "        if (callback != null)\n",
       "          callback();\n",
       "      });\n",
       "    } finally {\n",
       "      delete root._bokeh_onload_callbacks\n",
       "    }\n",
       "    console.debug(\"Bokeh: all callbacks have finished\");\n",
       "  }\n",
       "\n",
       "  function load_libs(css_urls, js_urls, callback) {\n",
       "    if (css_urls == null) css_urls = [];\n",
       "    if (js_urls == null) js_urls = [];\n",
       "\n",
       "    root._bokeh_onload_callbacks.push(callback);\n",
       "    if (root._bokeh_is_loading > 0) {\n",
       "      console.debug(\"Bokeh: BokehJS is being loaded, scheduling callback at\", now());\n",
       "      return null;\n",
       "    }\n",
       "    if (js_urls == null || js_urls.length === 0) {\n",
       "      run_callbacks();\n",
       "      return null;\n",
       "    }\n",
       "    console.debug(\"Bokeh: BokehJS not loaded, scheduling load and callback at\", now());\n",
       "    root._bokeh_is_loading = css_urls.length + js_urls.length;\n",
       "\n",
       "    function on_load() {\n",
       "      root._bokeh_is_loading--;\n",
       "      if (root._bokeh_is_loading === 0) {\n",
       "        console.debug(\"Bokeh: all BokehJS libraries/stylesheets loaded\");\n",
       "        run_callbacks()\n",
       "      }\n",
       "    }\n",
       "\n",
       "    function on_error(url) {\n",
       "      console.error(\"failed to load \" + url);\n",
       "    }\n",
       "\n",
       "    for (let i = 0; i < css_urls.length; i++) {\n",
       "      const url = css_urls[i];\n",
       "      const element = document.createElement(\"link\");\n",
       "      element.onload = on_load;\n",
       "      element.onerror = on_error.bind(null, url);\n",
       "      element.rel = \"stylesheet\";\n",
       "      element.type = \"text/css\";\n",
       "      element.href = url;\n",
       "      console.debug(\"Bokeh: injecting link tag for BokehJS stylesheet: \", url);\n",
       "      document.body.appendChild(element);\n",
       "    }\n",
       "\n",
       "    for (let i = 0; i < js_urls.length; i++) {\n",
       "      const url = js_urls[i];\n",
       "      const element = document.createElement('script');\n",
       "      element.onload = on_load;\n",
       "      element.onerror = on_error.bind(null, url);\n",
       "      element.async = false;\n",
       "      element.src = url;\n",
       "      console.debug(\"Bokeh: injecting script tag for BokehJS library: \", url);\n",
       "      document.head.appendChild(element);\n",
       "    }\n",
       "  };\n",
       "\n",
       "  function inject_raw_css(css) {\n",
       "    const element = document.createElement(\"style\");\n",
       "    element.appendChild(document.createTextNode(css));\n",
       "    document.body.appendChild(element);\n",
       "  }\n",
       "\n",
       "  const js_urls = [\"https://cdn.bokeh.org/bokeh/release/bokeh-2.4.3.min.js\", \"https://cdn.bokeh.org/bokeh/release/bokeh-gl-2.4.3.min.js\", \"https://cdn.bokeh.org/bokeh/release/bokeh-widgets-2.4.3.min.js\", \"https://cdn.bokeh.org/bokeh/release/bokeh-tables-2.4.3.min.js\", \"https://cdn.bokeh.org/bokeh/release/bokeh-mathjax-2.4.3.min.js\"];\n",
       "  const css_urls = [];\n",
       "\n",
       "  const inline_js = [    function(Bokeh) {\n",
       "      Bokeh.set_log_level(\"info\");\n",
       "    },\n",
       "function(Bokeh) {\n",
       "    }\n",
       "  ];\n",
       "\n",
       "  function run_inline_js() {\n",
       "    if (root.Bokeh !== undefined || force === true) {\n",
       "          for (let i = 0; i < inline_js.length; i++) {\n",
       "      inline_js[i].call(root, root.Bokeh);\n",
       "    }\n",
       "} else if (Date.now() < root._bokeh_timeout) {\n",
       "      setTimeout(run_inline_js, 100);\n",
       "    } else if (!root._bokeh_failed_load) {\n",
       "      console.log(\"Bokeh: BokehJS failed to load within specified timeout.\");\n",
       "      root._bokeh_failed_load = true;\n",
       "    } else if (force !== true) {\n",
       "      const cell = $(document.getElementById(null)).parents('.cell').data().cell;\n",
       "      cell.output_area.append_execute_result(NB_LOAD_WARNING)\n",
       "    }\n",
       "  }\n",
       "\n",
       "  if (root._bokeh_is_loading === 0) {\n",
       "    console.debug(\"Bokeh: BokehJS loaded, going straight to plotting\");\n",
       "    run_inline_js();\n",
       "  } else {\n",
       "    load_libs(css_urls, js_urls, function() {\n",
       "      console.debug(\"Bokeh: BokehJS plotting callback run at\", now());\n",
       "      run_inline_js();\n",
       "    });\n",
       "  }\n",
       "}(window));"
      ],
      "application/vnd.bokehjs_load.v0+json": "(function(root) {\n  function now() {\n    return new Date();\n  }\n\n  const force = true;\n\n  if (typeof root._bokeh_onload_callbacks === \"undefined\" || force === true) {\n    root._bokeh_onload_callbacks = [];\n    root._bokeh_is_loading = undefined;\n  }\n\n\n  if (typeof (root._bokeh_timeout) === \"undefined\" || force === true) {\n    root._bokeh_timeout = Date.now() + 5000;\n    root._bokeh_failed_load = false;\n  }\n\n  const NB_LOAD_WARNING = {'data': {'text/html':\n     \"<div style='background-color: #fdd'>\\n\"+\n     \"<p>\\n\"+\n     \"BokehJS does not appear to have successfully loaded. If loading BokehJS from CDN, this \\n\"+\n     \"may be due to a slow or bad network connection. Possible fixes:\\n\"+\n     \"</p>\\n\"+\n     \"<ul>\\n\"+\n     \"<li>re-rerun `output_notebook()` to attempt to load from CDN again, or</li>\\n\"+\n     \"<li>use INLINE resources instead, as so:</li>\\n\"+\n     \"</ul>\\n\"+\n     \"<code>\\n\"+\n     \"from bokeh.resources import INLINE\\n\"+\n     \"output_notebook(resources=INLINE)\\n\"+\n     \"</code>\\n\"+\n     \"</div>\"}};\n\n  function display_loaded() {\n    const el = document.getElementById(null);\n    if (el != null) {\n      el.textContent = \"BokehJS is loading...\";\n    }\n    if (root.Bokeh !== undefined) {\n      if (el != null) {\n        el.textContent = \"BokehJS \" + root.Bokeh.version + \" successfully loaded.\";\n      }\n    } else if (Date.now() < root._bokeh_timeout) {\n      setTimeout(display_loaded, 100)\n    }\n  }\n\n  function run_callbacks() {\n    try {\n      root._bokeh_onload_callbacks.forEach(function(callback) {\n        if (callback != null)\n          callback();\n      });\n    } finally {\n      delete root._bokeh_onload_callbacks\n    }\n    console.debug(\"Bokeh: all callbacks have finished\");\n  }\n\n  function load_libs(css_urls, js_urls, callback) {\n    if (css_urls == null) css_urls = [];\n    if (js_urls == null) js_urls = [];\n\n    root._bokeh_onload_callbacks.push(callback);\n    if (root._bokeh_is_loading > 0) {\n      console.debug(\"Bokeh: BokehJS is being loaded, scheduling callback at\", now());\n      return null;\n    }\n    if (js_urls == null || js_urls.length === 0) {\n      run_callbacks();\n      return null;\n    }\n    console.debug(\"Bokeh: BokehJS not loaded, scheduling load and callback at\", now());\n    root._bokeh_is_loading = css_urls.length + js_urls.length;\n\n    function on_load() {\n      root._bokeh_is_loading--;\n      if (root._bokeh_is_loading === 0) {\n        console.debug(\"Bokeh: all BokehJS libraries/stylesheets loaded\");\n        run_callbacks()\n      }\n    }\n\n    function on_error(url) {\n      console.error(\"failed to load \" + url);\n    }\n\n    for (let i = 0; i < css_urls.length; i++) {\n      const url = css_urls[i];\n      const element = document.createElement(\"link\");\n      element.onload = on_load;\n      element.onerror = on_error.bind(null, url);\n      element.rel = \"stylesheet\";\n      element.type = \"text/css\";\n      element.href = url;\n      console.debug(\"Bokeh: injecting link tag for BokehJS stylesheet: \", url);\n      document.body.appendChild(element);\n    }\n\n    for (let i = 0; i < js_urls.length; i++) {\n      const url = js_urls[i];\n      const element = document.createElement('script');\n      element.onload = on_load;\n      element.onerror = on_error.bind(null, url);\n      element.async = false;\n      element.src = url;\n      console.debug(\"Bokeh: injecting script tag for BokehJS library: \", url);\n      document.head.appendChild(element);\n    }\n  };\n\n  function inject_raw_css(css) {\n    const element = document.createElement(\"style\");\n    element.appendChild(document.createTextNode(css));\n    document.body.appendChild(element);\n  }\n\n  const js_urls = [\"https://cdn.bokeh.org/bokeh/release/bokeh-2.4.3.min.js\", \"https://cdn.bokeh.org/bokeh/release/bokeh-gl-2.4.3.min.js\", \"https://cdn.bokeh.org/bokeh/release/bokeh-widgets-2.4.3.min.js\", \"https://cdn.bokeh.org/bokeh/release/bokeh-tables-2.4.3.min.js\", \"https://cdn.bokeh.org/bokeh/release/bokeh-mathjax-2.4.3.min.js\"];\n  const css_urls = [];\n\n  const inline_js = [    function(Bokeh) {\n      Bokeh.set_log_level(\"info\");\n    },\nfunction(Bokeh) {\n    }\n  ];\n\n  function run_inline_js() {\n    if (root.Bokeh !== undefined || force === true) {\n          for (let i = 0; i < inline_js.length; i++) {\n      inline_js[i].call(root, root.Bokeh);\n    }\n} else if (Date.now() < root._bokeh_timeout) {\n      setTimeout(run_inline_js, 100);\n    } else if (!root._bokeh_failed_load) {\n      console.log(\"Bokeh: BokehJS failed to load within specified timeout.\");\n      root._bokeh_failed_load = true;\n    } else if (force !== true) {\n      const cell = $(document.getElementById(null)).parents('.cell').data().cell;\n      cell.output_area.append_execute_result(NB_LOAD_WARNING)\n    }\n  }\n\n  if (root._bokeh_is_loading === 0) {\n    console.debug(\"Bokeh: BokehJS loaded, going straight to plotting\");\n    run_inline_js();\n  } else {\n    load_libs(css_urls, js_urls, function() {\n      console.debug(\"Bokeh: BokehJS plotting callback run at\", now());\n      run_inline_js();\n    });\n  }\n}(window));"
     },
     "metadata": {},
     "output_type": "display_data"
    },
    {
     "data": {
      "text/html": [
       "\n",
       "  <div class=\"bk-root\" id=\"adc2da5d-8f8a-4b3a-85d7-7ef47ba5adfb\" data-root-id=\"1302\"></div>\n"
      ]
     },
     "metadata": {},
     "output_type": "display_data"
    },
    {
     "data": {
      "application/javascript": [
       "(function(root) {\n",
       "  function embed_document(root) {\n",
       "  const docs_json = {\"8e07db1b-79a9-47ff-811a-0c305484b555\":{\"defs\":[],\"roots\":{\"references\":[{\"attributes\":{\"below\":[{\"id\":\"1313\"}],\"center\":[{\"id\":\"1316\"},{\"id\":\"1320\"},{\"id\":\"1352\"}],\"height\":400,\"left\":[{\"id\":\"1317\"}],\"renderers\":[{\"id\":\"1340\"},{\"id\":\"1359\"}],\"right\":[{\"id\":\"1352\"}],\"sizing_mode\":\"stretch_width\",\"title\":{\"id\":\"1303\"},\"toolbar\":{\"id\":\"1328\"},\"x_range\":{\"id\":\"1305\"},\"x_scale\":{\"id\":\"1309\"},\"y_range\":{\"id\":\"1307\"},\"y_scale\":{\"id\":\"1311\"}},\"id\":\"1302\",\"subtype\":\"Figure\",\"type\":\"Plot\"},{\"attributes\":{\"coordinates\":null,\"data_source\":{\"id\":\"1354\"},\"glyph\":{\"id\":\"1356\"},\"group\":null,\"hover_glyph\":null,\"muted_glyph\":{\"id\":\"1358\"},\"nonselection_glyph\":{\"id\":\"1357\"},\"view\":{\"id\":\"1360\"}},\"id\":\"1359\",\"type\":\"GlyphRenderer\"},{\"attributes\":{},\"id\":\"1348\",\"type\":\"AllLabels\"},{\"attributes\":{\"line_alpha\":0.2,\"line_color\":\"#ff7f0e\",\"line_width\":2,\"x\":{\"field\":\"xs\"},\"y\":{\"field\":\"ys\"}},\"id\":\"1358\",\"type\":\"Line\"},{\"attributes\":{},\"id\":\"1324\",\"type\":\"ResetTool\"},{\"attributes\":{\"line_alpha\":0.2,\"line_color\":\"#1f77b4\",\"line_width\":2,\"x\":{\"field\":\"xs\"},\"y\":{\"field\":\"ys\"}},\"id\":\"1339\",\"type\":\"Line\"},{\"attributes\":{},\"id\":\"1322\",\"type\":\"WheelZoomTool\"},{\"attributes\":{\"callback\":null,\"tooltips\":[[\"x\",\"$x\"],[\"y\",\"$y\"]]},\"id\":\"1325\",\"type\":\"HoverTool\"},{\"attributes\":{\"coordinates\":null,\"data_source\":{\"id\":\"1335\"},\"glyph\":{\"id\":\"1337\"},\"group\":null,\"hover_glyph\":null,\"muted_glyph\":{\"id\":\"1339\"},\"nonselection_glyph\":{\"id\":\"1338\"},\"view\":{\"id\":\"1341\"}},\"id\":\"1340\",\"type\":\"GlyphRenderer\"},{\"attributes\":{\"line_color\":\"#ff7f0e\",\"line_width\":2,\"x\":{\"field\":\"xs\"},\"y\":{\"field\":\"ys\"}},\"id\":\"1356\",\"type\":\"Line\"},{\"attributes\":{\"label\":{\"value\":\"y = 2 - exp(-t)\"},\"renderers\":[{\"id\":\"1340\"}]},\"id\":\"1353\",\"type\":\"LegendItem\"},{\"attributes\":{},\"id\":\"1318\",\"type\":\"BasicTicker\"},{\"attributes\":{\"data\":{\"xs\":{\"__ndarray__\":\"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\",\"dtype\":\"float64\",\"order\":\"little\",\"shape\":[233]},\"ys\":{\"__ndarray__\":\"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\",\"dtype\":\"float64\",\"order\":\"little\",\"shape\":[233]}},\"selected\":{\"id\":\"1350\"},\"selection_policy\":{\"id\":\"1349\"}},\"id\":\"1335\",\"type\":\"ColumnDataSource\"},{\"attributes\":{},\"id\":\"1345\",\"type\":\"AllLabels\"},{\"attributes\":{},\"id\":\"1349\",\"type\":\"UnionRenderers\"},{\"attributes\":{},\"id\":\"1350\",\"type\":\"Selection\"},{\"attributes\":{},\"id\":\"1326\",\"type\":\"SaveTool\"},{\"attributes\":{},\"id\":\"1311\",\"type\":\"LinearScale\"},{\"attributes\":{},\"id\":\"1344\",\"type\":\"BasicTickFormatter\"},{\"attributes\":{},\"id\":\"1347\",\"type\":\"BasicTickFormatter\"},{\"attributes\":{\"axis_label\":\"y\",\"axis_label_standoff\":10,\"axis_label_text_color\":\"#5B5B5B\",\"axis_label_text_font\":\"Calibri Light\",\"axis_label_text_font_size\":\"1.15em\",\"axis_label_text_font_style\":\"bold\",\"axis_line_alpha\":1,\"axis_line_color\":\"#5B5B5B\",\"coordinates\":null,\"formatter\":{\"id\":\"1344\"},\"group\":null,\"major_label_policy\":{\"id\":\"1345\"},\"major_label_text_color\":\"#5B5B5B\",\"major_label_text_font\":\"Calibri Light\",\"major_label_text_font_size\":\"0.95em\",\"major_label_text_font_style\":\"bold\",\"major_tick_in\":0,\"major_tick_line_alpha\":0.25,\"major_tick_line_color\":\"#5B5B5B\",\"major_tick_out\":3,\"minor_tick_line_alpha\":0.25,\"minor_tick_line_color\":\"#5B5B5B\",\"ticker\":{\"id\":\"1318\"}},\"id\":\"1317\",\"type\":\"LinearAxis\"},{\"attributes\":{\"source\":{\"id\":\"1335\"}},\"id\":\"1341\",\"type\":\"CDSView\"},{\"attributes\":{},\"id\":\"1309\",\"type\":\"LinearScale\"},{\"attributes\":{\"axis\":{\"id\":\"1317\"},\"coordinates\":null,\"dimension\":1,\"group\":null,\"minor_grid_line_alpha\":0.6,\"minor_grid_line_color\":\"#e5e5e5\",\"minor_grid_line_dash\":[2,2],\"ticker\":null},\"id\":\"1320\",\"type\":\"Grid\"},{\"attributes\":{\"bottom_units\":\"screen\",\"coordinates\":null,\"fill_alpha\":0.5,\"fill_color\":\"lightgrey\",\"group\":null,\"left_units\":\"screen\",\"level\":\"overlay\",\"line_alpha\":1.0,\"line_color\":\"black\",\"line_dash\":[4,4],\"line_width\":2,\"right_units\":\"screen\",\"syncable\":false,\"top_units\":\"screen\"},\"id\":\"1327\",\"type\":\"BoxAnnotation\"},{\"attributes\":{\"overlay\":{\"id\":\"1327\"}},\"id\":\"1323\",\"type\":\"BoxZoomTool\"},{\"attributes\":{\"label\":{\"value\":\"y = -exp(-t)\"},\"renderers\":[{\"id\":\"1359\"}]},\"id\":\"1373\",\"type\":\"LegendItem\"},{\"attributes\":{},\"id\":\"1307\",\"type\":\"DataRange1d\"},{\"attributes\":{\"coordinates\":null,\"group\":null,\"text\":\"Initial value problems y' = exp(-t)\",\"text_color\":\"#5B5B5B\",\"text_font\":\"Calibri Light\",\"text_font_size\":\"1.25em\",\"text_font_style\":\"bold\"},\"id\":\"1303\",\"type\":\"Title\"},{\"attributes\":{\"tools\":[{\"id\":\"1321\"},{\"id\":\"1322\"},{\"id\":\"1323\"},{\"id\":\"1324\"},{\"id\":\"1325\"},{\"id\":\"1326\"}]},\"id\":\"1328\",\"type\":\"Toolbar\"},{\"attributes\":{\"axis\":{\"id\":\"1313\"},\"coordinates\":null,\"group\":null,\"minor_grid_line_alpha\":0.6,\"minor_grid_line_color\":\"#e5e5e5\",\"minor_grid_line_dash\":[2,2],\"ticker\":null},\"id\":\"1316\",\"type\":\"Grid\"},{\"attributes\":{},\"id\":\"1371\",\"type\":\"Selection\"},{\"attributes\":{},\"id\":\"1321\",\"type\":\"PanTool\"},{\"attributes\":{\"background_fill_alpha\":0.25,\"border_line_alpha\":0,\"click_policy\":\"hide\",\"coordinates\":null,\"glyph_width\":15,\"group\":null,\"items\":[{\"id\":\"1353\"},{\"id\":\"1373\"}],\"label_standoff\":8,\"label_text_color\":\"#5B5B5B\",\"label_text_font\":\"Calibri Light\",\"label_text_font_size\":\"0.95em\",\"label_text_font_style\":\"bold\",\"spacing\":8},\"id\":\"1352\",\"type\":\"Legend\"},{\"attributes\":{},\"id\":\"1305\",\"type\":\"DataRange1d\"},{\"attributes\":{\"line_alpha\":0.1,\"line_color\":\"#1f77b4\",\"line_width\":2,\"x\":{\"field\":\"xs\"},\"y\":{\"field\":\"ys\"}},\"id\":\"1338\",\"type\":\"Line\"},{\"attributes\":{\"data\":{\"xs\":{\"__ndarray__\":\"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\",\"dtype\":\"float64\",\"order\":\"little\",\"shape\":[233]},\"ys\":{\"__ndarray__\":\"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\",\"dtype\":\"float64\",\"order\":\"little\",\"shape\":[233]}},\"selected\":{\"id\":\"1371\"},\"selection_policy\":{\"id\":\"1370\"}},\"id\":\"1354\",\"type\":\"ColumnDataSource\"},{\"attributes\":{\"line_alpha\":0.1,\"line_color\":\"#ff7f0e\",\"line_width\":2,\"x\":{\"field\":\"xs\"},\"y\":{\"field\":\"ys\"}},\"id\":\"1357\",\"type\":\"Line\"},{\"attributes\":{\"line_color\":\"#1f77b4\",\"line_width\":2,\"x\":{\"field\":\"xs\"},\"y\":{\"field\":\"ys\"}},\"id\":\"1337\",\"type\":\"Line\"},{\"attributes\":{},\"id\":\"1314\",\"type\":\"BasicTicker\"},{\"attributes\":{},\"id\":\"1370\",\"type\":\"UnionRenderers\"},{\"attributes\":{\"axis_label\":\"t\",\"axis_label_standoff\":10,\"axis_label_text_color\":\"#5B5B5B\",\"axis_label_text_font\":\"Calibri Light\",\"axis_label_text_font_size\":\"1.15em\",\"axis_label_text_font_style\":\"bold\",\"axis_line_alpha\":1,\"axis_line_color\":\"#5B5B5B\",\"coordinates\":null,\"formatter\":{\"id\":\"1347\"},\"group\":null,\"major_label_policy\":{\"id\":\"1348\"},\"major_label_text_color\":\"#5B5B5B\",\"major_label_text_font\":\"Calibri Light\",\"major_label_text_font_size\":\"0.95em\",\"major_label_text_font_style\":\"bold\",\"major_tick_in\":0,\"major_tick_line_alpha\":0.25,\"major_tick_line_color\":\"#5B5B5B\",\"major_tick_out\":3,\"minor_tick_line_alpha\":0.25,\"minor_tick_line_color\":\"#5B5B5B\",\"ticker\":{\"id\":\"1314\"}},\"id\":\"1313\",\"type\":\"LinearAxis\"},{\"attributes\":{\"source\":{\"id\":\"1354\"}},\"id\":\"1360\",\"type\":\"CDSView\"}],\"root_ids\":[\"1302\"]},\"title\":\"Bokeh Application\",\"version\":\"2.4.3\"}};\n",
       "  const render_items = [{\"docid\":\"8e07db1b-79a9-47ff-811a-0c305484b555\",\"root_ids\":[\"1302\"],\"roots\":{\"1302\":\"adc2da5d-8f8a-4b3a-85d7-7ef47ba5adfb\"}}];\n",
       "  root.Bokeh.embed.embed_items_notebook(docs_json, render_items);\n",
       "  }\n",
       "  if (root.Bokeh !== undefined) {\n",
       "    embed_document(root);\n",
       "  } else {\n",
       "    let attempts = 0;\n",
       "    const timer = setInterval(function(root) {\n",
       "      if (root.Bokeh !== undefined) {\n",
       "        clearInterval(timer);\n",
       "        embed_document(root);\n",
       "      } else {\n",
       "        attempts++;\n",
       "        if (attempts > 100) {\n",
       "          clearInterval(timer);\n",
       "          console.log(\"Bokeh: ERROR: Unable to run BokehJS code because BokehJS library is missing\");\n",
       "        }\n",
       "      }\n",
       "    }, 10, root)\n",
       "  }\n",
       "})(window);"
      ],
      "application/vnd.bokehjs_exec.v0+json": ""
     },
     "metadata": {
      "application/vnd.bokehjs_exec.v0+json": {
       "id": "1302"
      }
     },
     "output_type": "display_data"
    },
    {
     "data": {
      "text/plain": [
       "<spb.backends.bokeh.BokehBackend at 0x18dca3da750>"
      ]
     },
     "execution_count": 17,
     "metadata": {},
     "output_type": "execute_result"
    }
   ],
   "source": [
    "plot(\n",
    "    (sol1.rhs, \"y = 2 - exp(-t)\"),\n",
    "    (sol2.rhs, \"y = -exp(-t)\"),\n",
    "    (t, -2, 5),\n",
    "    title=\"Initial value problems y' = exp(-t)\",\n",
    "    ylabel=\"y\",\n",
    "    adaptive=True,\n",
    "    detect_poles=True,\n",
    "    modules=\"mpmath\",\n",
    "    backend=BB)"
   ]
  },
  {
   "cell_type": "markdown",
   "id": "a1ca5288-d5e2-4296-b042-9f01591f60ea",
   "metadata": {
    "tags": []
   },
   "source": [
    "### d) $\\frac{\\mathrm{d}y}{\\mathrm{d}t} = -yt$"
   ]
  },
  {
   "cell_type": "code",
   "execution_count": 18,
   "id": "dbd4fbc9-9761-4b82-a5e3-a68a3cccbc5d",
   "metadata": {
    "tags": []
   },
   "outputs": [
    {
     "data": {
      "text/latex": [
       "$\\displaystyle t y{\\left(t \\right)} + \\frac{d}{d t} y{\\left(t \\right)}$"
      ],
      "text/plain": [
       "t*y(t) + Derivative(y(t), t)"
      ]
     },
     "execution_count": 18,
     "metadata": {},
     "output_type": "execute_result"
    }
   ],
   "source": [
    "eqn = y(t).diff(t) + y(t) * t\n",
    "eqn"
   ]
  },
  {
   "cell_type": "code",
   "execution_count": 19,
   "id": "54e50e46-60e5-481a-a1d9-951b95ede926",
   "metadata": {
    "tags": []
   },
   "outputs": [
    {
     "data": {
      "text/plain": [
       "('separable',\n",
       " '1st_exact',\n",
       " '1st_linear',\n",
       " 'Bernoulli',\n",
       " 'almost_linear',\n",
       " '1st_power_series',\n",
       " 'lie_group',\n",
       " 'separable_Integral',\n",
       " '1st_exact_Integral',\n",
       " '1st_linear_Integral',\n",
       " 'Bernoulli_Integral',\n",
       " 'almost_linear_Integral')"
      ]
     },
     "execution_count": 19,
     "metadata": {},
     "output_type": "execute_result"
    }
   ],
   "source": [
    "ode.classify_ode(eqn)"
   ]
  },
  {
   "cell_type": "markdown",
   "id": "9cd358fc-71ec-4aa1-9483-88b3ec328636",
   "metadata": {},
   "source": [
    "#### $y(0) = 1$:"
   ]
  },
  {
   "cell_type": "code",
   "execution_count": 20,
   "id": "3818a704-8813-4975-ab63-646972b59d82",
   "metadata": {
    "tags": []
   },
   "outputs": [
    {
     "data": {
      "text/latex": [
       "$\\displaystyle y{\\left(t \\right)} = e^{- \\frac{t^{2}}{2}}$"
      ],
      "text/plain": [
       "Eq(y(t), exp(-t**2/2))"
      ]
     },
     "execution_count": 20,
     "metadata": {},
     "output_type": "execute_result"
    }
   ],
   "source": [
    "sol1 = ode.dsolve(eqn, ics={y(0): 1}, hint=\"separable\")\n",
    "sol1"
   ]
  },
  {
   "cell_type": "markdown",
   "id": "eb89340f-2bae-41fa-bfd4-3ba12e62d1c0",
   "metadata": {},
   "source": [
    "#### $y(0) = -1$:"
   ]
  },
  {
   "cell_type": "code",
   "execution_count": 21,
   "id": "396f2530-8b2e-407c-93cf-978044cc87ad",
   "metadata": {
    "tags": []
   },
   "outputs": [
    {
     "data": {
      "text/latex": [
       "$\\displaystyle y{\\left(t \\right)} = - e^{- \\frac{t^{2}}{2}}$"
      ],
      "text/plain": [
       "Eq(y(t), -exp(-t**2/2))"
      ]
     },
     "execution_count": 21,
     "metadata": {},
     "output_type": "execute_result"
    }
   ],
   "source": [
    "sol2 = ode.dsolve(eqn, ics={y(0): -1}, hint=\"separable\")\n",
    "sol2"
   ]
  },
  {
   "cell_type": "markdown",
   "id": "5ca15230-3b1e-48d9-b826-481d21bc8dc4",
   "metadata": {},
   "source": [
    "#### Plotting the two solutions in the same graph"
   ]
  },
  {
   "cell_type": "code",
   "execution_count": 22,
   "id": "4563658a-d643-42ff-82da-b65b0bddab28",
   "metadata": {
    "tags": []
   },
   "outputs": [
    {
     "data": {
      "application/javascript": [
       "(function(root) {\n",
       "  function now() {\n",
       "    return new Date();\n",
       "  }\n",
       "\n",
       "  const force = true;\n",
       "\n",
       "  if (typeof root._bokeh_onload_callbacks === \"undefined\" || force === true) {\n",
       "    root._bokeh_onload_callbacks = [];\n",
       "    root._bokeh_is_loading = undefined;\n",
       "  }\n",
       "\n",
       "const JS_MIME_TYPE = 'application/javascript';\n",
       "  const HTML_MIME_TYPE = 'text/html';\n",
       "  const EXEC_MIME_TYPE = 'application/vnd.bokehjs_exec.v0+json';\n",
       "  const CLASS_NAME = 'output_bokeh rendered_html';\n",
       "\n",
       "  /**\n",
       "   * Render data to the DOM node\n",
       "   */\n",
       "  function render(props, node) {\n",
       "    const script = document.createElement(\"script\");\n",
       "    node.appendChild(script);\n",
       "  }\n",
       "\n",
       "  /**\n",
       "   * Handle when an output is cleared or removed\n",
       "   */\n",
       "  function handleClearOutput(event, handle) {\n",
       "    const cell = handle.cell;\n",
       "\n",
       "    const id = cell.output_area._bokeh_element_id;\n",
       "    const server_id = cell.output_area._bokeh_server_id;\n",
       "    // Clean up Bokeh references\n",
       "    if (id != null && id in Bokeh.index) {\n",
       "      Bokeh.index[id].model.document.clear();\n",
       "      delete Bokeh.index[id];\n",
       "    }\n",
       "\n",
       "    if (server_id !== undefined) {\n",
       "      // Clean up Bokeh references\n",
       "      const cmd_clean = \"from bokeh.io.state import curstate; print(curstate().uuid_to_server['\" + server_id + \"'].get_sessions()[0].document.roots[0]._id)\";\n",
       "      cell.notebook.kernel.execute(cmd_clean, {\n",
       "        iopub: {\n",
       "          output: function(msg) {\n",
       "            const id = msg.content.text.trim();\n",
       "            if (id in Bokeh.index) {\n",
       "              Bokeh.index[id].model.document.clear();\n",
       "              delete Bokeh.index[id];\n",
       "            }\n",
       "          }\n",
       "        }\n",
       "      });\n",
       "      // Destroy server and session\n",
       "      const cmd_destroy = \"import bokeh.io.notebook as ion; ion.destroy_server('\" + server_id + \"')\";\n",
       "      cell.notebook.kernel.execute(cmd_destroy);\n",
       "    }\n",
       "  }\n",
       "\n",
       "  /**\n",
       "   * Handle when a new output is added\n",
       "   */\n",
       "  function handleAddOutput(event, handle) {\n",
       "    const output_area = handle.output_area;\n",
       "    const output = handle.output;\n",
       "\n",
       "    // limit handleAddOutput to display_data with EXEC_MIME_TYPE content only\n",
       "    if ((output.output_type != \"display_data\") || (!Object.prototype.hasOwnProperty.call(output.data, EXEC_MIME_TYPE))) {\n",
       "      return\n",
       "    }\n",
       "\n",
       "    const toinsert = output_area.element.find(\".\" + CLASS_NAME.split(' ')[0]);\n",
       "\n",
       "    if (output.metadata[EXEC_MIME_TYPE][\"id\"] !== undefined) {\n",
       "      toinsert[toinsert.length - 1].firstChild.textContent = output.data[JS_MIME_TYPE];\n",
       "      // store reference to embed id on output_area\n",
       "      output_area._bokeh_element_id = output.metadata[EXEC_MIME_TYPE][\"id\"];\n",
       "    }\n",
       "    if (output.metadata[EXEC_MIME_TYPE][\"server_id\"] !== undefined) {\n",
       "      const bk_div = document.createElement(\"div\");\n",
       "      bk_div.innerHTML = output.data[HTML_MIME_TYPE];\n",
       "      const script_attrs = bk_div.children[0].attributes;\n",
       "      for (let i = 0; i < script_attrs.length; i++) {\n",
       "        toinsert[toinsert.length - 1].firstChild.setAttribute(script_attrs[i].name, script_attrs[i].value);\n",
       "        toinsert[toinsert.length - 1].firstChild.textContent = bk_div.children[0].textContent\n",
       "      }\n",
       "      // store reference to server id on output_area\n",
       "      output_area._bokeh_server_id = output.metadata[EXEC_MIME_TYPE][\"server_id\"];\n",
       "    }\n",
       "  }\n",
       "\n",
       "  function register_renderer(events, OutputArea) {\n",
       "\n",
       "    function append_mime(data, metadata, element) {\n",
       "      // create a DOM node to render to\n",
       "      const toinsert = this.create_output_subarea(\n",
       "        metadata,\n",
       "        CLASS_NAME,\n",
       "        EXEC_MIME_TYPE\n",
       "      );\n",
       "      this.keyboard_manager.register_events(toinsert);\n",
       "      // Render to node\n",
       "      const props = {data: data, metadata: metadata[EXEC_MIME_TYPE]};\n",
       "      render(props, toinsert[toinsert.length - 1]);\n",
       "      element.append(toinsert);\n",
       "      return toinsert\n",
       "    }\n",
       "\n",
       "    /* Handle when an output is cleared or removed */\n",
       "    events.on('clear_output.CodeCell', handleClearOutput);\n",
       "    events.on('delete.Cell', handleClearOutput);\n",
       "\n",
       "    /* Handle when a new output is added */\n",
       "    events.on('output_added.OutputArea', handleAddOutput);\n",
       "\n",
       "    /**\n",
       "     * Register the mime type and append_mime function with output_area\n",
       "     */\n",
       "    OutputArea.prototype.register_mime_type(EXEC_MIME_TYPE, append_mime, {\n",
       "      /* Is output safe? */\n",
       "      safe: true,\n",
       "      /* Index of renderer in `output_area.display_order` */\n",
       "      index: 0\n",
       "    });\n",
       "  }\n",
       "\n",
       "  // register the mime type if in Jupyter Notebook environment and previously unregistered\n",
       "  if (root.Jupyter !== undefined) {\n",
       "    const events = require('base/js/events');\n",
       "    const OutputArea = require('notebook/js/outputarea').OutputArea;\n",
       "\n",
       "    if (OutputArea.prototype.mime_types().indexOf(EXEC_MIME_TYPE) == -1) {\n",
       "      register_renderer(events, OutputArea);\n",
       "    }\n",
       "  }\n",
       "  if (typeof (root._bokeh_timeout) === \"undefined\" || force === true) {\n",
       "    root._bokeh_timeout = Date.now() + 5000;\n",
       "    root._bokeh_failed_load = false;\n",
       "  }\n",
       "\n",
       "  const NB_LOAD_WARNING = {'data': {'text/html':\n",
       "     \"<div style='background-color: #fdd'>\\n\"+\n",
       "     \"<p>\\n\"+\n",
       "     \"BokehJS does not appear to have successfully loaded. If loading BokehJS from CDN, this \\n\"+\n",
       "     \"may be due to a slow or bad network connection. Possible fixes:\\n\"+\n",
       "     \"</p>\\n\"+\n",
       "     \"<ul>\\n\"+\n",
       "     \"<li>re-rerun `output_notebook()` to attempt to load from CDN again, or</li>\\n\"+\n",
       "     \"<li>use INLINE resources instead, as so:</li>\\n\"+\n",
       "     \"</ul>\\n\"+\n",
       "     \"<code>\\n\"+\n",
       "     \"from bokeh.resources import INLINE\\n\"+\n",
       "     \"output_notebook(resources=INLINE)\\n\"+\n",
       "     \"</code>\\n\"+\n",
       "     \"</div>\"}};\n",
       "\n",
       "  function display_loaded() {\n",
       "    const el = document.getElementById(null);\n",
       "    if (el != null) {\n",
       "      el.textContent = \"BokehJS is loading...\";\n",
       "    }\n",
       "    if (root.Bokeh !== undefined) {\n",
       "      if (el != null) {\n",
       "        el.textContent = \"BokehJS \" + root.Bokeh.version + \" successfully loaded.\";\n",
       "      }\n",
       "    } else if (Date.now() < root._bokeh_timeout) {\n",
       "      setTimeout(display_loaded, 100)\n",
       "    }\n",
       "  }\n",
       "\n",
       "  function run_callbacks() {\n",
       "    try {\n",
       "      root._bokeh_onload_callbacks.forEach(function(callback) {\n",
       "        if (callback != null)\n",
       "          callback();\n",
       "      });\n",
       "    } finally {\n",
       "      delete root._bokeh_onload_callbacks\n",
       "    }\n",
       "    console.debug(\"Bokeh: all callbacks have finished\");\n",
       "  }\n",
       "\n",
       "  function load_libs(css_urls, js_urls, callback) {\n",
       "    if (css_urls == null) css_urls = [];\n",
       "    if (js_urls == null) js_urls = [];\n",
       "\n",
       "    root._bokeh_onload_callbacks.push(callback);\n",
       "    if (root._bokeh_is_loading > 0) {\n",
       "      console.debug(\"Bokeh: BokehJS is being loaded, scheduling callback at\", now());\n",
       "      return null;\n",
       "    }\n",
       "    if (js_urls == null || js_urls.length === 0) {\n",
       "      run_callbacks();\n",
       "      return null;\n",
       "    }\n",
       "    console.debug(\"Bokeh: BokehJS not loaded, scheduling load and callback at\", now());\n",
       "    root._bokeh_is_loading = css_urls.length + js_urls.length;\n",
       "\n",
       "    function on_load() {\n",
       "      root._bokeh_is_loading--;\n",
       "      if (root._bokeh_is_loading === 0) {\n",
       "        console.debug(\"Bokeh: all BokehJS libraries/stylesheets loaded\");\n",
       "        run_callbacks()\n",
       "      }\n",
       "    }\n",
       "\n",
       "    function on_error(url) {\n",
       "      console.error(\"failed to load \" + url);\n",
       "    }\n",
       "\n",
       "    for (let i = 0; i < css_urls.length; i++) {\n",
       "      const url = css_urls[i];\n",
       "      const element = document.createElement(\"link\");\n",
       "      element.onload = on_load;\n",
       "      element.onerror = on_error.bind(null, url);\n",
       "      element.rel = \"stylesheet\";\n",
       "      element.type = \"text/css\";\n",
       "      element.href = url;\n",
       "      console.debug(\"Bokeh: injecting link tag for BokehJS stylesheet: \", url);\n",
       "      document.body.appendChild(element);\n",
       "    }\n",
       "\n",
       "    for (let i = 0; i < js_urls.length; i++) {\n",
       "      const url = js_urls[i];\n",
       "      const element = document.createElement('script');\n",
       "      element.onload = on_load;\n",
       "      element.onerror = on_error.bind(null, url);\n",
       "      element.async = false;\n",
       "      element.src = url;\n",
       "      console.debug(\"Bokeh: injecting script tag for BokehJS library: \", url);\n",
       "      document.head.appendChild(element);\n",
       "    }\n",
       "  };\n",
       "\n",
       "  function inject_raw_css(css) {\n",
       "    const element = document.createElement(\"style\");\n",
       "    element.appendChild(document.createTextNode(css));\n",
       "    document.body.appendChild(element);\n",
       "  }\n",
       "\n",
       "  const js_urls = [\"https://cdn.bokeh.org/bokeh/release/bokeh-2.4.3.min.js\", \"https://cdn.bokeh.org/bokeh/release/bokeh-gl-2.4.3.min.js\", \"https://cdn.bokeh.org/bokeh/release/bokeh-widgets-2.4.3.min.js\", \"https://cdn.bokeh.org/bokeh/release/bokeh-tables-2.4.3.min.js\", \"https://cdn.bokeh.org/bokeh/release/bokeh-mathjax-2.4.3.min.js\"];\n",
       "  const css_urls = [];\n",
       "\n",
       "  const inline_js = [    function(Bokeh) {\n",
       "      Bokeh.set_log_level(\"info\");\n",
       "    },\n",
       "function(Bokeh) {\n",
       "    }\n",
       "  ];\n",
       "\n",
       "  function run_inline_js() {\n",
       "    if (root.Bokeh !== undefined || force === true) {\n",
       "          for (let i = 0; i < inline_js.length; i++) {\n",
       "      inline_js[i].call(root, root.Bokeh);\n",
       "    }\n",
       "} else if (Date.now() < root._bokeh_timeout) {\n",
       "      setTimeout(run_inline_js, 100);\n",
       "    } else if (!root._bokeh_failed_load) {\n",
       "      console.log(\"Bokeh: BokehJS failed to load within specified timeout.\");\n",
       "      root._bokeh_failed_load = true;\n",
       "    } else if (force !== true) {\n",
       "      const cell = $(document.getElementById(null)).parents('.cell').data().cell;\n",
       "      cell.output_area.append_execute_result(NB_LOAD_WARNING)\n",
       "    }\n",
       "  }\n",
       "\n",
       "  if (root._bokeh_is_loading === 0) {\n",
       "    console.debug(\"Bokeh: BokehJS loaded, going straight to plotting\");\n",
       "    run_inline_js();\n",
       "  } else {\n",
       "    load_libs(css_urls, js_urls, function() {\n",
       "      console.debug(\"Bokeh: BokehJS plotting callback run at\", now());\n",
       "      run_inline_js();\n",
       "    });\n",
       "  }\n",
       "}(window));"
      ],
      "application/vnd.bokehjs_load.v0+json": "(function(root) {\n  function now() {\n    return new Date();\n  }\n\n  const force = true;\n\n  if (typeof root._bokeh_onload_callbacks === \"undefined\" || force === true) {\n    root._bokeh_onload_callbacks = [];\n    root._bokeh_is_loading = undefined;\n  }\n\n\n  if (typeof (root._bokeh_timeout) === \"undefined\" || force === true) {\n    root._bokeh_timeout = Date.now() + 5000;\n    root._bokeh_failed_load = false;\n  }\n\n  const NB_LOAD_WARNING = {'data': {'text/html':\n     \"<div style='background-color: #fdd'>\\n\"+\n     \"<p>\\n\"+\n     \"BokehJS does not appear to have successfully loaded. If loading BokehJS from CDN, this \\n\"+\n     \"may be due to a slow or bad network connection. Possible fixes:\\n\"+\n     \"</p>\\n\"+\n     \"<ul>\\n\"+\n     \"<li>re-rerun `output_notebook()` to attempt to load from CDN again, or</li>\\n\"+\n     \"<li>use INLINE resources instead, as so:</li>\\n\"+\n     \"</ul>\\n\"+\n     \"<code>\\n\"+\n     \"from bokeh.resources import INLINE\\n\"+\n     \"output_notebook(resources=INLINE)\\n\"+\n     \"</code>\\n\"+\n     \"</div>\"}};\n\n  function display_loaded() {\n    const el = document.getElementById(null);\n    if (el != null) {\n      el.textContent = \"BokehJS is loading...\";\n    }\n    if (root.Bokeh !== undefined) {\n      if (el != null) {\n        el.textContent = \"BokehJS \" + root.Bokeh.version + \" successfully loaded.\";\n      }\n    } else if (Date.now() < root._bokeh_timeout) {\n      setTimeout(display_loaded, 100)\n    }\n  }\n\n  function run_callbacks() {\n    try {\n      root._bokeh_onload_callbacks.forEach(function(callback) {\n        if (callback != null)\n          callback();\n      });\n    } finally {\n      delete root._bokeh_onload_callbacks\n    }\n    console.debug(\"Bokeh: all callbacks have finished\");\n  }\n\n  function load_libs(css_urls, js_urls, callback) {\n    if (css_urls == null) css_urls = [];\n    if (js_urls == null) js_urls = [];\n\n    root._bokeh_onload_callbacks.push(callback);\n    if (root._bokeh_is_loading > 0) {\n      console.debug(\"Bokeh: BokehJS is being loaded, scheduling callback at\", now());\n      return null;\n    }\n    if (js_urls == null || js_urls.length === 0) {\n      run_callbacks();\n      return null;\n    }\n    console.debug(\"Bokeh: BokehJS not loaded, scheduling load and callback at\", now());\n    root._bokeh_is_loading = css_urls.length + js_urls.length;\n\n    function on_load() {\n      root._bokeh_is_loading--;\n      if (root._bokeh_is_loading === 0) {\n        console.debug(\"Bokeh: all BokehJS libraries/stylesheets loaded\");\n        run_callbacks()\n      }\n    }\n\n    function on_error(url) {\n      console.error(\"failed to load \" + url);\n    }\n\n    for (let i = 0; i < css_urls.length; i++) {\n      const url = css_urls[i];\n      const element = document.createElement(\"link\");\n      element.onload = on_load;\n      element.onerror = on_error.bind(null, url);\n      element.rel = \"stylesheet\";\n      element.type = \"text/css\";\n      element.href = url;\n      console.debug(\"Bokeh: injecting link tag for BokehJS stylesheet: \", url);\n      document.body.appendChild(element);\n    }\n\n    for (let i = 0; i < js_urls.length; i++) {\n      const url = js_urls[i];\n      const element = document.createElement('script');\n      element.onload = on_load;\n      element.onerror = on_error.bind(null, url);\n      element.async = false;\n      element.src = url;\n      console.debug(\"Bokeh: injecting script tag for BokehJS library: \", url);\n      document.head.appendChild(element);\n    }\n  };\n\n  function inject_raw_css(css) {\n    const element = document.createElement(\"style\");\n    element.appendChild(document.createTextNode(css));\n    document.body.appendChild(element);\n  }\n\n  const js_urls = [\"https://cdn.bokeh.org/bokeh/release/bokeh-2.4.3.min.js\", \"https://cdn.bokeh.org/bokeh/release/bokeh-gl-2.4.3.min.js\", \"https://cdn.bokeh.org/bokeh/release/bokeh-widgets-2.4.3.min.js\", \"https://cdn.bokeh.org/bokeh/release/bokeh-tables-2.4.3.min.js\", \"https://cdn.bokeh.org/bokeh/release/bokeh-mathjax-2.4.3.min.js\"];\n  const css_urls = [];\n\n  const inline_js = [    function(Bokeh) {\n      Bokeh.set_log_level(\"info\");\n    },\nfunction(Bokeh) {\n    }\n  ];\n\n  function run_inline_js() {\n    if (root.Bokeh !== undefined || force === true) {\n          for (let i = 0; i < inline_js.length; i++) {\n      inline_js[i].call(root, root.Bokeh);\n    }\n} else if (Date.now() < root._bokeh_timeout) {\n      setTimeout(run_inline_js, 100);\n    } else if (!root._bokeh_failed_load) {\n      console.log(\"Bokeh: BokehJS failed to load within specified timeout.\");\n      root._bokeh_failed_load = true;\n    } else if (force !== true) {\n      const cell = $(document.getElementById(null)).parents('.cell').data().cell;\n      cell.output_area.append_execute_result(NB_LOAD_WARNING)\n    }\n  }\n\n  if (root._bokeh_is_loading === 0) {\n    console.debug(\"Bokeh: BokehJS loaded, going straight to plotting\");\n    run_inline_js();\n  } else {\n    load_libs(css_urls, js_urls, function() {\n      console.debug(\"Bokeh: BokehJS plotting callback run at\", now());\n      run_inline_js();\n    });\n  }\n}(window));"
     },
     "metadata": {},
     "output_type": "display_data"
    },
    {
     "data": {
      "text/html": [
       "\n",
       "  <div class=\"bk-root\" id=\"2be1e514-2701-4151-b02a-22a7e2a37f61\" data-root-id=\"1470\"></div>\n"
      ]
     },
     "metadata": {},
     "output_type": "display_data"
    },
    {
     "data": {
      "application/javascript": [
       "(function(root) {\n",
       "  function embed_document(root) {\n",
       "  const docs_json = {\"5dbe6c2a-e5c1-424f-aca3-3b6f3bac133c\":{\"defs\":[],\"roots\":{\"references\":[{\"attributes\":{\"below\":[{\"id\":\"1481\"}],\"center\":[{\"id\":\"1484\"},{\"id\":\"1488\"},{\"id\":\"1520\"}],\"height\":400,\"left\":[{\"id\":\"1485\"}],\"renderers\":[{\"id\":\"1508\"},{\"id\":\"1527\"}],\"right\":[{\"id\":\"1520\"}],\"sizing_mode\":\"stretch_width\",\"title\":{\"id\":\"1471\"},\"toolbar\":{\"id\":\"1496\"},\"x_range\":{\"id\":\"1473\"},\"x_scale\":{\"id\":\"1477\"},\"y_range\":{\"id\":\"1475\"},\"y_scale\":{\"id\":\"1479\"}},\"id\":\"1470\",\"subtype\":\"Figure\",\"type\":\"Plot\"},{\"attributes\":{},\"id\":\"1477\",\"type\":\"LinearScale\"},{\"attributes\":{},\"id\":\"1494\",\"type\":\"SaveTool\"},{\"attributes\":{\"tools\":[{\"id\":\"1489\"},{\"id\":\"1490\"},{\"id\":\"1491\"},{\"id\":\"1492\"},{\"id\":\"1493\"},{\"id\":\"1494\"}]},\"id\":\"1496\",\"type\":\"Toolbar\"},{\"attributes\":{},\"id\":\"1490\",\"type\":\"WheelZoomTool\"},{\"attributes\":{\"axis\":{\"id\":\"1481\"},\"coordinates\":null,\"group\":null,\"minor_grid_line_alpha\":0.6,\"minor_grid_line_color\":\"#e5e5e5\",\"minor_grid_line_dash\":[2,2],\"ticker\":null},\"id\":\"1484\",\"type\":\"Grid\"},{\"attributes\":{},\"id\":\"1486\",\"type\":\"BasicTicker\"},{\"attributes\":{\"line_color\":\"#1f77b4\",\"line_width\":2,\"x\":{\"field\":\"xs\"},\"y\":{\"field\":\"ys\"}},\"id\":\"1505\",\"type\":\"Line\"},{\"attributes\":{\"axis\":{\"id\":\"1485\"},\"coordinates\":null,\"dimension\":1,\"group\":null,\"minor_grid_line_alpha\":0.6,\"minor_grid_line_color\":\"#e5e5e5\",\"minor_grid_line_dash\":[2,2],\"ticker\":null},\"id\":\"1488\",\"type\":\"Grid\"},{\"attributes\":{},\"id\":\"1517\",\"type\":\"UnionRenderers\"},{\"attributes\":{\"label\":{\"value\":\"y =  exp(-t^2/2)\"},\"renderers\":[{\"id\":\"1508\"}]},\"id\":\"1521\",\"type\":\"LegendItem\"},{\"attributes\":{},\"id\":\"1518\",\"type\":\"Selection\"},{\"attributes\":{\"coordinates\":null,\"data_source\":{\"id\":\"1522\"},\"glyph\":{\"id\":\"1524\"},\"group\":null,\"hover_glyph\":null,\"muted_glyph\":{\"id\":\"1526\"},\"nonselection_glyph\":{\"id\":\"1525\"},\"view\":{\"id\":\"1528\"}},\"id\":\"1527\",\"type\":\"GlyphRenderer\"},{\"attributes\":{},\"id\":\"1515\",\"type\":\"BasicTickFormatter\"},{\"attributes\":{\"source\":{\"id\":\"1503\"}},\"id\":\"1509\",\"type\":\"CDSView\"},{\"attributes\":{},\"id\":\"1489\",\"type\":\"PanTool\"},{\"attributes\":{},\"id\":\"1513\",\"type\":\"AllLabels\"},{\"attributes\":{\"coordinates\":null,\"data_source\":{\"id\":\"1503\"},\"glyph\":{\"id\":\"1505\"},\"group\":null,\"hover_glyph\":null,\"muted_glyph\":{\"id\":\"1507\"},\"nonselection_glyph\":{\"id\":\"1506\"},\"view\":{\"id\":\"1509\"}},\"id\":\"1508\",\"type\":\"GlyphRenderer\"},{\"attributes\":{\"axis_label\":\"t\",\"axis_label_standoff\":10,\"axis_label_text_color\":\"#5B5B5B\",\"axis_label_text_font\":\"Calibri Light\",\"axis_label_text_font_size\":\"1.15em\",\"axis_label_text_font_style\":\"bold\",\"axis_line_alpha\":1,\"axis_line_color\":\"#5B5B5B\",\"coordinates\":null,\"formatter\":{\"id\":\"1515\"},\"group\":null,\"major_label_policy\":{\"id\":\"1516\"},\"major_label_text_color\":\"#5B5B5B\",\"major_label_text_font\":\"Calibri Light\",\"major_label_text_font_size\":\"0.95em\",\"major_label_text_font_style\":\"bold\",\"major_tick_in\":0,\"major_tick_line_alpha\":0.25,\"major_tick_line_color\":\"#5B5B5B\",\"major_tick_out\":3,\"minor_tick_line_alpha\":0.25,\"minor_tick_line_color\":\"#5B5B5B\",\"ticker\":{\"id\":\"1482\"}},\"id\":\"1481\",\"type\":\"LinearAxis\"},{\"attributes\":{\"bottom_units\":\"screen\",\"coordinates\":null,\"fill_alpha\":0.5,\"fill_color\":\"lightgrey\",\"group\":null,\"left_units\":\"screen\",\"level\":\"overlay\",\"line_alpha\":1.0,\"line_color\":\"black\",\"line_dash\":[4,4],\"line_width\":2,\"right_units\":\"screen\",\"syncable\":false,\"top_units\":\"screen\"},\"id\":\"1495\",\"type\":\"BoxAnnotation\"},{\"attributes\":{\"line_alpha\":0.2,\"line_color\":\"#ff7f0e\",\"line_width\":2,\"x\":{\"field\":\"xs\"},\"y\":{\"field\":\"ys\"}},\"id\":\"1526\",\"type\":\"Line\"},{\"attributes\":{\"overlay\":{\"id\":\"1495\"}},\"id\":\"1491\",\"type\":\"BoxZoomTool\"},{\"attributes\":{},\"id\":\"1512\",\"type\":\"BasicTickFormatter\"},{\"attributes\":{},\"id\":\"1475\",\"type\":\"DataRange1d\"},{\"attributes\":{\"background_fill_alpha\":0.25,\"border_line_alpha\":0,\"click_policy\":\"hide\",\"coordinates\":null,\"glyph_width\":15,\"group\":null,\"items\":[{\"id\":\"1521\"},{\"id\":\"1541\"}],\"label_standoff\":8,\"label_text_color\":\"#5B5B5B\",\"label_text_font\":\"Calibri Light\",\"label_text_font_size\":\"0.95em\",\"label_text_font_style\":\"bold\",\"spacing\":8},\"id\":\"1520\",\"type\":\"Legend\"},{\"attributes\":{},\"id\":\"1516\",\"type\":\"AllLabels\"},{\"attributes\":{},\"id\":\"1538\",\"type\":\"UnionRenderers\"},{\"attributes\":{\"coordinates\":null,\"group\":null,\"text\":\"Initial value problems y' = -y*t\",\"text_color\":\"#5B5B5B\",\"text_font\":\"Calibri Light\",\"text_font_size\":\"1.25em\",\"text_font_style\":\"bold\"},\"id\":\"1471\",\"type\":\"Title\"},{\"attributes\":{\"data\":{\"xs\":{\"__ndarray__\":\"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\",\"dtype\":\"float64\",\"order\":\"little\",\"shape\":[377]},\"ys\":{\"__ndarray__\":\"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\",\"dtype\":\"float64\",\"order\":\"little\",\"shape\":[377]}},\"selected\":{\"id\":\"1518\"},\"selection_policy\":{\"id\":\"1517\"}},\"id\":\"1503\",\"type\":\"ColumnDataSource\"},{\"attributes\":{},\"id\":\"1492\",\"type\":\"ResetTool\"},{\"attributes\":{},\"id\":\"1479\",\"type\":\"LinearScale\"},{\"attributes\":{\"line_alpha\":0.1,\"line_color\":\"#1f77b4\",\"line_width\":2,\"x\":{\"field\":\"xs\"},\"y\":{\"field\":\"ys\"}},\"id\":\"1506\",\"type\":\"Line\"},{\"attributes\":{\"callback\":null,\"tooltips\":[[\"x\",\"$x\"],[\"y\",\"$y\"]]},\"id\":\"1493\",\"type\":\"HoverTool\"},{\"attributes\":{\"label\":{\"value\":\"y = -exp(-t^2/2)\"},\"renderers\":[{\"id\":\"1527\"}]},\"id\":\"1541\",\"type\":\"LegendItem\"},{\"attributes\":{\"axis_label\":\"y\",\"axis_label_standoff\":10,\"axis_label_text_color\":\"#5B5B5B\",\"axis_label_text_font\":\"Calibri Light\",\"axis_label_text_font_size\":\"1.15em\",\"axis_label_text_font_style\":\"bold\",\"axis_line_alpha\":1,\"axis_line_color\":\"#5B5B5B\",\"coordinates\":null,\"formatter\":{\"id\":\"1512\"},\"group\":null,\"major_label_policy\":{\"id\":\"1513\"},\"major_label_text_color\":\"#5B5B5B\",\"major_label_text_font\":\"Calibri Light\",\"major_label_text_font_size\":\"0.95em\",\"major_label_text_font_style\":\"bold\",\"major_tick_in\":0,\"major_tick_line_alpha\":0.25,\"major_tick_line_color\":\"#5B5B5B\",\"major_tick_out\":3,\"minor_tick_line_alpha\":0.25,\"minor_tick_line_color\":\"#5B5B5B\",\"ticker\":{\"id\":\"1486\"}},\"id\":\"1485\",\"type\":\"LinearAxis\"},{\"attributes\":{},\"id\":\"1473\",\"type\":\"DataRange1d\"},{\"attributes\":{\"line_color\":\"#ff7f0e\",\"line_width\":2,\"x\":{\"field\":\"xs\"},\"y\":{\"field\":\"ys\"}},\"id\":\"1524\",\"type\":\"Line\"},{\"attributes\":{\"line_alpha\":0.2,\"line_color\":\"#1f77b4\",\"line_width\":2,\"x\":{\"field\":\"xs\"},\"y\":{\"field\":\"ys\"}},\"id\":\"1507\",\"type\":\"Line\"},{\"attributes\":{\"line_alpha\":0.1,\"line_color\":\"#ff7f0e\",\"line_width\":2,\"x\":{\"field\":\"xs\"},\"y\":{\"field\":\"ys\"}},\"id\":\"1525\",\"type\":\"Line\"},{\"attributes\":{},\"id\":\"1539\",\"type\":\"Selection\"},{\"attributes\":{\"data\":{\"xs\":{\"__ndarray__\":\"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\",\"dtype\":\"float64\",\"order\":\"little\",\"shape\":[377]},\"ys\":{\"__ndarray__\":\"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\",\"dtype\":\"float64\",\"order\":\"little\",\"shape\":[377]}},\"selected\":{\"id\":\"1539\"},\"selection_policy\":{\"id\":\"1538\"}},\"id\":\"1522\",\"type\":\"ColumnDataSource\"},{\"attributes\":{\"source\":{\"id\":\"1522\"}},\"id\":\"1528\",\"type\":\"CDSView\"},{\"attributes\":{},\"id\":\"1482\",\"type\":\"BasicTicker\"}],\"root_ids\":[\"1470\"]},\"title\":\"Bokeh Application\",\"version\":\"2.4.3\"}};\n",
       "  const render_items = [{\"docid\":\"5dbe6c2a-e5c1-424f-aca3-3b6f3bac133c\",\"root_ids\":[\"1470\"],\"roots\":{\"1470\":\"2be1e514-2701-4151-b02a-22a7e2a37f61\"}}];\n",
       "  root.Bokeh.embed.embed_items_notebook(docs_json, render_items);\n",
       "  }\n",
       "  if (root.Bokeh !== undefined) {\n",
       "    embed_document(root);\n",
       "  } else {\n",
       "    let attempts = 0;\n",
       "    const timer = setInterval(function(root) {\n",
       "      if (root.Bokeh !== undefined) {\n",
       "        clearInterval(timer);\n",
       "        embed_document(root);\n",
       "      } else {\n",
       "        attempts++;\n",
       "        if (attempts > 100) {\n",
       "          clearInterval(timer);\n",
       "          console.log(\"Bokeh: ERROR: Unable to run BokehJS code because BokehJS library is missing\");\n",
       "        }\n",
       "      }\n",
       "    }, 10, root)\n",
       "  }\n",
       "})(window);"
      ],
      "application/vnd.bokehjs_exec.v0+json": ""
     },
     "metadata": {
      "application/vnd.bokehjs_exec.v0+json": {
       "id": "1470"
      }
     },
     "output_type": "display_data"
    },
    {
     "data": {
      "text/plain": [
       "<spb.backends.bokeh.BokehBackend at 0x18da8293550>"
      ]
     },
     "execution_count": 22,
     "metadata": {},
     "output_type": "execute_result"
    }
   ],
   "source": [
    "plot(\n",
    "    (sol1.rhs, \"y =  exp(-t^2/2)\"),\n",
    "    (sol2.rhs, \"y = -exp(-t^2/2)\"),\n",
    "    (t, -5, 5),\n",
    "    title=\"Initial value problems y' = -y*t\",\n",
    "    ylabel=\"y\",\n",
    "    adaptive=True,\n",
    "    detect_poles=True,\n",
    "    modules=\"mpmath\",\n",
    "    backend=BB)"
   ]
  }
 ],
 "metadata": {
  "kernelspec": {
   "display_name": "Python 3 (ipykernel)",
   "language": "python",
   "name": "python3"
  },
  "language_info": {
   "codemirror_mode": {
    "name": "ipython",
    "version": 3
   },
   "file_extension": ".py",
   "mimetype": "text/x-python",
   "name": "python",
   "nbconvert_exporter": "python",
   "pygments_lexer": "ipython3",
   "version": "3.11.1"
  },
  "toc-showmarkdowntxt": false
 },
 "nbformat": 4,
 "nbformat_minor": 5
}
