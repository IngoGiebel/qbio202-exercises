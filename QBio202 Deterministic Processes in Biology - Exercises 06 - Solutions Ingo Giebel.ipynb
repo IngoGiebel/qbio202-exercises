{
 "cells": [
  {
   "cell_type": "markdown",
   "id": "c6e36ce5-5449-4d56-86e7-2bfcc3d3d2d4",
   "metadata": {},
   "source": [
    "# QBio202: Deterministic Processes in Biology\n",
    "# SS 2023\n",
    "# Exercises 06 (due to 2023-05-24)"
   ]
  },
  {
   "cell_type": "markdown",
   "id": "c3518693-29cf-468e-9bb0-c29561959dfa",
   "metadata": {},
   "source": [
    "***\n",
    "Ingo Giebel\n",
    "\n",
    "Student number: 3050992\n",
    "***"
   ]
  },
  {
   "cell_type": "markdown",
   "id": "5a981dd7-cc94-40b6-8a4c-4b166065a2ef",
   "metadata": {
    "tags": []
   },
   "source": [
    "## Package imports"
   ]
  },
  {
   "cell_type": "code",
   "execution_count": 1,
   "id": "07682f75-8853-42ce-a25c-6c30aaf42e49",
   "metadata": {
    "tags": []
   },
   "outputs": [],
   "source": [
    "from sympy import Symbol, solveset, solve, Eq"
   ]
  },
  {
   "cell_type": "markdown",
   "id": "0f42f7d0-55ca-424a-81a6-983153ca4dd5",
   "metadata": {},
   "source": [
    "## Task 1."
   ]
  },
  {
   "cell_type": "markdown",
   "id": "86ba1a9a-39d8-4d7d-8aa1-c362382814aa",
   "metadata": {},
   "source": [
    "### Substitutions for nondimensionalization\n",
    "\n",
    "According to (Fairén, 1979), \"all quantities can be rendered dimensionless by convenient change of scales\". To this end, in this paper the following substitutions (5a) - (5f) are given:\n",
    "$$\n",
    "\\begin{align*}\n",
    "    \\tau &= k_2t\\\\\n",
    "    x &= \\frac{k_2}{k_3}X\\\\\n",
    "    y &= \\frac{k_2}{k_3}Y\\\\\n",
    "    a &= \\frac{k_5}{k_3}A\\\\\n",
    "    b &= \\frac{k_1}{k_3}B\\\\\n",
    "    q &= \\frac{k_3^2k_4}{k_2^2}\\\\\n",
    "\\end{align*}\n",
    "$$\n",
    "The above substitutions are rewritten to fit for the equations (2) and (3), as (Fairén, 1979) uses different constant and variable symbols than the symbols used here: $[X]$ instead of $X$, $X$ instead of $x$, $[Y]$ instead of $Y$, $Y$ instead of $y$, $[A]$ instead of $A$, $A$ instead of $a$, $[B]$ instead of $B$, $B$ instead of $b$, $k_2$ instead of $k_1$, $k_3$ instead of $k_2$, $k_4$ instead of $k_3$, $k_5$ instead of $k_4$, $k_1$ instead of $k_5$.\n",
    "\n",
    "Note that according to (Fairén, 1979) the constants $k_1$, $k_2$, $k_3$, $k_5$ are reaction rates, but $k_4$ is the \"dimensional power of the inhibitory step\" and therefore **not a reaction rate** as opposed to what is said in the exercise sheet."
   ]
  },
  {
   "cell_type": "markdown",
   "id": "e9ff8350-deb3-49a3-bbad-a625e1340145",
   "metadata": {},
   "source": [
    "### Analysis of the quantity dimensions\n",
    "\n",
    "Given that $t$ in equation (2) has a time dimension (common unit: $\\mathrm{min}$), and $X$, $Y$, $A$, $B$ are concentration variables and constants having a molarity dimension (common unit: $1 \\mathrm{M} = 1 \\mathrm{mol/L}$), it follows that with the substitutions given in (5):\n",
    "* $k_1$, $k_2$, $k_5$ have the dimension $\\mathrm{time}^{-1}$\n",
    "* $k_3$ has the dimension $\\mathrm{time}^{-1}\\mathrm{molarity}^{-1}$\n",
    "* $k_4$ has the dimension $\\mathrm{molarity}^{-1}$\n",
    "* $\\tau = k_2t$ is dimensionless\n",
    "* $x = \\frac{k_2}{k_3}X$ has the dimension $\\mathrm{molarity}^2$\n",
    "* $y = \\frac{k_2}{k_3}Y$ has the dimension $\\mathrm{molarity}^2$\n",
    "* $a = \\frac{k_5}{k_3}A$ has the dimension $\\mathrm{molarity}^2$\n",
    "* $b = \\frac{k_1}{k_3}B$ has the dimension $\\mathrm{molarity}^2$\n",
    "* $q = k_4\\frac{k_3^2}{k_2^2}$ has the dimension $\\mathrm{molarity}^{-3}$\n",
    "\n",
    "According to these considerations, the derived quantities are not dimensionless (except $\\tau$) as opposed to what is stated in the paper. Yet other papers make the assumption that the concentration variables and constants are given as dimensionless quantities. Under this assumption, the molarity dimension would cancel out, and all the derived variables and constants would indeed be dimensionless."
   ]
  },
  {
   "cell_type": "markdown",
   "id": "fbf12dda-9133-4194-b94f-61706297d337",
   "metadata": {
    "tags": []
   },
   "source": [
    "### Biological interpretation of $a$, $b$ and $q$\n",
    "\n",
    "* $a$ is the molar increase of metabolite $A$ per time unit divided by the reaction rate constant for the metabolism of the nutrient and oxygen (reaction $X + Y \\rightarrow P$)\n",
    "* $b$ is the molar increase of metabolite $B$ per time unit divided by the reaction rate constant for the metabolism of the nutrient and oxygen\n",
    "* $q$ is the **inhibitory effect of oxygen** multiplied with the squared quotient of the reaction rate for the metabolism of the nutrient and oxygen divided by the reverse reaction rate of oxygen to metabolite $B$"
   ]
  },
  {
   "cell_type": "markdown",
   "id": "5d9f6ea4-0350-498e-9fae-8fe91fd76287",
   "metadata": {},
   "source": [
    "### Derivation of the nondimensionalized equations\n",
    "\n",
    "Using the substitutions (5), the equations (2) can be rewritten as follows:\n",
    "$$\n",
    "\\begin{align*}\n",
    "    \\frac{\\mathrm{d}X}{\\mathrm{d}t} &= k_1B - k_2X - \\frac{k_3XY}{(1 + k_4X)^2}\\\\\n",
    "    \\Longrightarrow\\\\\n",
    "    \\frac{\\mathrm{d}(\\frac{k_3}{k_2}x)}{\\mathrm{d}(\\frac{\\tau}{k_2})} &= k_1(\\frac{k_3}{k_1}b) - k_2(\\frac{k_3}{k_2}x) - \\frac{k_3(\\frac{k_3}{k_2}x)(\\frac{k_3}{k_2}y)}{(1 + k_4(\\frac{k_3}{k_2}x))^2}\\\\\n",
    "    \\Longrightarrow\\\\\n",
    "    k_3\\frac{\\mathrm{d}x}{\\mathrm{d}\\tau} &= k_3b - k_3x - k_3\\frac{(\\frac{k_3}{k_2})^2xy}{(1 + k_4\\frac{k_3}{k_2}x)^2}\\\\\n",
    "    \\Longrightarrow\\\\\n",
    "    \\frac{\\mathrm{d}x}{\\mathrm{d}\\tau} &= b - x - \\frac{xy}{(\\frac{k_2}{k_3})^2(1 + k_4\\frac{k_3}{k_2}x)^2}\\\\\n",
    "    \\Longrightarrow\\\\\n",
    "    \\frac{\\mathrm{d}x}{\\mathrm{d}\\tau} &= b - x - \\frac{xy}{(\\frac{k_2}{k_3} + k_4x)^2}\\\\\n",
    "\\end{align*}\n",
    "$$\n",
    "The right-hand side of this equation evaluates to $-\\frac{1}{4}$ when all variables and constants are set to $1$. On the other, the corresponding equation (2) evaluates to $-\\frac{1}{2}$ when all variables and constants are $1$. Therefore, I can not transform the original equations (2) to the nondimensionalized equations (3), using the substitutions given in (Fairén, 1979)."
   ]
  },
  {
   "cell_type": "markdown",
   "id": "14187c60-e4c8-4c7f-8b35-9766c014fd73",
   "metadata": {},
   "source": [
    "## Task 2."
   ]
  },
  {
   "cell_type": "code",
   "execution_count": 2,
   "id": "2ba2fc24-5eeb-4011-b1a5-00a9682184fe",
   "metadata": {
    "tags": []
   },
   "outputs": [],
   "source": [
    "# Symbol definitions needed for SymPy\n",
    "x = Symbol(\"x\", real = True)\n",
    "y = Symbol(\"y\", real = True)\n",
    "a = Symbol(\"a\", real = True)\n",
    "b = Symbol(\"b\", real = True)\n",
    "q = Symbol(\"q\", real = True)\n",
    "# Derivative of x with respect to tau\n",
    "xdot = b - x - x * y / (1 + q * x**2)\n",
    "# Derivative of y with respect to tau\n",
    "ydot = a - x * y / (1 + q * x**2)"
   ]
  },
  {
   "cell_type": "code",
   "execution_count": 3,
   "id": "c98b169e-93a3-4d67-be05-44256c811512",
   "metadata": {
    "tags": []
   },
   "outputs": [
    {
     "data": {
      "text/latex": [
       "$\\displaystyle b - \\frac{x y}{q x^{2} + 1} - x$"
      ],
      "text/plain": [
       "b - x*y/(q*x**2 + 1) - x"
      ]
     },
     "execution_count": 3,
     "metadata": {},
     "output_type": "execute_result"
    }
   ],
   "source": [
    "xdot"
   ]
  },
  {
   "cell_type": "code",
   "execution_count": 4,
   "id": "d7d55ed5-b046-42e0-ad60-f4f029954694",
   "metadata": {
    "tags": []
   },
   "outputs": [
    {
     "data": {
      "text/latex": [
       "$\\displaystyle a - \\frac{x y}{q x^{2} + 1}$"
      ],
      "text/plain": [
       "a - x*y/(q*x**2 + 1)"
      ]
     },
     "execution_count": 4,
     "metadata": {},
     "output_type": "execute_result"
    }
   ],
   "source": [
    "ydot"
   ]
  },
  {
   "cell_type": "markdown",
   "id": "f954ead3-dfb6-406c-ae25-650e752908c3",
   "metadata": {},
   "source": [
    "### Stationary states"
   ]
  },
  {
   "cell_type": "markdown",
   "id": "1f666725-a7ef-4a36-9591-1d04a3c296aa",
   "metadata": {},
   "source": [
    "The stationary states of the differential equation system are determined by the function values $\\bar{x}$, $\\bar{y}$ such that for these values (equations (6, 7))\n",
    "$$\n",
    "\\begin{align*}\n",
    "    \\frac{\\mathrm{d}x}{\\mathrm{d}\\tau} &= 0\\\\\n",
    "    \\frac{\\mathrm{d}y}{\\mathrm{d}\\tau} &= 0\\\\\n",
    "\\end{align*}\n",
    "$$\n",
    "Equations (6, 7) yield\n",
    "$$\n",
    "\\begin{align*}\n",
    "    b - x - \\frac{xy}{1 + qx^2} &= a - \\frac{xy}{1 + qx^2}\\\\\n",
    "    \\Longrightarrow\\\\\n",
    "    b - x &= a\\\\\n",
    "    \\Longrightarrow\\\\\n",
    "    x &= b - a\\\\\n",
    "\\end{align*}\n",
    "$$\n",
    "Equation (7) yields\n",
    "$$\n",
    "\\begin{align}\n",
    "    a - \\frac{xy}{1 + qx^2} &= 0\\\\\n",
    "    \\Longrightarrow\\\\\n",
    "    \\frac{xy}{1 + qx^2} &= a\\\\\n",
    "    \\Longrightarrow\\\\\n",
    "    y &= \\frac{a}{x}(1 + qx^2)\\\\\n",
    "\\end{align}\n",
    "$$\n",
    "Therefore, the differential equation system has the steady state (equation 8)\n",
    "$$\n",
    "\\begin{align}\n",
    "    \\bar{x} &= b - a\\\\\n",
    "    \\bar{y} &= \\frac{a}{\\bar{x}}(1 + qx^2)\\\\\n",
    "\\end{align}\n",
    "$$\n",
    "As the value of $x$ must be positive, it follows that $b > a$."
   ]
  },
  {
   "cell_type": "markdown",
   "id": "d7053afa-f2f8-47f4-ada7-037cad389ade",
   "metadata": {},
   "source": [
    "#### Verification with SymPy:"
   ]
  },
  {
   "cell_type": "markdown",
   "id": "0727d865-6bf9-446d-bffa-2695818f285a",
   "metadata": {},
   "source": [
    "Steady state for x:"
   ]
  },
  {
   "cell_type": "code",
   "execution_count": 20,
   "id": "7474f151-2ddc-4ee9-9db4-0aa7768e4f2f",
   "metadata": {
    "tags": []
   },
   "outputs": [],
   "source": [
    "stead_states_x = solveset(f = xdot - ydot, symbol = x)"
   ]
  },
  {
   "cell_type": "code",
   "execution_count": 21,
   "id": "5e6c4551-3c3f-4adb-9461-e854f500a1bc",
   "metadata": {
    "tags": []
   },
   "outputs": [
    {
     "data": {
      "text/latex": [
       "$\\displaystyle \\left\\{- a + b\\right\\}$"
      ],
      "text/plain": [
       "{-a + b}"
      ]
     },
     "execution_count": 21,
     "metadata": {},
     "output_type": "execute_result"
    }
   ],
   "source": [
    "stead_states_x"
   ]
  },
  {
   "cell_type": "markdown",
   "id": "7bad7388-e2b0-4adf-8904-1fc98ed629bb",
   "metadata": {},
   "source": [
    "Steady state for y:"
   ]
  },
  {
   "cell_type": "code",
   "execution_count": 22,
   "id": "0684355b-5f92-4a3f-a2d3-e4677d6d88c0",
   "metadata": {
    "tags": []
   },
   "outputs": [],
   "source": [
    "stead_states_y = solveset(f = ydot, symbol = y)"
   ]
  },
  {
   "cell_type": "code",
   "execution_count": 23,
   "id": "fef00381-673d-4a81-914a-f9f836b59415",
   "metadata": {
    "tags": []
   },
   "outputs": [
    {
     "data": {
      "text/latex": [
       "$\\displaystyle \\left\\{\\frac{a \\left(q x^{2} + 1\\right)}{x}\\right\\}$"
      ],
      "text/plain": [
       "{a*(q*x**2 + 1)/x}"
      ]
     },
     "execution_count": 23,
     "metadata": {},
     "output_type": "execute_result"
    }
   ],
   "source": [
    "stead_states_y"
   ]
  },
  {
   "cell_type": "code",
   "execution_count": null,
   "id": "75ff9cdb-f34a-4fd1-bae0-3bf0d1b1d8b6",
   "metadata": {},
   "outputs": [],
   "source": [
    "# stead_states = solve((Eq(xdot, ydot), Eq(ydot, 0)), (x, y))"
   ]
  },
  {
   "cell_type": "markdown",
   "id": "b4fa7092-99a6-43cb-bf76-08e4166f0338",
   "metadata": {},
   "source": [
    "### Jacobian"
   ]
  },
  {
   "cell_type": "markdown",
   "id": "a68a318c-5443-4890-a29d-3b1cb1f3537a",
   "metadata": {},
   "source": [
    "### Evaluation of the Jacobian at the steady state"
   ]
  },
  {
   "cell_type": "markdown",
   "id": "d397c8a7-80ba-4db4-8257-df3936edc93e",
   "metadata": {},
   "source": [
    "### How the trace and the determinant of the Jacobian depend an $a$, $b$ and $q$"
   ]
  },
  {
   "cell_type": "code",
   "execution_count": null,
   "id": "11be6c0b-10d2-4182-8acc-2b1b1c7eefb6",
   "metadata": {},
   "outputs": [],
   "source": []
  }
 ],
 "metadata": {
  "kernelspec": {
   "display_name": "Python 3 (ipykernel)",
   "language": "python",
   "name": "python3"
  },
  "language_info": {
   "codemirror_mode": {
    "name": "ipython",
    "version": 3
   },
   "file_extension": ".py",
   "mimetype": "text/x-python",
   "name": "python",
   "nbconvert_exporter": "python",
   "pygments_lexer": "ipython3",
   "version": "3.11.3"
  }
 },
 "nbformat": 4,
 "nbformat_minor": 5
}
