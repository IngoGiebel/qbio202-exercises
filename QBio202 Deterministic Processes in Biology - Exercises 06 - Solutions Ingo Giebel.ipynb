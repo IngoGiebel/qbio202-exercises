{
 "cells": [
  {
   "cell_type": "markdown",
   "id": "c6e36ce5-5449-4d56-86e7-2bfcc3d3d2d4",
   "metadata": {},
   "source": [
    "# QBio202: Deterministic Processes in Biology\n",
    "# SS 2023\n",
    "# Exercises 06 (due to 2023-05-24)"
   ]
  },
  {
   "cell_type": "markdown",
   "id": "c3518693-29cf-468e-9bb0-c29561959dfa",
   "metadata": {},
   "source": [
    "***\n",
    "Ingo Giebel\n",
    "\n",
    "Student number: 3050992\n",
    "***"
   ]
  },
  {
   "cell_type": "markdown",
   "id": "091b60d7-7311-4ec9-b69f-e8d43bcdda3f",
   "metadata": {},
   "source": [
    "## Task 1."
   ]
  },
  {
   "cell_type": "markdown",
   "id": "86ba1a9a-39d8-4d7d-8aa1-c362382814aa",
   "metadata": {},
   "source": [
    "### Substitutions for nondimensionalization\n",
    "\n",
    "According to (Fairén, 1979), \"all quantities can be rendered dimensionless by convenient change of scales\". To this end, in this paper the following substitutions (5a) - (5f) are given:\n",
    "$$\n",
    "\\begin{align}\n",
    "    \\tau &= k_2t\\\\\n",
    "    x &= \\frac{k_2}{k_3}X\\\\\n",
    "    y &= \\frac{k_2}{k_3}Y\\\\\n",
    "    a &= \\frac{k_5}{k_3}A\\\\\n",
    "    b &= \\frac{k_1}{k_3}B\\\\\n",
    "    q &= \\frac{k_3^2k_4}{k_2^2}\\\\\n",
    "\\end{align}\n",
    "$$\n",
    "The above substitutions are rewritten to fit for the equations (2) and (3), as (Fairén, 1979) uses different constant and variable symbols than the symbols used here: $[X]$ instead of $X$, $X$ instead of $x$, $[Y]$ instead of $Y$, $Y$ instead of $y$, $[A]$ instead of $A$, $A$ instead of $a$, $[B]$ instead of $B$, $B$ instead of $b$, $k_2$ instead of $k_1$, $k_3$ instead of $k_2$, $k_4$ instead of $k_3$, $k_5$ instead of $k_4$, $k_1$ instead of $k_5$.\n",
    "\n",
    "Note that according to (Fairén, 1979) the constants $k_1$, $k_2$, $k_3$, $k_5$ are reaction rates, but $k_4$ is the \"dimensional power of the inhibitory step\" and therefore **not a reaction rate** as opposed to what is said in the exercise sheet."
   ]
  },
  {
   "cell_type": "markdown",
   "id": "e9ff8350-deb3-49a3-bbad-a625e1340145",
   "metadata": {},
   "source": [
    "### Analysis of the quantity dimensions\n",
    "\n",
    "Given that $t$ in equation (2) has a time dimension (common unit: $\\mathrm{min}$), and $X$, $Y$, $A$, $B$ are concentration variables and constants having a molarity dimension (common unit: $1 \\mathrm{M} = 1 \\mathrm{mol/L}$), it follows that with the substitutions given in (5):\n",
    "* $k_1$, $k_2$, $k_5$ have the dimension $\\mathrm{time}^{-1}$\n",
    "* $k_3$ has the dimension $\\mathrm{time}^{-1}\\mathrm{molarity}^{-1}$\n",
    "* $k_4$ has the dimension $\\mathrm{molarity}^{-1}$\n",
    "* $\\tau = k_2t$ is dimensionless\n",
    "* $x = \\frac{k_2}{k_3}X$ has the dimension $\\mathrm{molarity}^2$\n",
    "* $y = \\frac{k_2}{k_3}Y$ has the dimension $\\mathrm{molarity}^2$\n",
    "* $a = \\frac{k_5}{k_3}A$ has the dimension $\\mathrm{molarity}^2$\n",
    "* $b = \\frac{k_1}{k_3}B$ has the dimension $\\mathrm{molarity}^2$\n",
    "* $q = k_4\\frac{k_3^2}{k_2^2}$ has the dimension $\\mathrm{molarity}^{-3}$\n",
    "\n",
    "According to these considerations, the derived quantities are not dimensionless (except $\\tau$) as opposed to what is stated in the paper. Yet other papers make the assumption that the concentration variables and constants are given as dimensionless quantities. Under this assumption, the molarity dimension would cancel out, and all the derived variables and constants would indeed be dimensionless."
   ]
  },
  {
   "cell_type": "markdown",
   "id": "fbf12dda-9133-4194-b94f-61706297d337",
   "metadata": {
    "tags": []
   },
   "source": [
    "### Biological interpretation of $a$, $b$ and $q$\n",
    "\n",
    "* $a$ is the molar increase of metabolite $A$ per time unit divided by the reaction rate constant for the metabolism of the nutrient and oxygen (reaction $X + Y \\rightarrow P$)\n",
    "* $b$ is the molar increase of metabolite $B$ per time unit divided by the reaction rate constant for the metabolism of the nutrient and oxygen\n",
    "* $q$ is the **inhibitory effect of oxygen** multiplied with the squared quotient of the reaction rate for the metabolism of the nutrient and oxygen divided by the reverse reaction rate of oxygen to metabolite $B$"
   ]
  },
  {
   "cell_type": "markdown",
   "id": "5d9f6ea4-0350-498e-9fae-8fe91fd76287",
   "metadata": {},
   "source": [
    "### Derivation of the nondimensionalized equations\n",
    "\n",
    "Using the substitutions (5), the equations (2) can be rewritten as follows:\n",
    "$$\n",
    "\\begin{align}\n",
    "    \\frac{\\mathrm{d}X}{\\mathrm{d}t} &= k_1B - k_2X - \\frac{k_3XY}{(1 + k_4X)^2}\\\\\n",
    "    \\Longrightarrow \\frac{\\mathrm{d}(\\frac{k_3}{k_2}x)}{\\mathrm{d}(\\frac{\\tau}{k_2})} &= k_1(\\frac{k_3}{k_1}b) - k_2(\\frac{k_3}{k_2}x) - \\frac{k_3(\\frac{k_3}{k_2}x)(\\frac{k_3}{k_2}y)}{(1 + k_4(\\frac{k_3}{k_2}x))^2}\\\\\n",
    "    \\Longrightarrow k_3\\frac{\\mathrm{d}x}{\\mathrm{d}\\tau} &= k_3b - k_3x - k_3\\frac{(\\frac{k_3}{k_2})^2xy}{(1 + k_4\\frac{k_3}{k_2}x)^2}\\\\\n",
    "    \\Longrightarrow \\frac{\\mathrm{d}x}{\\mathrm{d}\\tau} &= b - x - \\frac{xy}{(\\frac{k_2}{k_3})^2(1 + k_4\\frac{k_3}{k_2}x)^2}\\\\\n",
    "    \\Longrightarrow \\frac{\\mathrm{d}x}{\\mathrm{d}\\tau} &= b - x - \\frac{xy}{(\\frac{k_2}{k_3} + k_4x)^2}\\\\\n",
    "\\end{align}\n",
    "$$\n",
    "The right-hand side of this equation evaluates to $-\\frac{1}{4}$ when all variables and constants are set to $1$. On the other, the corresponding equation (2) evaluates to $-\\frac{1}{2}$ when all variables and constants are $1$. Therefore, I can not transform the original equations (2) to the nondimensionalized equations (3), using the substitutions given in (Fairén, 1979)."
   ]
  },
  {
   "cell_type": "code",
   "execution_count": null,
   "id": "4caa2f6d-5bdf-4c7d-bdc4-996be83f20b9",
   "metadata": {},
   "outputs": [],
   "source": []
  }
 ],
 "metadata": {
  "kernelspec": {
   "display_name": "Python 3 (ipykernel)",
   "language": "python",
   "name": "python3"
  },
  "language_info": {
   "codemirror_mode": {
    "name": "ipython",
    "version": 3
   },
   "file_extension": ".py",
   "mimetype": "text/x-python",
   "name": "python",
   "nbconvert_exporter": "python",
   "pygments_lexer": "ipython3",
   "version": "3.11.3"
  }
 },
 "nbformat": 4,
 "nbformat_minor": 5
}
