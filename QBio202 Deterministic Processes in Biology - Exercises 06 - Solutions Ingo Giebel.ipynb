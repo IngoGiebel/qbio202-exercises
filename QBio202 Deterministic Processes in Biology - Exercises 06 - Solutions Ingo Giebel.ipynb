{
 "cells": [
  {
   "cell_type": "markdown",
   "id": "c6e36ce5-5449-4d56-86e7-2bfcc3d3d2d4",
   "metadata": {},
   "source": [
    "# QBio202: Deterministic Processes in Biology\n",
    "# SS 2023\n",
    "# Exercises 06 (due to 2023-05-24)"
   ]
  },
  {
   "cell_type": "markdown",
   "id": "c3518693-29cf-468e-9bb0-c29561959dfa",
   "metadata": {},
   "source": [
    "***\n",
    "Ingo Giebel\n",
    "\n",
    "Student number: 3050992\n",
    "***"
   ]
  },
  {
   "cell_type": "markdown",
   "id": "5a981dd7-cc94-40b6-8a4c-4b166065a2ef",
   "metadata": {
    "tags": []
   },
   "source": [
    "## Package imports"
   ]
  },
  {
   "cell_type": "code",
   "execution_count": 1,
   "id": "07682f75-8853-42ce-a25c-6c30aaf42e49",
   "metadata": {
    "tags": []
   },
   "outputs": [],
   "source": [
    "from sympy import Matrix, plot, solve, solveset, Symbol, Trace"
   ]
  },
  {
   "cell_type": "markdown",
   "id": "0f42f7d0-55ca-424a-81a6-983153ca4dd5",
   "metadata": {},
   "source": [
    "## Task 1."
   ]
  },
  {
   "cell_type": "markdown",
   "id": "86ba1a9a-39d8-4d7d-8aa1-c362382814aa",
   "metadata": {},
   "source": [
    "### Substitutions for nondimensionalization\n",
    "\n",
    "According to (Fairén, 1979), \"all quantities can be rendered dimensionless by convenient change of scales\". To this end, in this paper the following substitutions (5a) - (5f) are given:\n",
    "$$\n",
    "\\begin{align*}\n",
    "    \\tau &= k_2t\\\\\n",
    "    x &= \\frac{k_2}{k_3}X\\\\\n",
    "    y &= \\frac{k_2}{k_3}Y\\\\\n",
    "    a &= \\frac{k_5}{k_3}A\\\\\n",
    "    b &= \\frac{k_1}{k_3}B\\\\\n",
    "    q &= \\frac{k_3^2k_4}{k_2^2}\\\\\n",
    "\\end{align*}\n",
    "$$\n",
    "The above substitutions are rewritten to fit for the equations (2) and (3), as (Fairén, 1979) uses different constant and variable symbols than the symbols used here: $[X]$ instead of $X$, $X$ instead of $x$, $[Y]$ instead of $Y$, $Y$ instead of $y$, $[A]$ instead of $A$, $A$ instead of $a$, $[B]$ instead of $B$, $B$ instead of $b$, $k_2$ instead of $k_1$, $k_3$ instead of $k_2$, $k_4$ instead of $k_3$, $k_5$ instead of $k_4$, $k_1$ instead of $k_5$.\n",
    "\n",
    "Note that according to (Fairén, 1979) the constants $k_1$, $k_2$, $k_3$, $k_5$ are reaction rates, but $k_4$ is the \"dimensional power of the inhibitory step\" and therefore **not a reaction rate** as opposed to what is said in the exercise sheet."
   ]
  },
  {
   "cell_type": "markdown",
   "id": "e9ff8350-deb3-49a3-bbad-a625e1340145",
   "metadata": {},
   "source": [
    "### Analysis of the quantity dimensions\n",
    "\n",
    "Given that $t$ in equation (2) has a time dimension (common unit: $\\mathrm{min}$), and $X$, $Y$, $A$, $B$ are concentration variables and constants having a molarity dimension (common unit: $1 \\mathrm{M} = 1 \\mathrm{mol/L}$), it follows that with the substitutions given in (5):\n",
    "* $k_1$, $k_2$, $k_5$ have the dimension $\\mathrm{time}^{-1}$\n",
    "* $k_3$ has the dimension $\\mathrm{time}^{-1}\\mathrm{molarity}^{-1}$\n",
    "* $k_4$ has the dimension $\\mathrm{molarity}^{-1}$\n",
    "* $\\tau = k_2t$ is dimensionless\n",
    "* $x = \\frac{k_2}{k_3}X$ has the dimension $\\mathrm{molarity}^2$\n",
    "* $y = \\frac{k_2}{k_3}Y$ has the dimension $\\mathrm{molarity}^2$\n",
    "* $a = \\frac{k_5}{k_3}A$ has the dimension $\\mathrm{molarity}^2$\n",
    "* $b = \\frac{k_1}{k_3}B$ has the dimension $\\mathrm{molarity}^2$\n",
    "* $q = k_4\\frac{k_3^2}{k_2^2}$ has the dimension $\\mathrm{molarity}^{-3}$\n",
    "\n",
    "According to these considerations, the derived quantities are not dimensionless (except $\\tau$) as opposed to what is stated in the paper. Yet other papers make the assumption that the concentration variables and constants are given as dimensionless quantities. Under this assumption, the molarity dimension would cancel out, and all the derived variables and constants would indeed be dimensionless."
   ]
  },
  {
   "cell_type": "markdown",
   "id": "fbf12dda-9133-4194-b94f-61706297d337",
   "metadata": {
    "tags": []
   },
   "source": [
    "### Biological interpretation of $a$, $b$ and $q$\n",
    "\n",
    "* $a$ is the molar increase of metabolite $A$ per time unit divided by the reaction rate constant for the metabolism of the nutrient and oxygen (reaction $X + Y \\rightarrow P$)\n",
    "* $b$ is the molar increase of metabolite $B$ per time unit divided by the reaction rate constant for the metabolism of the nutrient and oxygen\n",
    "* $q$ is the **inhibitory effect of oxygen** multiplied with the squared quotient of the reaction rate for the metabolism of the nutrient and oxygen divided by the reverse reaction rate of oxygen to metabolite $B$"
   ]
  },
  {
   "cell_type": "markdown",
   "id": "5d9f6ea4-0350-498e-9fae-8fe91fd76287",
   "metadata": {},
   "source": [
    "### Derivation of the nondimensionalized equations\n",
    "\n",
    "Using the substitutions (5), the equations (2) can be rewritten as follows:\n",
    "$$\n",
    "\\begin{align*}\n",
    "    \\frac{\\mathrm{d}X}{\\mathrm{d}t} &= k_1B - k_2X - \\frac{k_3XY}{(1 + k_4X)^2}\\\\\n",
    "    \\Longrightarrow\\\\\n",
    "    \\frac{\\mathrm{d}(\\frac{k_3}{k_2}x)}{\\mathrm{d}(\\frac{\\tau}{k_2})} &= k_1(\\frac{k_3}{k_1}b) - k_2(\\frac{k_3}{k_2}x) - \\frac{k_3(\\frac{k_3}{k_2}x)(\\frac{k_3}{k_2}y)}{(1 + k_4(\\frac{k_3}{k_2}x))^2}\\\\\n",
    "    \\Longrightarrow\\\\\n",
    "    k_3\\frac{\\mathrm{d}x}{\\mathrm{d}\\tau} &= k_3b - k_3x - k_3\\frac{(\\frac{k_3}{k_2})^2xy}{(1 + k_4\\frac{k_3}{k_2}x)^2}\\\\\n",
    "    \\Longrightarrow\\\\\n",
    "    \\frac{\\mathrm{d}x}{\\mathrm{d}\\tau} &= b - x - \\frac{xy}{(\\frac{k_2}{k_3})^2(1 + k_4\\frac{k_3}{k_2}x)^2}\\\\\n",
    "    \\Longrightarrow\\\\\n",
    "    \\frac{\\mathrm{d}x}{\\mathrm{d}\\tau} &= b - x - \\frac{xy}{(\\frac{k_2}{k_3} + k_4x)^2}\\\\\n",
    "\\end{align*}\n",
    "$$\n",
    "The right-hand side of this equation evaluates to $-\\frac{1}{4}$ when all variables and constants are set to $1$. On the other hand, the corresponding equation (2) evaluates to $-\\frac{1}{2}$ when all variables and constants are $1$. Therefore, I can not transform the original equations (2) to the nondimensionalized equations (3), using the substitutions given in (Fairén, 1979)."
   ]
  },
  {
   "cell_type": "markdown",
   "id": "14187c60-e4c8-4c7f-8b35-9766c014fd73",
   "metadata": {},
   "source": [
    "## Task 2."
   ]
  },
  {
   "cell_type": "code",
   "execution_count": 2,
   "id": "2ba2fc24-5eeb-4011-b1a5-00a9682184fe",
   "metadata": {
    "tags": []
   },
   "outputs": [],
   "source": [
    "# Symbol definitions needed for SymPy\n",
    "x = Symbol(\"x\", real=True)\n",
    "y = Symbol(\"y\", real=True)\n",
    "a = Symbol(\"a\", real=True)\n",
    "b = Symbol(\"b\", real=True)\n",
    "q = Symbol(\"q\", real=True)\n",
    "# Derivative of x with respect to tau\n",
    "xdot = b - x - x * y / (1 + q * x**2)\n",
    "# Derivative of y with respect to tau\n",
    "ydot = a - x * y / (1 + q * x**2)"
   ]
  },
  {
   "cell_type": "code",
   "execution_count": 3,
   "id": "c98b169e-93a3-4d67-be05-44256c811512",
   "metadata": {
    "tags": []
   },
   "outputs": [
    {
     "data": {
      "text/latex": [
       "$\\displaystyle b - \\frac{x y}{q x^{2} + 1} - x$"
      ],
      "text/plain": [
       "b - x*y/(q*x**2 + 1) - x"
      ]
     },
     "execution_count": 3,
     "metadata": {},
     "output_type": "execute_result"
    }
   ],
   "source": [
    "xdot"
   ]
  },
  {
   "cell_type": "code",
   "execution_count": 4,
   "id": "d7d55ed5-b046-42e0-ad60-f4f029954694",
   "metadata": {
    "tags": []
   },
   "outputs": [
    {
     "data": {
      "text/latex": [
       "$\\displaystyle a - \\frac{x y}{q x^{2} + 1}$"
      ],
      "text/plain": [
       "a - x*y/(q*x**2 + 1)"
      ]
     },
     "execution_count": 4,
     "metadata": {},
     "output_type": "execute_result"
    }
   ],
   "source": [
    "ydot"
   ]
  },
  {
   "cell_type": "markdown",
   "id": "f954ead3-dfb6-406c-ae25-650e752908c3",
   "metadata": {},
   "source": [
    "### Stationary states"
   ]
  },
  {
   "cell_type": "markdown",
   "id": "1f666725-a7ef-4a36-9591-1d04a3c296aa",
   "metadata": {},
   "source": [
    "The stationary states of the differential equation system are determined by the function values $\\bar{x}$, $\\bar{y}$ such that for these values (equations (6, 7))\n",
    "$$\n",
    "\\begin{align*}\n",
    "    \\frac{\\mathrm{d}x}{\\mathrm{d}\\tau} &= 0\\\\\n",
    "    \\frac{\\mathrm{d}y}{\\mathrm{d}\\tau} &= 0\\\\\n",
    "\\end{align*}\n",
    "$$\n",
    "Equations (6, 7) yield\n",
    "$$\n",
    "\\begin{align*}\n",
    "    b - x - \\frac{xy}{1 + qx^2} &= a - \\frac{xy}{1 + qx^2}\\\\\n",
    "    \\Longrightarrow\\\\\n",
    "    b - x &= a\\\\\n",
    "    \\Longrightarrow\\\\\n",
    "    x &= b - a\\\\\n",
    "\\end{align*}\n",
    "$$\n",
    "Equation (7) yields\n",
    "$$\n",
    "\\begin{align}\n",
    "    a - \\frac{xy}{1 + qx^2} &= 0\\\\\n",
    "    \\Longrightarrow\\\\\n",
    "    \\frac{xy}{1 + qx^2} &= a\\\\\n",
    "    \\Longrightarrow\\\\\n",
    "    y &= \\frac{a}{x}(1 + qx^2)\\\\\n",
    "\\end{align}\n",
    "$$\n",
    "Therefore, the differential equation system has the steady state (equation 8)\n",
    "$$\n",
    "\\begin{align}\n",
    "    \\bar{x} &= b - a\\\\\n",
    "    \\bar{y} &= \\frac{a}{\\bar{x}}(1 + qx^2)\\\\\n",
    "\\end{align}\n",
    "$$\n",
    "As the value of $x$ must be positive, it follows that $b > a$."
   ]
  },
  {
   "cell_type": "markdown",
   "id": "d7053afa-f2f8-47f4-ada7-037cad389ade",
   "metadata": {},
   "source": [
    "#### Verification with SymPy:"
   ]
  },
  {
   "cell_type": "markdown",
   "id": "0727d865-6bf9-446d-bffa-2695818f285a",
   "metadata": {},
   "source": [
    "Steady state for x:"
   ]
  },
  {
   "cell_type": "code",
   "execution_count": 5,
   "id": "7474f151-2ddc-4ee9-9db4-0aa7768e4f2f",
   "metadata": {
    "tags": []
   },
   "outputs": [],
   "source": [
    "stead_states_x = solveset(f=xdot - ydot, symbol=x)"
   ]
  },
  {
   "cell_type": "code",
   "execution_count": 6,
   "id": "5e6c4551-3c3f-4adb-9461-e854f500a1bc",
   "metadata": {
    "tags": []
   },
   "outputs": [
    {
     "data": {
      "text/latex": [
       "$\\displaystyle \\left\\{- a + b\\right\\}$"
      ],
      "text/plain": [
       "{-a + b}"
      ]
     },
     "execution_count": 6,
     "metadata": {},
     "output_type": "execute_result"
    }
   ],
   "source": [
    "stead_states_x"
   ]
  },
  {
   "cell_type": "markdown",
   "id": "7bad7388-e2b0-4adf-8904-1fc98ed629bb",
   "metadata": {},
   "source": [
    "Steady state for y:"
   ]
  },
  {
   "cell_type": "code",
   "execution_count": 7,
   "id": "0684355b-5f92-4a3f-a2d3-e4677d6d88c0",
   "metadata": {
    "tags": []
   },
   "outputs": [],
   "source": [
    "stead_states_y = solveset(f=ydot, symbol=y)"
   ]
  },
  {
   "cell_type": "code",
   "execution_count": 8,
   "id": "fef00381-673d-4a81-914a-f9f836b59415",
   "metadata": {
    "tags": []
   },
   "outputs": [
    {
     "data": {
      "text/latex": [
       "$\\displaystyle \\left\\{\\frac{a \\left(q x^{2} + 1\\right)}{x}\\right\\}$"
      ],
      "text/plain": [
       "{a*(q*x**2 + 1)/x}"
      ]
     },
     "execution_count": 8,
     "metadata": {},
     "output_type": "execute_result"
    }
   ],
   "source": [
    "stead_states_y"
   ]
  },
  {
   "cell_type": "markdown",
   "id": "b4fa7092-99a6-43cb-bf76-08e4166f0338",
   "metadata": {},
   "source": [
    "### Jacobian matrix"
   ]
  },
  {
   "cell_type": "markdown",
   "id": "a00587f3-f68f-44e0-adfa-c0088cd5dd41",
   "metadata": {
    "tags": []
   },
   "source": [
    "With $f_1 = \\frac{\\mathrm{d}x}{\\mathrm{d}\\tau}$ and $f_2 = \\frac{\\mathrm{d}y}{\\mathrm{d}\\tau}$, the Jacobian matrix is determined by\n",
    "$$\n",
    "\\begin{align*}\n",
    "    A &=\n",
    "    \\begin{pmatrix}\n",
    "    \\frac{\\partial f_1}{\\partial x} & \\frac{\\partial f_1}{\\partial y}\\\\\n",
    "    \\frac{\\partial f_2}{\\partial x} & \\frac{\\partial f_2}{\\partial y}\\\\\n",
    "    \\end{pmatrix}\n",
    "\\end{align*}\n",
    "$$"
   ]
  },
  {
   "cell_type": "markdown",
   "id": "de0daa21-6ca2-46ff-b5dd-c8e5bc79fbee",
   "metadata": {},
   "source": [
    "#### Computing the partial derivatives"
   ]
  },
  {
   "cell_type": "markdown",
   "id": "7eecb0d8-a713-4e78-bd2e-a90462590a00",
   "metadata": {},
   "source": [
    "##### $\\frac{\\partial f_1}{\\partial x}$"
   ]
  },
  {
   "cell_type": "code",
   "execution_count": 9,
   "id": "7a724b0c-07d8-4d45-84e3-e058784ea592",
   "metadata": {
    "tags": []
   },
   "outputs": [],
   "source": [
    "df1_dx = xdot.diff(x).simplify()"
   ]
  },
  {
   "cell_type": "code",
   "execution_count": 10,
   "id": "c24aca32-e453-412d-bf96-be3ceff5d3d0",
   "metadata": {
    "tags": []
   },
   "outputs": [
    {
     "data": {
      "text/latex": [
       "$\\displaystyle \\frac{q x^{2} y}{\\left(q x^{2} + 1\\right)^{2}} - \\frac{y}{\\left(q x^{2} + 1\\right)^{2}} - 1$"
      ],
      "text/plain": [
       "q*x**2*y/(q*x**2 + 1)**2 - y/(q*x**2 + 1)**2 - 1"
      ]
     },
     "execution_count": 10,
     "metadata": {},
     "output_type": "execute_result"
    }
   ],
   "source": [
    "df1_dx"
   ]
  },
  {
   "cell_type": "markdown",
   "id": "79e53c2d-21dc-410c-9135-764f3bf8f5c1",
   "metadata": {},
   "source": [
    "##### $\\frac{\\partial f_1}{\\partial y}$"
   ]
  },
  {
   "cell_type": "code",
   "execution_count": 11,
   "id": "a079d26a-2b7c-4011-aa22-b43fdfe5c9ee",
   "metadata": {
    "tags": []
   },
   "outputs": [],
   "source": [
    "df1_dy = xdot.diff(y).simplify()"
   ]
  },
  {
   "cell_type": "code",
   "execution_count": 12,
   "id": "57b63677-7e09-4279-b0b6-f52bb4bb026c",
   "metadata": {
    "tags": []
   },
   "outputs": [
    {
     "data": {
      "text/latex": [
       "$\\displaystyle - \\frac{x}{q x^{2} + 1}$"
      ],
      "text/plain": [
       "-x/(q*x**2 + 1)"
      ]
     },
     "execution_count": 12,
     "metadata": {},
     "output_type": "execute_result"
    }
   ],
   "source": [
    "df1_dy"
   ]
  },
  {
   "cell_type": "markdown",
   "id": "5b6af3a4-f1cf-46fc-a655-fe3efa29982d",
   "metadata": {},
   "source": [
    "##### $\\frac{\\partial f_2}{\\partial x}$"
   ]
  },
  {
   "cell_type": "code",
   "execution_count": 13,
   "id": "03a9d2d6-b2a9-4170-9723-fbb00822dfad",
   "metadata": {
    "tags": []
   },
   "outputs": [],
   "source": [
    "df2_dx = ydot.diff(x).simplify()"
   ]
  },
  {
   "cell_type": "code",
   "execution_count": 14,
   "id": "2df9cbc6-45c4-4a21-b68b-d6ba26387642",
   "metadata": {
    "tags": []
   },
   "outputs": [
    {
     "data": {
      "text/latex": [
       "$\\displaystyle \\frac{y \\left(q x^{2} - 1\\right)}{\\left(q x^{2} + 1\\right)^{2}}$"
      ],
      "text/plain": [
       "y*(q*x**2 - 1)/(q*x**2 + 1)**2"
      ]
     },
     "execution_count": 14,
     "metadata": {},
     "output_type": "execute_result"
    }
   ],
   "source": [
    "df2_dx"
   ]
  },
  {
   "cell_type": "markdown",
   "id": "8a0e58c7-a456-4580-a893-24ed059cfeaf",
   "metadata": {},
   "source": [
    "##### $\\frac{\\partial f_2}{\\partial y}$"
   ]
  },
  {
   "cell_type": "code",
   "execution_count": 15,
   "id": "7738d27a-4040-43a4-806a-a8991cc5e646",
   "metadata": {
    "tags": []
   },
   "outputs": [],
   "source": [
    "df2_dy = ydot.diff(y).simplify()"
   ]
  },
  {
   "cell_type": "code",
   "execution_count": 16,
   "id": "2a7da19e-1f51-4ea1-977c-65d860539c95",
   "metadata": {
    "tags": []
   },
   "outputs": [
    {
     "data": {
      "text/latex": [
       "$\\displaystyle - \\frac{x}{q x^{2} + 1}$"
      ],
      "text/plain": [
       "-x/(q*x**2 + 1)"
      ]
     },
     "execution_count": 16,
     "metadata": {},
     "output_type": "execute_result"
    }
   ],
   "source": [
    "df2_dy"
   ]
  },
  {
   "cell_type": "markdown",
   "id": "b600d99f-15c5-4696-8abf-4aa5717384e2",
   "metadata": {},
   "source": [
    "#### The computed Jacobian matrix"
   ]
  },
  {
   "cell_type": "code",
   "execution_count": 17,
   "id": "444c1cab-1261-4031-b7d8-7e0b36f3e6b3",
   "metadata": {
    "tags": []
   },
   "outputs": [],
   "source": [
    "A = Matrix([\n",
    "    [df1_dx, df1_dy],\n",
    "    [df2_dx, df2_dy]\n",
    "])"
   ]
  },
  {
   "cell_type": "code",
   "execution_count": 18,
   "id": "6eba7d10-987e-4cd7-9ef9-9d32d7697b8b",
   "metadata": {
    "tags": []
   },
   "outputs": [
    {
     "data": {
      "text/latex": [
       "$\\displaystyle \\left[\\begin{matrix}\\frac{q x^{2} y}{\\left(q x^{2} + 1\\right)^{2}} - \\frac{y}{\\left(q x^{2} + 1\\right)^{2}} - 1 & - \\frac{x}{q x^{2} + 1}\\\\\\frac{y \\left(q x^{2} - 1\\right)}{\\left(q x^{2} + 1\\right)^{2}} & - \\frac{x}{q x^{2} + 1}\\end{matrix}\\right]$"
      ],
      "text/plain": [
       "Matrix([\n",
       "[q*x**2*y/(q*x**2 + 1)**2 - y/(q*x**2 + 1)**2 - 1, -x/(q*x**2 + 1)],\n",
       "[                  y*(q*x**2 - 1)/(q*x**2 + 1)**2, -x/(q*x**2 + 1)]])"
      ]
     },
     "execution_count": 18,
     "metadata": {},
     "output_type": "execute_result"
    }
   ],
   "source": [
    "A"
   ]
  },
  {
   "cell_type": "markdown",
   "id": "a68a318c-5443-4890-a29d-3b1cb1f3537a",
   "metadata": {},
   "source": [
    "### Evaluation of the Jacobian at the steady state"
   ]
  },
  {
   "cell_type": "markdown",
   "id": "a17dc0f7-6f41-42a4-9e25-920d7aaeb474",
   "metadata": {},
   "source": [
    "The Jacobian at the steady state is"
   ]
  },
  {
   "cell_type": "code",
   "execution_count": 19,
   "id": "7e07311d-50d7-48d5-9b45-8ba7eec7140f",
   "metadata": {
    "tags": []
   },
   "outputs": [],
   "source": [
    "y_bar = list(stead_states_y)[0]\n",
    "x_bar = list(stead_states_x)[0]\n",
    "\n",
    "A_ss = Matrix([\n",
    "    [\n",
    "        df1_dx.subs(y, y_bar).subs(x, x_bar).simplify(),\n",
    "        df1_dy.subs(y, y_bar).subs(x, x_bar).simplify()],\n",
    "    [\n",
    "        df2_dx.subs(y, y_bar).subs(x, x_bar).simplify(),\n",
    "        df2_dy.subs(y, y_bar).subs(x, x_bar).simplify()]\n",
    "])"
   ]
  },
  {
   "cell_type": "code",
   "execution_count": 20,
   "id": "d2e41046-f563-42be-b707-9f7d49fd6331",
   "metadata": {
    "tags": []
   },
   "outputs": [
    {
     "data": {
      "text/latex": [
       "$\\displaystyle \\left[\\begin{matrix}\\frac{- a q \\left(a - b\\right)^{2} + a + \\left(- a + b\\right) \\left(q \\left(a - b\\right)^{2} + 1\\right)}{\\left(a - b\\right) \\left(q \\left(a - b\\right)^{2} + 1\\right)} & \\frac{a - b}{q \\left(a - b\\right)^{2} + 1}\\\\- \\frac{a \\left(q \\left(a - b\\right)^{2} - 1\\right)}{\\left(a - b\\right) \\left(q \\left(a - b\\right)^{2} + 1\\right)} & \\frac{a - b}{q \\left(a - b\\right)^{2} + 1}\\end{matrix}\\right]$"
      ],
      "text/plain": [
       "Matrix([\n",
       "[(-a*q*(a - b)**2 + a + (-a + b)*(q*(a - b)**2 + 1))/((a - b)*(q*(a - b)**2 + 1)), (a - b)/(q*(a - b)**2 + 1)],\n",
       "[                              -a*(q*(a - b)**2 - 1)/((a - b)*(q*(a - b)**2 + 1)), (a - b)/(q*(a - b)**2 + 1)]])"
      ]
     },
     "execution_count": 20,
     "metadata": {},
     "output_type": "execute_result"
    }
   ],
   "source": [
    "A_ss"
   ]
  },
  {
   "cell_type": "markdown",
   "id": "dd8a8941-7701-41b6-8ef3-4104343b3f86",
   "metadata": {},
   "source": [
    "### Trace and determinant of the Jacobian at the steady state"
   ]
  },
  {
   "cell_type": "markdown",
   "id": "04ac7820-944d-42d0-9b7f-0cf05731406d",
   "metadata": {},
   "source": [
    "#### Trace of the Jacobian"
   ]
  },
  {
   "cell_type": "markdown",
   "id": "7b924c0e-a959-44a7-b882-780bc77d8a91",
   "metadata": {},
   "source": [
    "The trace $T$ of the Jacobian matrix evaluated at the steady state is"
   ]
  },
  {
   "cell_type": "code",
   "execution_count": 21,
   "id": "d05d32a9-a322-4127-a699-907628582ab6",
   "metadata": {
    "tags": []
   },
   "outputs": [],
   "source": [
    "Trace_A_ss = Trace(A_ss).simplify()"
   ]
  },
  {
   "cell_type": "code",
   "execution_count": 22,
   "id": "7eeff84e-a974-4bb2-9997-3ca2d1f7a7a2",
   "metadata": {
    "tags": []
   },
   "outputs": [
    {
     "data": {
      "text/latex": [
       "$\\displaystyle \\frac{a - b}{q \\left(a - b\\right)^{2} + 1} + \\frac{- a q \\left(a - b\\right)^{2} + a - \\left(a - b\\right) \\left(q \\left(a - b\\right)^{2} + 1\\right)}{\\left(a - b\\right) \\left(q \\left(a - b\\right)^{2} + 1\\right)}$"
      ],
      "text/plain": [
       "(a - b)/(q*(a - b)**2 + 1) + (-a*q*(a - b)**2 + a - (a - b)*(q*(a - b)**2 + 1))/((a - b)*(q*(a - b)**2 + 1))"
      ]
     },
     "execution_count": 22,
     "metadata": {},
     "output_type": "execute_result"
    }
   ],
   "source": [
    "Trace_A_ss"
   ]
  },
  {
   "cell_type": "markdown",
   "id": "86266cbf-a103-44c8-9f2e-44ead801c9b6",
   "metadata": {},
   "source": [
    "#### Determinant of the Jacobian"
   ]
  },
  {
   "cell_type": "markdown",
   "id": "d2fc4c61-3968-40f2-b6f9-7d3d6d1a0fa6",
   "metadata": {},
   "source": [
    "The determinant $\\Delta$ of the Jacobian matrix evaluated at the steady state is"
   ]
  },
  {
   "cell_type": "code",
   "execution_count": 23,
   "id": "647b6713-c3e9-4c9e-8956-36bbf20e4e58",
   "metadata": {
    "tags": []
   },
   "outputs": [],
   "source": [
    "Det_A_ss = A_ss.det()"
   ]
  },
  {
   "cell_type": "code",
   "execution_count": 24,
   "id": "06215f45-2af3-44a9-a68a-2d6f52b17d88",
   "metadata": {
    "tags": []
   },
   "outputs": [
    {
     "data": {
      "text/latex": [
       "$\\displaystyle \\frac{- a + b}{a^{2} q - 2 a b q + b^{2} q + 1}$"
      ],
      "text/plain": [
       "(-a + b)/(a**2*q - 2*a*b*q + b**2*q + 1)"
      ]
     },
     "execution_count": 24,
     "metadata": {},
     "output_type": "execute_result"
    }
   ],
   "source": [
    "Det_A_ss"
   ]
  },
  {
   "cell_type": "markdown",
   "id": "d397c8a7-80ba-4db4-8257-df3936edc93e",
   "metadata": {},
   "source": [
    "### Equations for which $T = 0$ and $T^2 = 4\\Delta$ (solved for $q$)"
   ]
  },
  {
   "cell_type": "markdown",
   "id": "cb6ae71f-8d2b-4714-81dd-e29b7241dab3",
   "metadata": {},
   "source": [
    "#### Equation for $T = 0$"
   ]
  },
  {
   "cell_type": "code",
   "execution_count": 25,
   "id": "11be6c0b-10d2-4182-8acc-2b1b1c7eefb6",
   "metadata": {},
   "outputs": [],
   "source": [
    "Trace_eq_0 = solve(Trace_A_ss, q, dict=True)"
   ]
  },
  {
   "cell_type": "code",
   "execution_count": 26,
   "id": "3ba37178-ed58-4081-a8d0-70eaaafc0ab0",
   "metadata": {
    "tags": []
   },
   "outputs": [
    {
     "data": {
      "text/plain": [
       "[{q: (a**2 - 2*a*b + b**2 + b)/(2*a**3 - 5*a**2*b + 4*a*b**2 - b**3)}]"
      ]
     },
     "execution_count": 26,
     "metadata": {},
     "output_type": "execute_result"
    }
   ],
   "source": [
    "Trace_eq_0"
   ]
  },
  {
   "cell_type": "markdown",
   "id": "54907ed4-ff16-458f-a87d-a3a3ac6f093c",
   "metadata": {},
   "source": [
    "#### Equation for $T^2 = 4\\Delta$"
   ]
  },
  {
   "cell_type": "code",
   "execution_count": 27,
   "id": "8d562421-d65a-44e5-8692-9689f593df94",
   "metadata": {
    "tags": []
   },
   "outputs": [],
   "source": [
    "Trace_sqrd_eq_4det = solve(Trace_A_ss**2 - 4 * Det_A_ss, q, dict=True)"
   ]
  },
  {
   "cell_type": "code",
   "execution_count": 28,
   "id": "70bfc421-5b19-4d4f-878c-3258a094dbd9",
   "metadata": {
    "tags": []
   },
   "outputs": [
    {
     "data": {
      "text/plain": [
       "[{q: (a**4*b - 4*a**3*b**2 + 2*a**3*b + 6*a**2*b**3 - 5*a**2*b**2 - 4*a*b**4 + 4*a*b**3 + b**5 - b**4 - 2*sqrt(-a**10 + 9*a**9*b - 4*a**9 - 36*a**8*b**2 + 30*a**8*b + 84*a**7*b**3 - 98*a**7*b**2 - 126*a**6*b**4 + 182*a**6*b**3 + 126*a**5*b**5 - 210*a**5*b**4 - 84*a**4*b**6 + 154*a**4*b**5 + 36*a**3*b**7 - 70*a**3*b**6 - 9*a**2*b**8 + 18*a**2*b**7 + a*b**9 - 2*a*b**8))/(4*a**6 - 20*a**5*b + 41*a**4*b**2 - 44*a**3*b**3 + 26*a**2*b**4 - 8*a*b**5 + b**6)},\n",
       " {q: (a**4*b - 4*a**3*b**2 + 2*a**3*b + 6*a**2*b**3 - 5*a**2*b**2 - 4*a*b**4 + 4*a*b**3 + b**5 - b**4 + 2*sqrt(-a**10 + 9*a**9*b - 4*a**9 - 36*a**8*b**2 + 30*a**8*b + 84*a**7*b**3 - 98*a**7*b**2 - 126*a**6*b**4 + 182*a**6*b**3 + 126*a**5*b**5 - 210*a**5*b**4 - 84*a**4*b**6 + 154*a**4*b**5 + 36*a**3*b**7 - 70*a**3*b**6 - 9*a**2*b**8 + 18*a**2*b**7 + a*b**9 - 2*a*b**8))/(4*a**6 - 20*a**5*b + 41*a**4*b**2 - 44*a**3*b**3 + 26*a**2*b**4 - 8*a*b**5 + b**6)}]"
      ]
     },
     "execution_count": 28,
     "metadata": {},
     "output_type": "execute_result"
    }
   ],
   "source": [
    "Trace_sqrd_eq_4det"
   ]
  },
  {
   "cell_type": "markdown",
   "id": "f3e93872-43b0-4b01-b5c0-1d707658884a",
   "metadata": {},
   "source": [
    "### Plot the equations for which $T = 0$ and $T^2 = 4\\Delta$ for the fixed value $q = 1$"
   ]
  },
  {
   "cell_type": "markdown",
   "id": "a07ace2f-a431-48a7-a810-37332424f4aa",
   "metadata": {},
   "source": [
    "The trace $T$ of the Jacobian matrix evaluated at the steady state for the fixed value $q = 1$ is"
   ]
  },
  {
   "cell_type": "code",
   "execution_count": 29,
   "id": "37b9b74b-bf31-4af2-9815-a667680a3cd4",
   "metadata": {
    "tags": []
   },
   "outputs": [],
   "source": [
    "Trace_A_ss_q_fix = Trace_A_ss.subs(q, 1).simplify()"
   ]
  },
  {
   "cell_type": "code",
   "execution_count": 30,
   "id": "6cd84ee7-02e9-42ec-885c-d99f6454c315",
   "metadata": {
    "tags": []
   },
   "outputs": [
    {
     "data": {
      "text/latex": [
       "$\\displaystyle \\frac{- a \\left(a - b\\right)^{2} + a + \\left(a - b\\right)^{2} - \\left(a - b\\right) \\left(\\left(a - b\\right)^{2} + 1\\right)}{\\left(a - b\\right) \\left(\\left(a - b\\right)^{2} + 1\\right)}$"
      ],
      "text/plain": [
       "(-a*(a - b)**2 + a + (a - b)**2 - (a - b)*((a - b)**2 + 1))/((a - b)*((a - b)**2 + 1))"
      ]
     },
     "execution_count": 30,
     "metadata": {},
     "output_type": "execute_result"
    }
   ],
   "source": [
    "Trace_A_ss_q_fix"
   ]
  },
  {
   "cell_type": "markdown",
   "id": "4fead3c2-1f72-47c5-998a-325fff840cea",
   "metadata": {},
   "source": [
    "The determinant $\\Delta$ of the Jacobian matrix evaluated at the steady state for the fixed value $q = 1$ is"
   ]
  },
  {
   "cell_type": "code",
   "execution_count": 33,
   "id": "25d29664-9368-4dda-90e7-45078fa5c546",
   "metadata": {
    "tags": []
   },
   "outputs": [],
   "source": [
    "Det_A_ss_q_fix = Det_A_ss.subs(q, 1).simplify()"
   ]
  },
  {
   "cell_type": "code",
   "execution_count": 34,
   "id": "f532748b-53c9-40c1-96f4-e32e360bd1d7",
   "metadata": {
    "tags": []
   },
   "outputs": [
    {
     "data": {
      "text/latex": [
       "$\\displaystyle \\frac{- a + b}{a^{2} - 2 a b + b^{2} + 1}$"
      ],
      "text/plain": [
       "(-a + b)/(a**2 - 2*a*b + b**2 + 1)"
      ]
     },
     "execution_count": 34,
     "metadata": {},
     "output_type": "execute_result"
    }
   ],
   "source": [
    "Det_A_ss_q_fix"
   ]
  },
  {
   "cell_type": "markdown",
   "id": "57ebd9f6-d570-4a12-95d3-d3ca057f1e67",
   "metadata": {},
   "source": [
    "#### Equation for $T = 0$"
   ]
  },
  {
   "cell_type": "code",
   "execution_count": 53,
   "id": "ccf5d972-2fd0-4252-b91a-66a7b6370a5f",
   "metadata": {
    "tags": []
   },
   "outputs": [],
   "source": [
    "Trace_eq_0_q_fix = solve(Trace_A_ss_q_fix, b)"
   ]
  },
  {
   "cell_type": "code",
   "execution_count": 54,
   "id": "311c6f09-c4a3-45ee-b56b-61e4df1cf511",
   "metadata": {
    "tags": []
   },
   "outputs": [
    {
     "data": {
      "text/plain": [
       "[4*a/3 - (-15*a**2 + 6*a + (1 - 4*a)**2 - 3)/(3*(-27*a**3 + 27*a**2/2 + (1 - 4*a)**3 - (9 - 36*a)*(5*a**2 - 2*a + 1)/2 + sqrt(-4*(-15*a**2 + 6*a + (1 - 4*a)**2 - 3)**3 + (-54*a**3 + 27*a**2 + 2*(1 - 4*a)**3 - (9 - 36*a)*(5*a**2 - 2*a + 1))**2)/2)**(1/3)) - (-27*a**3 + 27*a**2/2 + (1 - 4*a)**3 - (9 - 36*a)*(5*a**2 - 2*a + 1)/2 + sqrt(-4*(-15*a**2 + 6*a + (1 - 4*a)**2 - 3)**3 + (-54*a**3 + 27*a**2 + 2*(1 - 4*a)**3 - (9 - 36*a)*(5*a**2 - 2*a + 1))**2)/2)**(1/3)/3 - 1/3,\n",
       " 4*a/3 - (-15*a**2 + 6*a + (1 - 4*a)**2 - 3)/(3*(-1/2 - sqrt(3)*I/2)*(-27*a**3 + 27*a**2/2 + (1 - 4*a)**3 - (9 - 36*a)*(5*a**2 - 2*a + 1)/2 + sqrt(-4*(-15*a**2 + 6*a + (1 - 4*a)**2 - 3)**3 + (-54*a**3 + 27*a**2 + 2*(1 - 4*a)**3 - (9 - 36*a)*(5*a**2 - 2*a + 1))**2)/2)**(1/3)) - (-1/2 - sqrt(3)*I/2)*(-27*a**3 + 27*a**2/2 + (1 - 4*a)**3 - (9 - 36*a)*(5*a**2 - 2*a + 1)/2 + sqrt(-4*(-15*a**2 + 6*a + (1 - 4*a)**2 - 3)**3 + (-54*a**3 + 27*a**2 + 2*(1 - 4*a)**3 - (9 - 36*a)*(5*a**2 - 2*a + 1))**2)/2)**(1/3)/3 - 1/3,\n",
       " 4*a/3 - (-15*a**2 + 6*a + (1 - 4*a)**2 - 3)/(3*(-1/2 + sqrt(3)*I/2)*(-27*a**3 + 27*a**2/2 + (1 - 4*a)**3 - (9 - 36*a)*(5*a**2 - 2*a + 1)/2 + sqrt(-4*(-15*a**2 + 6*a + (1 - 4*a)**2 - 3)**3 + (-54*a**3 + 27*a**2 + 2*(1 - 4*a)**3 - (9 - 36*a)*(5*a**2 - 2*a + 1))**2)/2)**(1/3)) - (-1/2 + sqrt(3)*I/2)*(-27*a**3 + 27*a**2/2 + (1 - 4*a)**3 - (9 - 36*a)*(5*a**2 - 2*a + 1)/2 + sqrt(-4*(-15*a**2 + 6*a + (1 - 4*a)**2 - 3)**3 + (-54*a**3 + 27*a**2 + 2*(1 - 4*a)**3 - (9 - 36*a)*(5*a**2 - 2*a + 1))**2)/2)**(1/3)/3 - 1/3]"
      ]
     },
     "execution_count": 54,
     "metadata": {},
     "output_type": "execute_result"
    }
   ],
   "source": [
    "Trace_eq_0_q_fix"
   ]
  },
  {
   "cell_type": "code",
   "execution_count": 60,
   "id": "51154ead-b2e0-4e48-9e99-68eef8598a9d",
   "metadata": {
    "tags": []
   },
   "outputs": [
    {
     "data": {
      "text/latex": [
       "$\\displaystyle \\frac{4 a}{3} - \\frac{- 15 a^{2} + 6 a + \\left(1 - 4 a\\right)^{2} - 3}{3 \\sqrt[3]{- 27 a^{3} + \\frac{27 a^{2}}{2} + \\left(1 - 4 a\\right)^{3} - \\frac{\\left(9 - 36 a\\right) \\left(5 a^{2} - 2 a + 1\\right)}{2} + \\frac{\\sqrt{- 4 \\left(- 15 a^{2} + 6 a + \\left(1 - 4 a\\right)^{2} - 3\\right)^{3} + \\left(- 54 a^{3} + 27 a^{2} + 2 \\left(1 - 4 a\\right)^{3} - \\left(9 - 36 a\\right) \\left(5 a^{2} - 2 a + 1\\right)\\right)^{2}}}{2}}} - \\frac{\\sqrt[3]{- 27 a^{3} + \\frac{27 a^{2}}{2} + \\left(1 - 4 a\\right)^{3} - \\frac{\\left(9 - 36 a\\right) \\left(5 a^{2} - 2 a + 1\\right)}{2} + \\frac{\\sqrt{- 4 \\left(- 15 a^{2} + 6 a + \\left(1 - 4 a\\right)^{2} - 3\\right)^{3} + \\left(- 54 a^{3} + 27 a^{2} + 2 \\left(1 - 4 a\\right)^{3} - \\left(9 - 36 a\\right) \\left(5 a^{2} - 2 a + 1\\right)\\right)^{2}}}{2}}}{3} - \\frac{1}{3}$"
      ],
      "text/plain": [
       "4*a/3 - (-15*a**2 + 6*a + (1 - 4*a)**2 - 3)/(3*(-27*a**3 + 27*a**2/2 + (1 - 4*a)**3 - (9 - 36*a)*(5*a**2 - 2*a + 1)/2 + sqrt(-4*(-15*a**2 + 6*a + (1 - 4*a)**2 - 3)**3 + (-54*a**3 + 27*a**2 + 2*(1 - 4*a)**3 - (9 - 36*a)*(5*a**2 - 2*a + 1))**2)/2)**(1/3)) - (-27*a**3 + 27*a**2/2 + (1 - 4*a)**3 - (9 - 36*a)*(5*a**2 - 2*a + 1)/2 + sqrt(-4*(-15*a**2 + 6*a + (1 - 4*a)**2 - 3)**3 + (-54*a**3 + 27*a**2 + 2*(1 - 4*a)**3 - (9 - 36*a)*(5*a**2 - 2*a + 1))**2)/2)**(1/3)/3 - 1/3"
      ]
     },
     "execution_count": 60,
     "metadata": {},
     "output_type": "execute_result"
    }
   ],
   "source": [
    "Trace_eq_0_q_fix[0]"
   ]
  },
  {
   "cell_type": "markdown",
   "id": "0dbf6853-6ea7-4d26-80b1-f97e23319455",
   "metadata": {
    "tags": []
   },
   "source": [
    "#### Equation for $T^2 = 4\\Delta$"
   ]
  },
  {
   "cell_type": "markdown",
   "id": "7bb412c8-0183-471e-98e4-0d3d59020e9f",
   "metadata": {},
   "source": [
    "It appears that SymPy does not find any solution for the case $T^2 = 4\\Delta$:"
   ]
  },
  {
   "cell_type": "code",
   "execution_count": 55,
   "id": "c8171f4d-458f-47ad-9547-f570b0081402",
   "metadata": {
    "tags": []
   },
   "outputs": [],
   "source": [
    "Trace_sqrd_eq_4det_q_fix = solve(Trace_A_ss_q_fix**2 - 4 * Det_A_ss_q_fix, b)"
   ]
  },
  {
   "cell_type": "code",
   "execution_count": 56,
   "id": "a8450296-e08e-4ce6-be54-474f01dd9127",
   "metadata": {
    "tags": []
   },
   "outputs": [
    {
     "data": {
      "text/plain": [
       "[]"
      ]
     },
     "execution_count": 56,
     "metadata": {},
     "output_type": "execute_result"
    }
   ],
   "source": [
    "Trace_sqrd_eq_4det_q_fix"
   ]
  },
  {
   "cell_type": "code",
   "execution_count": 66,
   "id": "dbe77c90-ba43-45a5-bc7d-0804523f11cd",
   "metadata": {
    "tags": []
   },
   "outputs": [
    {
     "data": {
      "image/png": "[encoded data removed]",
      "text/plain": [
       "<Figure size 640x480 with 1 Axes>"
      ]
     },
     "metadata": {},
     "output_type": "display_data"
    },
    {
     "data": {
      "text/plain": [
       "<sympy.plotting.plot.Plot at 0x1c95595ecd0>"
      ]
     },
     "execution_count": 66,
     "metadata": {},
     "output_type": "execute_result"
    }
   ],
   "source": [
    "plot(\n",
    "    Trace_eq_0_q_fix[0], (a, 0, 10),\n",
    "    ylabel = \"b\",\n",
    "    title = \"(a, b)-parameter space for T = 0 with q = 1\")"
   ]
  }
 ],
 "metadata": {
  "kernelspec": {
   "display_name": "Python 3 (ipykernel)",
   "language": "python",
   "name": "python3"
  },
  "language_info": {
   "codemirror_mode": {
    "name": "ipython",
    "version": 3
   },
   "file_extension": ".py",
   "mimetype": "text/x-python",
   "name": "python",
   "nbconvert_exporter": "python",
   "pygments_lexer": "ipython3",
   "version": "3.11.3"
  }
 },
 "nbformat": 4,
 "nbformat_minor": 5
}
