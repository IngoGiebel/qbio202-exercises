{
 "cells": [
  {
   "cell_type": "markdown",
   "id": "99820836-5422-4a77-9089-d3ed54224264",
   "metadata": {},
   "source": [
    "# QBio202 - SS 2023 - Exercises 0: Programming Part\n",
    "\n",
    "**Author:** Ingo Giebel, Matr.-Nr.: 3050992"
   ]
  },
  {
   "cell_type": "code",
   "execution_count": 1,
   "id": "fd071360-539f-4d86-bf0d-a1de3f9ba8fa",
   "metadata": {
    "tags": []
   },
   "outputs": [],
   "source": [
    "from collections.abc import Iterator\n",
    "from pydantic import validate_arguments\n",
    "from typing import List\n",
    "\n",
    "import ipytest"
   ]
  },
  {
   "cell_type": "markdown",
   "id": "1c40a798-72c2-4043-b31a-e569c4b4edc3",
   "metadata": {},
   "source": [
    "## Task 4: Function that returns a list containing the first n Fibonacci numbers"
   ]
  },
  {
   "cell_type": "markdown",
   "id": "0cd2a66e-b7b6-40ce-b843-b2a76d6c7646",
   "metadata": {},
   "source": [
    "### Function Definition"
   ]
  },
  {
   "cell_type": "code",
   "execution_count": 2,
   "id": "fa97ddfa-a3a3-4da2-98db-ffe90e86783d",
   "metadata": {
    "tags": []
   },
   "outputs": [],
   "source": [
    "@validate_arguments\n",
    "def fibonacci_iterator(n: int) -> Iterator[int]:\n",
    "    \"\"\"\n",
    "    Returns the first n Fibonacci numbers as an iterator.\n",
    "    \n",
    "    :param n: an integer >= 1\n",
    "    :return: the first n Fibonacci numbers as an iterator\n",
    "    \"\"\"\n",
    "\n",
    "    if not n >= 1:\n",
    "        raise ValueError(f\"n \\\"{n}\\\" must be >= 1 but is not.\")\n",
    " \n",
    "    a, b = 1, 1\n",
    "    for _ in range(n):\n",
    "        yield a\n",
    "        a, b = b, a + b"
   ]
  },
  {
   "cell_type": "code",
   "execution_count": 3,
   "id": "7a20444c-1808-47d9-b0df-a9566de273f3",
   "metadata": {
    "tags": []
   },
   "outputs": [],
   "source": [
    "@validate_arguments\n",
    "def fibonacci_list(n: int) -> List[int]:\n",
    "    \"\"\"\n",
    "    Returns the first n Fibonacci numbers as a list.\n",
    "    \n",
    "    :param n: an integer >= 1\n",
    "    :return: the first n Fibonacci numbers as a list\n",
    "    \"\"\"\n",
    "\n",
    "    return [*fibonacci_iterator(n)]"
   ]
  },
  {
   "cell_type": "markdown",
   "id": "d06ecf90-6902-4205-9be1-135e4248ef80",
   "metadata": {},
   "source": [
    "### Function Test"
   ]
  },
  {
   "cell_type": "code",
   "execution_count": 4,
   "id": "4b096814-dead-4517-8c64-f3234a88de53",
   "metadata": {
    "tags": []
   },
   "outputs": [],
   "source": [
    "def test_fibonacci_list():\n",
    "    assert fibonacci_list(10) == [1, 1, 2, 3, 5, 8, 13, 21, 34, 55]"
   ]
  },
  {
   "cell_type": "code",
   "execution_count": 5,
   "id": "8972949c-f402-4233-b63e-09860932cf50",
   "metadata": {},
   "outputs": [],
   "source": [
    "test_fibonacci_list()"
   ]
  },
  {
   "cell_type": "markdown",
   "id": "c758295b-d39f-4cce-996f-d1c53c871dfa",
   "metadata": {
    "tags": []
   },
   "source": [
    "## Run all tests"
   ]
  },
  {
   "cell_type": "code",
   "execution_count": 6,
   "id": "41e0a442-2f64-46bd-86b9-54d549bff05f",
   "metadata": {
    "tags": []
   },
   "outputs": [
    {
     "name": "stdout",
     "output_type": "stream",
     "text": [
      "\u001b[1m======================================= test session starts =======================================\u001b[0m\n",
      "platform win32 -- Python 3.11.1, pytest-7.2.1, pluggy-1.0.0\n",
      "rootdir: C:\\Users\\ingog\\OneDrive\\B.Sc. Studiengang Quantitative Biology\\Studiengang-Module\\QBio202 - Deterministic Processes in Biology\\Exercises\\SS 2023\n",
      "plugins: anyio-3.6.2\n",
      "collected 1 item\n",
      "\n",
      "t_cade21911cc64eb1ae042626e933ac2a.py \u001b[32m.\u001b[0m\u001b[32m                                                      [100%]\u001b[0m\n",
      "\n",
      "\u001b[32m======================================== \u001b[32m\u001b[1m1 passed\u001b[0m\u001b[32m in 0.02s\u001b[0m\u001b[32m ========================================\u001b[0m\n"
     ]
    },
    {
     "data": {
      "text/plain": [
       "<ExitCode.OK: 0>"
      ]
     },
     "execution_count": 6,
     "metadata": {},
     "output_type": "execute_result"
    }
   ],
   "source": [
    "ipytest.run()"
   ]
  }
 ],
 "metadata": {
  "kernelspec": {
   "display_name": "Python 3 (ipykernel)",
   "language": "python",
   "name": "python3"
  },
  "language_info": {
   "codemirror_mode": {
    "name": "ipython",
    "version": 3
   },
   "file_extension": ".py",
   "mimetype": "text/x-python",
   "name": "python",
   "nbconvert_exporter": "python",
   "pygments_lexer": "ipython3",
   "version": "3.11.1"
  },
  "toc-autonumbering": false,
  "toc-showcode": true,
  "toc-showmarkdowntxt": true,
  "toc-showtags": false
 },
 "nbformat": 4,
 "nbformat_minor": 5
}
